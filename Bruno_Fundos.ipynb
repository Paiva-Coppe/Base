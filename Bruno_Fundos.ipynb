{
  "nbformat": 4,
  "nbformat_minor": 0,
  "metadata": {
    "colab": {
      "name": "Bruno_Fundos.ipynb",
      "provenance": [],
      "collapsed_sections": [],
      "toc_visible": true,
      "authorship_tag": "ABX9TyPkXNCtJ1NAlKyZY2IYNI6A",
      "include_colab_link": true
    },
    "kernelspec": {
      "name": "python3",
      "display_name": "Python 3"
    }
  },
  "cells": [
    {
      "cell_type": "markdown",
      "metadata": {
        "id": "view-in-github",
        "colab_type": "text"
      },
      "source": [
        "<a href=\"https://colab.research.google.com/github/Paiva-Coppe/Base/blob/main/Bruno_Fundos.ipynb\" target=\"_parent\"><img src=\"https://colab.research.google.com/assets/colab-badge.svg\" alt=\"Open In Colab\"/></a>"
      ]
    },
    {
      "cell_type": "markdown",
      "metadata": {
        "id": "VuGP5IqR68Hg"
      },
      "source": [
        ""
      ]
    },
    {
      "cell_type": "code",
      "metadata": {
        "id": "2WT2dKLI6pD8"
      },
      "source": [
        ""
      ],
      "execution_count": null,
      "outputs": []
    },
    {
      "cell_type": "markdown",
      "metadata": {
        "id": "WyModjte69mp"
      },
      "source": [
        "# **Bruno - Programa em Python para Acompanhar os Fundos do Bruno**"
      ]
    },
    {
      "cell_type": "markdown",
      "metadata": {
        "id": "gFsRWzEz7WxJ"
      },
      "source": [
        "**Fonte de dados**\n",
        "Investing é a principal fonte de dados da qual ***investpy*** recupera os dados. Investing é um portal financeiro global e marca na Internet de propriedade da Fusion Media Ltd. que fornece notícias, análises, cotações de streaming, gráficos, dados técnicos e ferramentas financeiras sobre os mercados financeiros globais.\\\n"
      ]
    },
    {
      "cell_type": "markdown",
      "metadata": {
        "id": "31urWb01ICek"
      },
      "source": [
        "## **Instalação e Importação dos Packages**"
      ]
    },
    {
      "cell_type": "code",
      "metadata": {
        "id": "qe06v02KIDPq"
      },
      "source": [
        "# Instalação do API da Investing.com\n",
        "!pip install investpy"
      ],
      "execution_count": null,
      "outputs": []
    },
    {
      "cell_type": "code",
      "metadata": {
        "id": "_A2yIpp5TWun"
      },
      "source": [
        "# Importaçao do pacote de matemática\n",
        "import numpy as np"
      ],
      "execution_count": null,
      "outputs": []
    },
    {
      "cell_type": "code",
      "metadata": {
        "id": "BGXGOiJnqXEg"
      },
      "source": [
        "# importação de Ciência de Dados\n",
        "import pandas as pd"
      ],
      "execution_count": null,
      "outputs": []
    },
    {
      "cell_type": "code",
      "metadata": {
        "id": "Dz55faBYT485"
      },
      "source": [
        "# Importação de pacote gráfico básico\n",
        "import matplotlib.pyplot as plt\n"
      ],
      "execution_count": null,
      "outputs": []
    },
    {
      "cell_type": "code",
      "metadata": {
        "id": "A1pjTSpo8pEs"
      },
      "source": [
        "# Importação de pacote para leitura e gravação de arquivos\n",
        "from google.colab import files"
      ],
      "execution_count": null,
      "outputs": []
    },
    {
      "cell_type": "code",
      "metadata": {
        "id": "o3PBprIZIpHa"
      },
      "source": [
        "# Importação do pacote API do site do investing.com\n",
        "import investpy\n"
      ],
      "execution_count": null,
      "outputs": []
    },
    {
      "cell_type": "markdown",
      "metadata": {
        "id": "ZaKOtriz73Qf"
      },
      "source": [
        "**Recuperação de dados recentes / históricos**\n",
        "A principal funcionalidade do ***investpy*** é recuperar dados históricos dos produtos financeiros indexados. Portanto, funções de recuperação de dados recentes e históricos foram desenvolvidas para recuperar dados do último mês ou de um período de tempo concreto, respectivamente.\n"
      ]
    },
    {
      "cell_type": "markdown",
      "metadata": {
        "id": "MGJb0vRYqM0W"
      },
      "source": [
        " **Relação de todos os Fundos presentes no site Investing.com**\n"
      ]
    },
    {
      "cell_type": "code",
      "metadata": {
        "id": "HN0YM6w0I2lJ",
        "outputId": "6b84d1d4-b5d9-4efc-b4c3-62057108a225",
        "colab": {
          "base_uri": "https://localhost:8080/",
          "height": 419
        }
      },
      "source": [
        "total_de_fundos = investpy.funds.get_funds(country= \"brazil\")\n",
        "total_de_fundos"
      ],
      "execution_count": null,
      "outputs": [
        {
          "output_type": "execute_result",
          "data": {
            "text/html": [
              "<div>\n",
              "<style scoped>\n",
              "    .dataframe tbody tr th:only-of-type {\n",
              "        vertical-align: middle;\n",
              "    }\n",
              "\n",
              "    .dataframe tbody tr th {\n",
              "        vertical-align: top;\n",
              "    }\n",
              "\n",
              "    .dataframe thead th {\n",
              "        text-align: right;\n",
              "    }\n",
              "</style>\n",
              "<table border=\"1\" class=\"dataframe\">\n",
              "  <thead>\n",
              "    <tr style=\"text-align: right;\">\n",
              "      <th></th>\n",
              "      <th>country</th>\n",
              "      <th>name</th>\n",
              "      <th>symbol</th>\n",
              "      <th>issuer</th>\n",
              "      <th>isin</th>\n",
              "      <th>asset_class</th>\n",
              "      <th>currency</th>\n",
              "      <th>underlying</th>\n",
              "    </tr>\n",
              "  </thead>\n",
              "  <tbody>\n",
              "    <tr>\n",
              "      <th>0</th>\n",
              "      <td>brazil</td>\n",
              "      <td>Fundo De Investimento Multimercado Bordeaux Iv...</td>\n",
              "      <td>0P00016ZP9</td>\n",
              "      <td>Itaú DTVM SA</td>\n",
              "      <td>BRBRDXCTF006</td>\n",
              "      <td>other</td>\n",
              "      <td>BRL</td>\n",
              "      <td>None</td>\n",
              "    </tr>\n",
              "    <tr>\n",
              "      <th>1</th>\n",
              "      <td>brazil</td>\n",
              "      <td>Cshg Warrior V Fundo De Investimento Multimerc...</td>\n",
              "      <td>0P0000UESC</td>\n",
              "      <td>Credit Suisse Hedging-Griffo Wealth mgmt S.A.</td>\n",
              "      <td>BRWAR5CTF006</td>\n",
              "      <td>other</td>\n",
              "      <td>BRL</td>\n",
              "      <td>None</td>\n",
              "    </tr>\n",
              "    <tr>\n",
              "      <th>2</th>\n",
              "      <td>brazil</td>\n",
              "      <td>A3 Viking Fi Em Quotas De Fi Multimercado Créd...</td>\n",
              "      <td>0P0000U8PG</td>\n",
              "      <td>A3 Performance Gestão de Recursos Ltda</td>\n",
              "      <td>BRATVKCTF003</td>\n",
              "      <td>other</td>\n",
              "      <td>BRL</td>\n",
              "      <td>None</td>\n",
              "    </tr>\n",
              "    <tr>\n",
              "      <th>3</th>\n",
              "      <td>brazil</td>\n",
              "      <td>Bb Espelho Multimercado Lp J. Safra Absoluto 3...</td>\n",
              "      <td>0P0000U3XJ</td>\n",
              "      <td>BB Gestão de Recursos DTVM SA</td>\n",
              "      <td>BRBBE9CTF007</td>\n",
              "      <td>other</td>\n",
              "      <td>BRL</td>\n",
              "      <td>None</td>\n",
              "    </tr>\n",
              "    <tr>\n",
              "      <th>4</th>\n",
              "      <td>brazil</td>\n",
              "      <td>Ctm Hedge Fundo De Investimento Multimercado -...</td>\n",
              "      <td>0P0000ZO0F</td>\n",
              "      <td>CTM Investimentos Ltda</td>\n",
              "      <td>BRCTM3CTF009</td>\n",
              "      <td>other</td>\n",
              "      <td>BRL</td>\n",
              "      <td>None</td>\n",
              "    </tr>\n",
              "    <tr>\n",
              "      <th>...</th>\n",
              "      <td>...</td>\n",
              "      <td>...</td>\n",
              "      <td>...</td>\n",
              "      <td>...</td>\n",
              "      <td>...</td>\n",
              "      <td>...</td>\n",
              "      <td>...</td>\n",
              "      <td>...</td>\n",
              "    </tr>\n",
              "    <tr>\n",
              "      <th>5195</th>\n",
              "      <td>brazil</td>\n",
              "      <td>Itaú Long And Short 30 Multimercado Fundo De I...</td>\n",
              "      <td>0P0000Y9QN</td>\n",
              "      <td>Itaú Unibanco S.A.</td>\n",
              "      <td>BRLON6CTF005</td>\n",
              "      <td>equity</td>\n",
              "      <td>BRL</td>\n",
              "      <td>None</td>\n",
              "    </tr>\n",
              "    <tr>\n",
              "      <th>5196</th>\n",
              "      <td>brazil</td>\n",
              "      <td>Perfin Equity Hedge Master Fundo De Investimen...</td>\n",
              "      <td>0P0000U98P</td>\n",
              "      <td>Perfin Administração de Recursos Ltda</td>\n",
              "      <td>BRPFN8CTF008</td>\n",
              "      <td>equity</td>\n",
              "      <td>BRL</td>\n",
              "      <td>None</td>\n",
              "    </tr>\n",
              "    <tr>\n",
              "      <th>5197</th>\n",
              "      <td>brazil</td>\n",
              "      <td>Sharp Long Short Fundo De Investimento Multime...</td>\n",
              "      <td>0P0000U5ZC</td>\n",
              "      <td>Gap Equities Gestora de Recursos Ltda</td>\n",
              "      <td>BRGAPLCTF000</td>\n",
              "      <td>equity</td>\n",
              "      <td>BRL</td>\n",
              "      <td>None</td>\n",
              "    </tr>\n",
              "    <tr>\n",
              "      <th>5198</th>\n",
              "      <td>brazil</td>\n",
              "      <td>Itaú Private Long And Short Plus Multimercado ...</td>\n",
              "      <td>0P0000XYFV</td>\n",
              "      <td>Itaú Unibanco S.A.</td>\n",
              "      <td>BRIPL2CTF000</td>\n",
              "      <td>equity</td>\n",
              "      <td>BRL</td>\n",
              "      <td>None</td>\n",
              "    </tr>\n",
              "    <tr>\n",
              "      <th>5199</th>\n",
              "      <td>brazil</td>\n",
              "      <td>Arx Extra Fundo De Investimento Em Cotas De Fu...</td>\n",
              "      <td>0P0000TLKQ</td>\n",
              "      <td>ARX Investimentos Ltda</td>\n",
              "      <td>BRARXECTF006</td>\n",
              "      <td>equity</td>\n",
              "      <td>BRL</td>\n",
              "      <td>None</td>\n",
              "    </tr>\n",
              "  </tbody>\n",
              "</table>\n",
              "<p>5200 rows × 8 columns</p>\n",
              "</div>"
            ],
            "text/plain": [
              "     country  ... underlying\n",
              "0     brazil  ...       None\n",
              "1     brazil  ...       None\n",
              "2     brazil  ...       None\n",
              "3     brazil  ...       None\n",
              "4     brazil  ...       None\n",
              "...      ...  ...        ...\n",
              "5195  brazil  ...       None\n",
              "5196  brazil  ...       None\n",
              "5197  brazil  ...       None\n",
              "5198  brazil  ...       None\n",
              "5199  brazil  ...       None\n",
              "\n",
              "[5200 rows x 8 columns]"
            ]
          },
          "metadata": {
            "tags": []
          },
          "execution_count": 6
        }
      ]
    },
    {
      "cell_type": "code",
      "metadata": {
        "id": "JCO3HC9OTM19",
        "outputId": "860037ed-f0af-4e7d-e226-14586091093e",
        "colab": {
          "base_uri": "https://localhost:8080/",
          "height": 34
        }
      },
      "source": [
        "len(total_de_fundos)"
      ],
      "execution_count": null,
      "outputs": [
        {
          "output_type": "execute_result",
          "data": {
            "text/plain": [
              "5200"
            ]
          },
          "metadata": {
            "tags": []
          },
          "execution_count": 8
        }
      ]
    },
    {
      "cell_type": "markdown",
      "metadata": {
        "id": "NW0wSqlWUPet"
      },
      "source": [
        "##**Carteira Atual dos Fundos do Bruno**"
      ]
    },
    {
      "cell_type": "markdown",
      "metadata": {
        "id": "f361WrzXDZYl"
      },
      "source": [
        "**Lista dos fundos do Bruno em 24-10-2020**"
      ]
    },
    {
      "cell_type": "code",
      "metadata": {
        "id": "BnAapwo8iAWF"
      },
      "source": [
        "# Lista dos fundos do Bruno em 24/10/2020\n",
        "\n",
        "tickers = [\"Logos Fundo De Investimento Multimercado Investimento No Exterior\",\n",
        "           \"Pacifico Lb Fundo De Investimento Em Cotas De Fundos De Investimento Multimercado\",\n",
        "           \"Tarpon Gt Fundo De Investimento Em Cotas De Fundos De Investimento Em Ações\",\n",
        "           \"Alaska Black Fundo De Investimento Em Cotas De Fundos De Investimento Em Ações Ii - Bdr Nível I\",\n",
        "           \"Alaska Black Institucional Fundo De Investimento De Acoes\",\n",
        "           \"Equitas Selection Fundo De Investimento Em Cotas De Fundos De Investimento De Ações\",\n",
        "           \"Moat Capital Fundo De Investimento Em Cotas De Fundo De Investimento Em Ações\",\n",
        "           \"Joule Value Fundo De Investimento Em Ações\",\n",
        "           \"Real Investor Fundo De Investimento Em Ações\",\n",
        "           \"Forpus Ações Fundo De Investimento Em Cotas De Fundos De Investimento De Ações\",\n",
        "           \"Ibiuna Long Biased Fundo De Investimento Em Cotas De Fundos De Investimento Multimercado\"]"
      ],
      "execution_count": null,
      "outputs": []
    },
    {
      "cell_type": "markdown",
      "metadata": {
        "id": "xDSTQC6HD0Fi"
      },
      "source": [
        "**Obtenção dos Dados Históricos**\n",
        "\n"
      ]
    },
    {
      "cell_type": "code",
      "metadata": {
        "id": "J4LB88UrxsoK"
      },
      "source": [
        "# Datas da Interesses dos Dados\n",
        "data_inicio = \"01/01/1900\"\n",
        "data_fim = \"24/10/2020\"\n",
        "\n",
        "# Criação de um Dataframe vazio\n",
        "carteira_hd = pd.DataFrame()\n",
        "\n",
        "# Coleta dos Dados\n",
        "for ticker in tickers:\n",
        "  carteira_hd[ticker] = investpy.funds.get_fund_historical_data ( fund = ticker , country = \"brazil\" , from_date = data_inicio , to_date = data_fim , as_json = False , order = 'ascending' , interval = 'Daily' )['Close']\n"
      ],
      "execution_count": null,
      "outputs": []
    },
    {
      "cell_type": "code",
      "metadata": {
        "id": "TE3X-Gf9Xi2U",
        "outputId": "4492cbfb-c5f6-49d7-96d4-1c145dbbcffe",
        "colab": {
          "base_uri": "https://localhost:8080/",
          "height": 357
        }
      },
      "source": [
        "\n",
        "carteira_hd.head()"
      ],
      "execution_count": null,
      "outputs": [
        {
          "output_type": "execute_result",
          "data": {
            "text/html": [
              "<div>\n",
              "<style scoped>\n",
              "    .dataframe tbody tr th:only-of-type {\n",
              "        vertical-align: middle;\n",
              "    }\n",
              "\n",
              "    .dataframe tbody tr th {\n",
              "        vertical-align: top;\n",
              "    }\n",
              "\n",
              "    .dataframe thead th {\n",
              "        text-align: right;\n",
              "    }\n",
              "</style>\n",
              "<table border=\"1\" class=\"dataframe\">\n",
              "  <thead>\n",
              "    <tr style=\"text-align: right;\">\n",
              "      <th></th>\n",
              "      <th>Logos Fundo De Investimento Multimercado Investimento No Exterior</th>\n",
              "      <th>Pacifico Lb Fundo De Investimento Em Cotas De Fundos De Investimento Multimercado</th>\n",
              "      <th>Tarpon Gt Fundo De Investimento Em Cotas De Fundos De Investimento Em Ações</th>\n",
              "      <th>Alaska Black Fundo De Investimento Em Cotas De Fundos De Investimento Em Ações Ii - Bdr Nível I</th>\n",
              "      <th>Alaska Black Institucional Fundo De Investimento De Acoes</th>\n",
              "      <th>Equitas Selection Fundo De Investimento Em Cotas De Fundos De Investimento De Ações</th>\n",
              "      <th>Moat Capital Fundo De Investimento Em Cotas De Fundo De Investimento Em Ações</th>\n",
              "      <th>Joule Value Fundo De Investimento Em Ações</th>\n",
              "      <th>Real Investor Fundo De Investimento Em Ações</th>\n",
              "      <th>Forpus Ações Fundo De Investimento Em Cotas De Fundos De Investimento De Ações</th>\n",
              "      <th>Ibiuna Long Biased Fundo De Investimento Em Cotas De Fundos De Investimento Multimercado</th>\n",
              "    </tr>\n",
              "  </thead>\n",
              "  <tbody>\n",
              "    <tr>\n",
              "      <th>2018-11-21</th>\n",
              "      <td>335.276</td>\n",
              "      <td>2.173</td>\n",
              "      <td>5.252</td>\n",
              "      <td>NaN</td>\n",
              "      <td>2.000</td>\n",
              "      <td>4.692</td>\n",
              "      <td>NaN</td>\n",
              "      <td>NaN</td>\n",
              "      <td>NaN</td>\n",
              "      <td>NaN</td>\n",
              "      <td>NaN</td>\n",
              "    </tr>\n",
              "    <tr>\n",
              "      <th>2018-11-22</th>\n",
              "      <td>335.586</td>\n",
              "      <td>2.174</td>\n",
              "      <td>5.277</td>\n",
              "      <td>NaN</td>\n",
              "      <td>2.022</td>\n",
              "      <td>4.732</td>\n",
              "      <td>2.669</td>\n",
              "      <td>NaN</td>\n",
              "      <td>8.773</td>\n",
              "      <td>2.947</td>\n",
              "      <td>211.429</td>\n",
              "    </tr>\n",
              "    <tr>\n",
              "      <th>2018-11-23</th>\n",
              "      <td>334.713</td>\n",
              "      <td>2.149</td>\n",
              "      <td>5.244</td>\n",
              "      <td>NaN</td>\n",
              "      <td>1.990</td>\n",
              "      <td>4.689</td>\n",
              "      <td>2.648</td>\n",
              "      <td>NaN</td>\n",
              "      <td>8.720</td>\n",
              "      <td>2.933</td>\n",
              "      <td>209.187</td>\n",
              "    </tr>\n",
              "    <tr>\n",
              "      <th>2018-11-26</th>\n",
              "      <td>332.823</td>\n",
              "      <td>2.146</td>\n",
              "      <td>5.225</td>\n",
              "      <td>NaN</td>\n",
              "      <td>1.970</td>\n",
              "      <td>4.640</td>\n",
              "      <td>2.636</td>\n",
              "      <td>2.997</td>\n",
              "      <td>8.671</td>\n",
              "      <td>2.857</td>\n",
              "      <td>207.844</td>\n",
              "    </tr>\n",
              "    <tr>\n",
              "      <th>2018-11-27</th>\n",
              "      <td>334.524</td>\n",
              "      <td>2.173</td>\n",
              "      <td>5.312</td>\n",
              "      <td>NaN</td>\n",
              "      <td>2.023</td>\n",
              "      <td>4.781</td>\n",
              "      <td>2.685</td>\n",
              "      <td>3.046</td>\n",
              "      <td>8.833</td>\n",
              "      <td>2.945</td>\n",
              "      <td>212.717</td>\n",
              "    </tr>\n",
              "  </tbody>\n",
              "</table>\n",
              "</div>"
            ],
            "text/plain": [
              "            Logos Fundo De Investimento Multimercado Investimento No Exterior  ...  Ibiuna Long Biased Fundo De Investimento Em Cotas De Fundos De Investimento Multimercado\n",
              "2018-11-21                                            335.276                  ...                                                NaN                                       \n",
              "2018-11-22                                            335.586                  ...                                            211.429                                       \n",
              "2018-11-23                                            334.713                  ...                                            209.187                                       \n",
              "2018-11-26                                            332.823                  ...                                            207.844                                       \n",
              "2018-11-27                                            334.524                  ...                                            212.717                                       \n",
              "\n",
              "[5 rows x 11 columns]"
            ]
          },
          "metadata": {
            "tags": []
          },
          "execution_count": 20
        }
      ]
    },
    {
      "cell_type": "code",
      "metadata": {
        "id": "YNG3nag5Xm3D",
        "outputId": "82d1bd15-5ec0-41ad-9034-1db0e878df6f",
        "colab": {
          "base_uri": "https://localhost:8080/",
          "height": 357
        }
      },
      "source": [
        "\n",
        "carteira_hd.tail()"
      ],
      "execution_count": null,
      "outputs": [
        {
          "output_type": "execute_result",
          "data": {
            "text/html": [
              "<div>\n",
              "<style scoped>\n",
              "    .dataframe tbody tr th:only-of-type {\n",
              "        vertical-align: middle;\n",
              "    }\n",
              "\n",
              "    .dataframe tbody tr th {\n",
              "        vertical-align: top;\n",
              "    }\n",
              "\n",
              "    .dataframe thead th {\n",
              "        text-align: right;\n",
              "    }\n",
              "</style>\n",
              "<table border=\"1\" class=\"dataframe\">\n",
              "  <thead>\n",
              "    <tr style=\"text-align: right;\">\n",
              "      <th></th>\n",
              "      <th>Logos Fundo De Investimento Multimercado Investimento No Exterior</th>\n",
              "      <th>Pacifico Lb Fundo De Investimento Em Cotas De Fundos De Investimento Multimercado</th>\n",
              "      <th>Tarpon Gt Fundo De Investimento Em Cotas De Fundos De Investimento Em Ações</th>\n",
              "      <th>Alaska Black Fundo De Investimento Em Cotas De Fundos De Investimento Em Ações Ii - Bdr Nível I</th>\n",
              "      <th>Alaska Black Institucional Fundo De Investimento De Acoes</th>\n",
              "      <th>Equitas Selection Fundo De Investimento Em Cotas De Fundos De Investimento De Ações</th>\n",
              "      <th>Moat Capital Fundo De Investimento Em Cotas De Fundo De Investimento Em Ações</th>\n",
              "      <th>Joule Value Fundo De Investimento Em Ações</th>\n",
              "      <th>Real Investor Fundo De Investimento Em Ações</th>\n",
              "      <th>Forpus Ações Fundo De Investimento Em Cotas De Fundos De Investimento De Ações</th>\n",
              "      <th>Ibiuna Long Biased Fundo De Investimento Em Cotas De Fundos De Investimento Multimercado</th>\n",
              "    </tr>\n",
              "  </thead>\n",
              "  <tbody>\n",
              "    <tr>\n",
              "      <th>2020-10-16</th>\n",
              "      <td>443.596</td>\n",
              "      <td>2.900</td>\n",
              "      <td>8.673</td>\n",
              "      <td>1.396</td>\n",
              "      <td>2.348</td>\n",
              "      <td>5.664</td>\n",
              "      <td>3.588</td>\n",
              "      <td>5.064</td>\n",
              "      <td>13.379</td>\n",
              "      <td>5.102</td>\n",
              "      <td>259.945</td>\n",
              "    </tr>\n",
              "    <tr>\n",
              "      <th>2020-10-19</th>\n",
              "      <td>456.049</td>\n",
              "      <td>2.902</td>\n",
              "      <td>8.688</td>\n",
              "      <td>1.412</td>\n",
              "      <td>2.349</td>\n",
              "      <td>5.682</td>\n",
              "      <td>3.581</td>\n",
              "      <td>5.039</td>\n",
              "      <td>13.427</td>\n",
              "      <td>5.064</td>\n",
              "      <td>258.926</td>\n",
              "    </tr>\n",
              "    <tr>\n",
              "      <th>2020-10-20</th>\n",
              "      <td>453.612</td>\n",
              "      <td>2.935</td>\n",
              "      <td>8.699</td>\n",
              "      <td>1.445</td>\n",
              "      <td>2.380</td>\n",
              "      <td>5.802</td>\n",
              "      <td>3.676</td>\n",
              "      <td>5.095</td>\n",
              "      <td>13.659</td>\n",
              "      <td>5.108</td>\n",
              "      <td>263.359</td>\n",
              "    </tr>\n",
              "    <tr>\n",
              "      <th>2020-10-21</th>\n",
              "      <td>455.148</td>\n",
              "      <td>2.947</td>\n",
              "      <td>8.686</td>\n",
              "      <td>1.436</td>\n",
              "      <td>2.383</td>\n",
              "      <td>5.832</td>\n",
              "      <td>3.680</td>\n",
              "      <td>5.068</td>\n",
              "      <td>13.820</td>\n",
              "      <td>5.126</td>\n",
              "      <td>263.815</td>\n",
              "    </tr>\n",
              "    <tr>\n",
              "      <th>2020-10-22</th>\n",
              "      <td>452.706</td>\n",
              "      <td>2.939</td>\n",
              "      <td>8.700</td>\n",
              "      <td>1.436</td>\n",
              "      <td>2.382</td>\n",
              "      <td>5.832</td>\n",
              "      <td>3.743</td>\n",
              "      <td>5.037</td>\n",
              "      <td>13.905</td>\n",
              "      <td>5.116</td>\n",
              "      <td>264.669</td>\n",
              "    </tr>\n",
              "  </tbody>\n",
              "</table>\n",
              "</div>"
            ],
            "text/plain": [
              "            Logos Fundo De Investimento Multimercado Investimento No Exterior  ...  Ibiuna Long Biased Fundo De Investimento Em Cotas De Fundos De Investimento Multimercado\n",
              "2020-10-16                                            443.596                  ...                                            259.945                                       \n",
              "2020-10-19                                            456.049                  ...                                            258.926                                       \n",
              "2020-10-20                                            453.612                  ...                                            263.359                                       \n",
              "2020-10-21                                            455.148                  ...                                            263.815                                       \n",
              "2020-10-22                                            452.706                  ...                                            264.669                                       \n",
              "\n",
              "[5 rows x 11 columns]"
            ]
          },
          "metadata": {
            "tags": []
          },
          "execution_count": 21
        }
      ]
    },
    {
      "cell_type": "markdown",
      "metadata": {
        "id": "Y5wRgl4-ERTO"
      },
      "source": [
        "**Obtenção dos Dados Recentes**"
      ]
    },
    {
      "cell_type": "code",
      "metadata": {
        "id": "XpT8FDOcYCNj"
      },
      "source": [
        "\n",
        "carteira_rd = pd.DataFrame()\n",
        "\n",
        "for ticker in tickers:\n",
        "  carteira_rd[ticker] = investpy.funds.get_fund_recent_data ( ticker , country = \"brazil\" , as_json = False , order = 'ascending' , interval = 'Daily' )['Close']\n"
      ],
      "execution_count": null,
      "outputs": []
    },
    {
      "cell_type": "code",
      "metadata": {
        "id": "FbtiS5evYRPg"
      },
      "source": [
        "carteira_rd.head()"
      ],
      "execution_count": null,
      "outputs": []
    },
    {
      "cell_type": "code",
      "metadata": {
        "id": "b25uPqyuYSSG"
      },
      "source": [
        "carteira_rd.tail()"
      ],
      "execution_count": null,
      "outputs": []
    },
    {
      "cell_type": "markdown",
      "metadata": {
        "id": "oe0kgiBr8y_B"
      },
      "source": [
        "### **Para Excel**\n",
        "\n"
      ]
    },
    {
      "cell_type": "code",
      "metadata": {
        "id": "0FigC7HQm6kN",
        "outputId": "79026756-0122-4677-8725-2ebe8613323e",
        "colab": {
          "base_uri": "https://localhost:8080/",
          "height": 17
        }
      },
      "source": [
        "carteira_hd.to_excel(\"carteira_hd.xlsx\",)\n",
        "files.download('carteira_hd.xlsx',)"
      ],
      "execution_count": null,
      "outputs": [
        {
          "output_type": "display_data",
          "data": {
            "application/javascript": [
              "\n",
              "    async function download(id, filename, size) {\n",
              "      if (!google.colab.kernel.accessAllowed) {\n",
              "        return;\n",
              "      }\n",
              "      const div = document.createElement('div');\n",
              "      const label = document.createElement('label');\n",
              "      label.textContent = `Downloading \"${filename}\": `;\n",
              "      div.appendChild(label);\n",
              "      const progress = document.createElement('progress');\n",
              "      progress.max = size;\n",
              "      div.appendChild(progress);\n",
              "      document.body.appendChild(div);\n",
              "\n",
              "      const buffers = [];\n",
              "      let downloaded = 0;\n",
              "\n",
              "      const channel = await google.colab.kernel.comms.open(id);\n",
              "      // Send a message to notify the kernel that we're ready.\n",
              "      channel.send({})\n",
              "\n",
              "      for await (const message of channel.messages) {\n",
              "        // Send a message to notify the kernel that we're ready.\n",
              "        channel.send({})\n",
              "        if (message.buffers) {\n",
              "          for (const buffer of message.buffers) {\n",
              "            buffers.push(buffer);\n",
              "            downloaded += buffer.byteLength;\n",
              "            progress.value = downloaded;\n",
              "          }\n",
              "        }\n",
              "      }\n",
              "      const blob = new Blob(buffers, {type: 'application/binary'});\n",
              "      const a = document.createElement('a');\n",
              "      a.href = window.URL.createObjectURL(blob);\n",
              "      a.download = filename;\n",
              "      div.appendChild(a);\n",
              "      a.click();\n",
              "      div.remove();\n",
              "    }\n",
              "  "
            ],
            "text/plain": [
              "<IPython.core.display.Javascript object>"
            ]
          },
          "metadata": {
            "tags": []
          }
        },
        {
          "output_type": "display_data",
          "data": {
            "application/javascript": [
              "download(\"download_941c0e84-cad3-4322-984d-a3e56c8d2e5a\", \"carteira_hd.xlsx\", 39616)"
            ],
            "text/plain": [
              "<IPython.core.display.Javascript object>"
            ]
          },
          "metadata": {
            "tags": []
          }
        }
      ]
    },
    {
      "cell_type": "code",
      "metadata": {
        "id": "jg0LOwhPYWDB",
        "outputId": "b3fa45ff-1fad-4ac7-c899-8c9ef0e481a9",
        "colab": {
          "base_uri": "https://localhost:8080/",
          "height": 17
        }
      },
      "source": [
        "carteira_rd.to_excel(\"carteira_rd.xlsx\",)\n",
        "files.download('carteira_rd.xlsx',)"
      ],
      "execution_count": null,
      "outputs": [
        {
          "output_type": "display_data",
          "data": {
            "application/javascript": [
              "\n",
              "    async function download(id, filename, size) {\n",
              "      if (!google.colab.kernel.accessAllowed) {\n",
              "        return;\n",
              "      }\n",
              "      const div = document.createElement('div');\n",
              "      const label = document.createElement('label');\n",
              "      label.textContent = `Downloading \"${filename}\": `;\n",
              "      div.appendChild(label);\n",
              "      const progress = document.createElement('progress');\n",
              "      progress.max = size;\n",
              "      div.appendChild(progress);\n",
              "      document.body.appendChild(div);\n",
              "\n",
              "      const buffers = [];\n",
              "      let downloaded = 0;\n",
              "\n",
              "      const channel = await google.colab.kernel.comms.open(id);\n",
              "      // Send a message to notify the kernel that we're ready.\n",
              "      channel.send({})\n",
              "\n",
              "      for await (const message of channel.messages) {\n",
              "        // Send a message to notify the kernel that we're ready.\n",
              "        channel.send({})\n",
              "        if (message.buffers) {\n",
              "          for (const buffer of message.buffers) {\n",
              "            buffers.push(buffer);\n",
              "            downloaded += buffer.byteLength;\n",
              "            progress.value = downloaded;\n",
              "          }\n",
              "        }\n",
              "      }\n",
              "      const blob = new Blob(buffers, {type: 'application/binary'});\n",
              "      const a = document.createElement('a');\n",
              "      a.href = window.URL.createObjectURL(blob);\n",
              "      a.download = filename;\n",
              "      div.appendChild(a);\n",
              "      a.click();\n",
              "      div.remove();\n",
              "    }\n",
              "  "
            ],
            "text/plain": [
              "<IPython.core.display.Javascript object>"
            ]
          },
          "metadata": {
            "tags": []
          }
        },
        {
          "output_type": "display_data",
          "data": {
            "application/javascript": [
              "download(\"download_962d9409-b126-49d7-8d7e-c0acd229f49a\", \"carteira_rd.xlsx\", 6765)"
            ],
            "text/plain": [
              "<IPython.core.display.Javascript object>"
            ]
          },
          "metadata": {
            "tags": []
          }
        }
      ]
    },
    {
      "cell_type": "markdown",
      "metadata": {
        "id": "Qo815gOrE00x"
      },
      "source": [
        "##**Relação Atual dos Índices do Investing.com**"
      ]
    }
  ]
}