{
  "nbformat": 4,
  "nbformat_minor": 0,
  "metadata": {
    "colab": {
      "name": "InvestPy_Package.ipynb",
      "provenance": [],
      "collapsed_sections": [
        "x2aakCxBinrS",
        "YyCV4jKgrczF",
        "w6XNAY8JyKiT",
        "1Z9w32iqylpI"
      ],
      "toc_visible": true,
      "authorship_tag": "ABX9TyPy1zFy3fa9Ofl5+os2WuUN",
      "include_colab_link": true
    },
    "kernelspec": {
      "name": "python3",
      "display_name": "Python 3"
    }
  },
  "cells": [
    {
      "cell_type": "markdown",
      "metadata": {
        "id": "view-in-github",
        "colab_type": "text"
      },
      "source": [
        "<a href=\"https://colab.research.google.com/github/Paiva-Coppe/Base/blob/main/InvestPy_Package.ipynb\" target=\"_parent\"><img src=\"https://colab.research.google.com/assets/colab-badge.svg\" alt=\"Open In Colab\"/></a>"
      ]
    },
    {
      "cell_type": "code",
      "metadata": {
        "id": "JPg6j-LvHXyO"
      },
      "source": [
        "### https://pypi.org/project/investpy/"
      ],
      "execution_count": null,
      "outputs": []
    },
    {
      "cell_type": "markdown",
      "metadata": {
        "id": "Zztlqj85HnDY"
      },
      "source": [
        "#Introdução\n",
        "***investpy*** é um pacote Python desenvolvido para recuperar todos os dados históricos disponíveis de ações / ações, fundos e ETFs de **Investing.com**. Como a Investing.com não possui API para recuperação de dados históricos, o principal objetivo deste pacote é permitir que os usuários recuperem informações de todos os produtos financeiros disponíveis.\\\n",
        "A ***investpy*** nasceu da necessidade de cobrir as lacunas existentes em termos de recuperação de dados em tempo real das ações das empresas que integram a Bolsa Espanhola, até à data não existia outro pacote que fornecesse um modelo de extração de dados para as ações da o mercado de ações espanhol.\\\n",
        "Com o passar do tempo, foi decidido como a ***investpy*** poderia ser melhorada, e como se esperava que o pacote tivesse uma alta escalabilidade e, assim, cobrir todas as possibilidades de dados oferecidas por Investir ao público, a ***investpy*** está agora tentando expandir os dados que recupera para torná-lo mais útil.\\\n",
        "Ao longo deste documento, algumas características relevantes do ***investpy*** serão classificadas e suas funções serão explicadas a fim de esclarecer seu uso.\n",
        "\n",
        "\\\n",
        "\n",
        "---\n",
        "**Nota**\n",
        ">Para começar a usar o ***investpy***, você precisará instalá-lo.\n",
        "---"
      ]
    },
    {
      "cell_type": "markdown",
      "metadata": {
        "id": "Il9GDEj2I23r"
      },
      "source": [
        "##Começando\n",
        "Depois de instalar o investpy , você pode continuar a usar o pacote. A primeira etapa é importá-lo na parte superior do seu arquivo Python como:\n",
        "\n",
        "```\n",
        "import investpy\n",
        "```\n",
        "Atualmente, as principais funções de ***investpy*** suportam a recuperação de dados históricos de ações, fundos e ETFs de todo o mundo (conforme indexado em Investing.com). Além da recuperação de dados históricos, a ***investpy*** também oferece recuperação de dados adicionais relacionados aos produtos financeiros indexados.\\\n",
        "Para esclarecer estes conceitos, algumas funções de investimento serão apresentadas, embora todas elas sejam devidamente explicadas e classificadas em seus respectivos apêndices na documentação ou na Referência da API. Por exemplo, é apresentado um bloco de código para testar o uso do investimento:\n",
        "\n",
        "```\n",
        "import investpy\n",
        "\n",
        "# Retrieve all the available stocks as a Python list\n",
        "stocks = investpy.get_stocks_list()\n",
        "\n",
        "# Retrieve the recent historical data (past month) of a stock as a pandas.DataFrame on ascending date order\n",
        "df = investpy.get_stock_recent_data(stock='bbva', country='spain', as_json=False, order='ascending')\n",
        "\n",
        "# Retrieve the company profile of the introduced stock on english\n",
        "profile = investpy.get_stock_company_profile(stock='bbva', country='spain', language='english')\n",
        "```\n",
        "\n"
      ]
    },
    {
      "cell_type": "markdown",
      "metadata": {
        "id": "QiTiJj8fL8A_"
      },
      "source": [
        "##Fonte de dados\n",
        "Investing é a principal fonte de dados da qual ***investpy*** recupera os dados. Investing é um portal financeiro global e marca na Internet de propriedade da Fusion Media Ltd. que fornece notícias, análises, cotações de streaming, gráficos, dados técnicos e ferramentas financeiras sobre os mercados financeiros globais.\\\n",
        "Assim, a decisão de escolher Investing como fonte de dados se baseia na sua confiabilidade e também por ser uma das poucas páginas da web que fornece dados detalhados do mercado espanhol, pois foi o foco principal na determinação do desenvolvimento do pacote conforme explicado anteriormente."
      ]
    },
    {
      "cell_type": "markdown",
      "metadata": {
        "id": "tPckCCkBMjSo"
      },
      "source": [
        "#Instalação\n",
        "\\\n",
        "\n",
        "---\n",
        "**Nota**\n",
        "\n",
        ">Depois de instalar o pacote, você estará disponível para usá-lo! Como a versão mais recente da ***investpy*** é 0.9.8, a instalação é otimizada para ela. Se você tentar instalar outra versão investpy, alguns recursos podem não funcionar.\n",
        "---"
      ]
    },
    {
      "cell_type": "markdown",
      "metadata": {
        "id": "Uc7qcAPMNOLp"
      },
      "source": [
        "##Primeira Instalação\n",
        "Para que este pacote funcione, você precisará instalá-lo em sua última versão. Para instalar o pacote de qualquer maneira, você precisará ter uma versão Python 3.x instalada e pip ou conda, para que possa instalar pacotes Python do PyPI e do Anaconda Cloud, respectivamente. Portanto, para instalar a versão mais recente do ***investpy*** , você pode fazer isso:\n",
        "\n",
        "* via Python Package Indexer (PyPI):\n",
        "```\n",
        "$ python -m pip install investpy\n",
        "```\n",
        "* via nuvem Anaconda:\n",
        "```\n",
        "$ conda install investpy\n",
        "```\n",
        "* do GitHub via PyPI:\n",
        "```\n",
        "$ python -m pip install https://github.com/alvarobartt/investpy/archive/master.zip\n",
        "```\n",
        "* do Google Colab:\n",
        "```\n",
        "!pip install investpy\n",
        "```\n",
        "\n",
        "\n",
        "\n",
        "\n"
      ]
    },
    {
      "cell_type": "markdown",
      "metadata": {
        "id": "Ylo_Wgz0Og4l"
      },
      "source": [
        "##Pacote de atualização\n",
        "Se você já instalou o ***investpy*** e deseja atualizá-lo, pode fazê-lo:\n",
        "\n",
        "* via PyPI:\n",
        "```\n",
        "$ python -m pip install --upgrade investpy\n",
        "```\n",
        "* via nuvem Anaconda:\n",
        "```\n",
        "$ conda update investpy\n",
        "```\n",
        "* do GitHub via PyPi:\n",
        "```\n",
        "$ python -m pip install --upgrade https://github.com/alvarobartt/investpy/archive/master.zip\n",
        "```\n",
        "\n",
        "Todas as dependências já estão listadas no arquivo de instalação do pacote, mas para resumir, ao instalar o ***investpy*** ele irá instalar as seguintes dependências:\n",
        "\n",
        "* pandas 0.25.1\n",
        "* pedidos 2.22.0\n",
        "* lxml 4.4.1\n",
        "* unidecode 1.1.1"
      ]
    },
    {
      "cell_type": "markdown",
      "metadata": {
        "id": "PwmGiP_ITFIu"
      },
      "source": [
        "#Uso\n",
        "Ao longo deste documento, serão apresentadas as principais funções de investimento . A seguir , este é um tutorial de como usar o ***investpy*** para recuperar dados dos produtos financeiros disponíveis, tais como: ações, fundos, ETFs, índices e cruzamentos de moedas, obtidos em Investing.com.\n",
        "\n"
      ]
    },
    {
      "cell_type": "markdown",
      "metadata": {
        "id": "94Ali113UNVo"
      },
      "source": [
        "##Recuperação de dados recentes / históricos\n",
        "A principal funcionalidade do ***investpy*** é recuperar dados históricos dos produtos financeiros indexados. Portanto, funções de recuperação de dados recentes e históricos foram desenvolvidas para recuperar dados do último mês ou de um período de tempo concreto, respectivamente.\n",
        "\n"
      ]
    },
    {
      "cell_type": "markdown",
      "metadata": {
        "id": "5GvLQgWwZD2I"
      },
      "source": [
        "###Recuperação de dados de ações\n",
        "\n",
        "```\n",
        "import investpy\n",
        "\n",
        "df = investpy.get_stock_recent_data(stock='bbva',\n",
        "                                    country='spain')\n",
        "print(df.head())\n",
        "\n",
        "             Open   High    Low  Close    Volume Currency\n",
        "Date\n",
        "2019-08-13  4.263  4.395  4.230  4.353  27250000      EUR\n",
        "2019-08-14  4.322  4.325  4.215  4.244  36890000      EUR\n",
        "2019-08-15  4.281  4.298  4.187  4.234  21340000      EUR\n",
        "2019-08-16  4.234  4.375  4.208  4.365  46080000      EUR\n",
        "2019-08-19  4.396  4.425  4.269  4.269  18950000      EUR\n",
        "```\n",
        "\n",
        "\n",
        "```\n",
        "import investpy\n",
        "\n",
        "df = investpy.get_stock_historical_data(stock='AAPL',\n",
        "                                        country='United States',\n",
        "                                        from_date='01/01/2010',\n",
        "                                        to_date='01/01/2020')\n",
        "print(df.head())\n",
        "\n",
        "            Open   High    Low  Close     Volume Currency\n",
        "Date\n",
        "2010-01-04  30.49  30.64  30.34  30.57  123432176      USD\n",
        "2010-01-05  30.66  30.80  30.46  30.63  150476160      USD\n",
        "2010-01-06  30.63  30.75  30.11  30.14  138039728      USD\n",
        "2010-01-07  30.25  30.29  29.86  30.08  119282440      USD\n",
        "2010-01-08  30.04  30.29  29.87  30.28  111969192      USD\n",
        "```\n",
        "\n"
      ]
    },
    {
      "cell_type": "markdown",
      "metadata": {
        "id": "mn2h-Fv_ZOVu"
      },
      "source": [
        "### Recuperação de dados de fundos\n",
        "\n",
        "\n",
        "\n",
        "```\n",
        "import investpy\n",
        "\n",
        "df = investpy.get_fund_recent_data(fund='bbva plan multiactivo moderado pp',\n",
        "                                   country='spain')\n",
        "print(df.head())\n",
        "\n",
        "             Open   High    Low  Close Currency\n",
        "Date\n",
        "2019-08-13  1.110  1.110  1.110  1.110      EUR\n",
        "2019-08-16  1.109  1.109  1.109  1.109      EUR\n",
        "2019-08-19  1.114  1.114  1.114  1.114      EUR\n",
        "2019-08-20  1.112  1.112  1.112  1.112      EUR\n",
        "2019-08-21  1.115  1.115  1.115  1.115      EUR\n",
        "```\n",
        "\n",
        "\n",
        "```\n",
        "import investpy\n",
        "\n",
        "df = investpy.get_fund_historical_data(fund='bbva plan multiactivo moderado pp',\n",
        "                                       country='spain',\n",
        "                                       from_date='01/01/2010',\n",
        "                                       to_date='01/01/2019')\n",
        "print(df.head())\n",
        "\n",
        "             Open   High    Low  Close Currency\n",
        "Date\n",
        "2018-02-15  1.105  1.105  1.105  1.105      EUR\n",
        "2018-02-16  1.113  1.113  1.113  1.113      EUR\n",
        "2018-02-17  1.113  1.113  1.113  1.113      EUR\n",
        "2018-02-18  1.113  1.113  1.113  1.113      EUR\n",
        "2018-02-19  1.111  1.111  1.111  1.111      EUR\n",
        "```\n"
      ]
    },
    {
      "cell_type": "markdown",
      "metadata": {
        "id": "mJVzbztYY6GX"
      },
      "source": [
        "### Recuperação de dados ETF\n",
        "\n",
        "\n",
        "\n",
        "```\n",
        "import investpy\n",
        "\n",
        "df = investpy.get_etf_recent_data(etf='bbva accion dj eurostoxx 50',\n",
        "                                  country='spain')\n",
        "print(df.head())\n",
        "\n",
        "              Open    High     Low   Close Currency\n",
        "Date\n",
        "2019-08-13  33.115  33.780  32.985  33.585      EUR\n",
        "2019-08-14  33.335  33.335  32.880  32.905      EUR\n",
        "2019-08-15  32.790  32.925  32.455  32.845      EUR\n",
        "2019-08-16  33.115  33.200  33.115  33.305      EUR\n",
        "2019-08-19  33.605  33.735  33.490  33.685      EUR\n",
        "```\n",
        "\n",
        "\n",
        "```\n",
        "import investpy\n",
        "\n",
        "df = investpy.get_etf_historical_data(etf='bbva accion dj eurostoxx 50',\n",
        "                                      country='spain',\n",
        "                                      from_date='01/01/2018',\n",
        "                                      to_date='01/01/2019')\n",
        "print(df.head())\n",
        "\n",
        "             Open   High    Low  Close Currency\n",
        "Date\n",
        "2011-12-07  23.70  23.70  23.70  23.62      EUR\n",
        "2011-12-08  23.53  23.60  23.15  23.04      EUR\n",
        "2011-12-09  23.36  23.60  23.36  23.62      EUR\n",
        "2011-12-12  23.15  23.26  23.00  22.88      EUR\n",
        "2011-12-13  22.88  22.88  22.88  22.80      EUR\n",
        "```\n"
      ]
    },
    {
      "cell_type": "markdown",
      "metadata": {
        "id": "SPSrGZwkZqT8"
      },
      "source": [
        "### Recuperação de dados de índice\n",
        "```\n",
        "import investpy\n",
        "\n",
        "df = investpy.get_index_recent_data(index='ibex 35',\n",
        "                                    country='spain')\n",
        "print(df.head())\n",
        "\n",
        "               Open     High      Low    Close   Volume Currency\n",
        "Date\n",
        "2019-08-26  12604.7  12646.3  12510.4  12621.3  4770000      EUR\n",
        "2019-08-27  12618.3  12723.3  12593.6  12683.8  8230000      EUR\n",
        "2019-08-28  12657.2  12697.2  12585.1  12642.5  7300000      EUR\n",
        "2019-08-29  12637.2  12806.6  12633.8  12806.6  5650000      EUR\n",
        "2019-08-30  12767.6  12905.9  12756.9  12821.6  6040000      EUR\n",
        "```\n",
        "\n",
        "\n",
        "```\n",
        "import investpy\n",
        "\n",
        "df = investpy.get_index_historical_data(index='ibex 35',\n",
        "                                        country='spain',\n",
        "                                        from_date='01/01/2018',\n",
        "                                        to_date='01/01/2019')\n",
        "print(df.head())\n",
        "\n",
        "               Open     High      Low    Close    Volume Currency\n",
        "Date\n",
        "2018-01-02  15128.2  15136.7  14996.6  15096.8  10340000      EUR\n",
        "2018-01-03  15145.0  15186.9  15091.9  15106.9  12800000      EUR\n",
        "2018-01-04  15105.5  15368.7  15103.7  15368.7  17070000      EUR\n",
        "2018-01-05  15353.9  15407.5  15348.6  15398.9  11180000      EUR\n",
        "2018-01-08  15437.1  15448.7  15344.0  15373.3  12890000      EUR\n",
        "```\n"
      ]
    },
    {
      "cell_type": "markdown",
      "metadata": {
        "id": "05wcQrDrZ3lo"
      },
      "source": [
        "### Recuperação de dados de cruzamento de moeda\n",
        "\n",
        "\n",
        "```\n",
        "import investpy\n",
        "\n",
        "df = investpy.get_currency_cross_recent_data(currency_cross='EUR/USD')\n",
        "print(df.head())\n",
        "\n",
        "              Open    High     Low   Close  Volume Currency\n",
        "Date\n",
        "2019-08-27  1.1101  1.1116  1.1084  1.1091       0      USD\n",
        "2019-08-28  1.1090  1.1099  1.1072  1.1078       0      USD\n",
        "2019-08-29  1.1078  1.1093  1.1042  1.1057       0      USD\n",
        "2019-08-30  1.1058  1.1062  1.0963  1.0991       0      USD\n",
        "2019-09-02  1.0990  1.1000  1.0958  1.0968       0      USD\n",
        "```\n",
        "```\n",
        "import investpy\n",
        "\n",
        "df = investpy.get_currency_cross_historical_data(currency_cross='EUR/USD',\n",
        "                                                 from_date='01/01/2018',\n",
        "                                                 to_date='01/01/2019')\n",
        "print(df.head())\n",
        "\n",
        "            Open    High     Low   Close  Volume Currency\n",
        "Date\n",
        "2018-01-01  1.2003  1.2014  1.1995  1.2010       0      USD\n",
        "2018-01-02  1.2013  1.2084  1.2003  1.2059       0      USD\n",
        "2018-01-03  1.2058  1.2070  1.2001  1.2014       0      USD\n",
        "2018-01-04  1.2015  1.2090  1.2004  1.2068       0      USD\n",
        "2018-01-05  1.2068  1.2085  1.2021  1.2030       0      USD\n",
        "```\n",
        "\n",
        "\n",
        "\n",
        "\n",
        "\n",
        "\n",
        "\n",
        "\n",
        "\n",
        "\n",
        "\n",
        "\n",
        "\n",
        "\n",
        "\n",
        "\n",
        "\n",
        "\n"
      ]
    },
    {
      "cell_type": "markdown",
      "metadata": {
        "id": "9ad4oLwSWd3N"
      },
      "source": [
        "## Dados Adicionais\n",
        "Como a Investing.com fornece mais dados além do histórico, alguns desses dados adicionais podem ser obtidos via ***investpy***. Atualmente, como o pacote está em desenvolvimento, algumas funções adicionais foram criadas para recuperar mais dados conforme indexados em Investing.com."
      ]
    },
    {
      "cell_type": "markdown",
      "metadata": {
        "id": "lQAWs-HeXZkY"
      },
      "source": [
        "### Recuperação de Perfil de Empresa de Ações\n",
        "\n",
        "\n",
        "```\n",
        "import investpy\n",
        "\n",
        "company_profile = investpy.get_stock_company_profile(stock='bbva',\n",
        "                                                     country='spain')\n",
        "print(company_profile)\n",
        "\n",
        "{\n",
        "    \"url\": \"https://www.investing.com/equities/bbva-company-profile\",\n",
        "    \"description\": \"Banco Bilbao Vizcaya Argentaria, S.A. (BBVA) is a diversified financial company engaged in retail banking ...\"\n",
        "}\n",
        "```\n",
        "\n",
        "\n",
        "\n",
        "\n",
        "\n",
        "\n"
      ]
    },
    {
      "cell_type": "markdown",
      "metadata": {
        "id": "d-m-IAzrXtz1"
      },
      "source": [
        "### Recuperação de informações de fundos\n",
        "\n",
        "```\n",
        "import investpy\n",
        "\n",
        "fund_information = investpy.get_fund_information(fund='bbva plan multiactivo moderado pp',\n",
        "                                                 country='spain',\n",
        "                                                 as_json=True)\n",
        "print(fund_information)\n",
        "\n",
        "{\n",
        "    'Fund Name': 'Bbva Plan Multiactivo Moderado Pp',\n",
        "    'Rating': 4,\n",
        "    '1-Year Change': '-1,19%',\n",
        "    'Previous Close': '1.103',\n",
        "    'Risk Rating': 1,\n",
        "    'TTM Yield': '0%',\n",
        "    'ROE': '14,02%',\n",
        "    'Issuer': 'BBVA Pensiones EGFP',\n",
        "    'Turnover': None,\n",
        "    'ROA': '4,97%',\n",
        "    'Inception Date': '16/10/2012',\n",
        "    'Total Assets': 1670000000,\n",
        "    'Expenses': None,\n",
        "    'Min Investment': 30,\n",
        "    'Market Cap': 34820000000,\n",
        "    'Category': 'Mixtos Euros Moderados PP'\n",
        "}\n",
        "```\n"
      ]
    },
    {
      "cell_type": "markdown",
      "metadata": {
        "id": "_IMv7LDPeBpt"
      },
      "source": [
        "# Modelos\n",
        "\n"
      ]
    },
    {
      "cell_type": "markdown",
      "metadata": {
        "id": "J_q8PBD8fYTm"
      },
      "source": [
        "## Modelo de dados\n",
        "Como os dados históricos recuperados são comuns a todos os produtos financeiros dos quais a ***investpy*** extrai dados, apenas uma classe de modelo foi criada para armazenar os dados históricos do dia a dia.\\\n",
        "Assim, definimos um modelo em que cada valor corresponde a cada valor da nomenclatura OHLC (Open-High-Low-Close) (exceto em ações, que também inclui o volume) e se parece com:\n",
        "\n",
        "```\n",
        "def __init__(self, date_, open_, high_, low_, close_, volume_, currency_):\n",
        "    self.date = date_\n",
        "    self.open = open_\n",
        "    self.high = high_\n",
        "    self.low = low_\n",
        "    self.close = close_\n",
        "    self.volume = volume_\n",
        "    self.currency_ = currency_\n",
        "```\n",
        "\n",
        "Como seus nomes indicam, os valores OHLC se referem aos valores de abertura, máximo, mínimo e fechamento do mercado em um dia de negociação, respectivamente. E o valor do volume refere-se à quantidade de ações negociadas em um dia de segurança.\n",
        "\n",
        "\\\n",
        "\n",
        "---\n",
        "**Nota**\n",
        "\n",
        ">O modelo de dados não é utilizável, pois é apenas uma classe usada para o pacote interno, transparente para o usuário. É usado para categorizar cada valor recuperado de Investing e, em seguida, definir sua estrutura e, assim por diante, a estrutura na qual o arquivo pandas.DataFrame ou JSON resultante será baseado.\n",
        "\n",
        "---\n"
      ]
    },
    {
      "cell_type": "markdown",
      "metadata": {
        "id": "9bRDAs5wfdTU"
      },
      "source": [
        "## Modelo de Pesquisa\n",
        "FAÇAM - aceitamos voluntários\n",
        "\n"
      ]
    },
    {
      "cell_type": "markdown",
      "metadata": {
        "id": "x2aakCxBinrS"
      },
      "source": [
        "#Ações / ações (Stocks / Equities)\n",
        "Uma ação (também conhecida como “ações” ou “ações”) é um tipo de título que significa propriedade proporcional na empresa emissora. Isso dá ao acionista o direito a essa proporção dos ativos e ganhos da empresa.\\\n",
        "As ações são compradas e vendidas predominantemente em bolsas de valores, embora também possa haver vendas privadas, e são a base de quase todo portfólio. Essas transações devem estar em conformidade com as regulamentações governamentais, destinadas a proteger os investidores de práticas fraudulentas. Historicamente, eles superaram a maioria dos outros investimentos no longo prazo. Esses investimentos podem ser adquiridos na maioria dos corretores de ações online.\n",
        "\n",
        "**Fonte**: Investopedia"
      ]
    },
    {
      "cell_type": "markdown",
      "metadata": {
        "id": "Ter64jWSjQVZ"
      },
      "source": [
        "##Começando\n",
        "Para começar a usar o ***investpy***, você primeiro precisa instalá-lo conforme descrito em Instalação . Depois de instalado, você pode continuar a usá-lo para recuperar os dados das ações, após importar o pacote da seguinte maneira:\n",
        "\n",
        "```\n",
        "import investpy\n",
        "```\n",
        "###Listagem\n",
        "A ***investpy*** oferece algumas funções de listagem que permitem ao usuário obter as informações gerais das ações indexadas no Investing, uma vez que essas informações já estão armazenadas em arquivos CSV gerados automaticamente na instalação do pacote.\\\n",
        "Podemos recuperar tudo com `pandas.DataFrame` contendo todas as informações armazenadas no arquivo CSV ou um `list`contendo apenas os símbolos das ações, que são os parâmetros de entrada para as funções de recuperação de dados.\\\n",
        "Também existe um parâmetro chamado `country` que por padrão é `None`, o que significa que a listagem de ações a ser recuperada incluirá todos os países disponíveis (indexados em Investing.com); pelo contrário, se o parâmetro `country` for um país disponível, as informações das ações retornadas serão filtradas por país.\n",
        "\n",
        "\\\n",
        "\n",
        "---\n",
        "**Dica**\n",
        "\n",
        ">Para obter uma lista de todos os países disponíveis, você pode usar a função `investpy.get_stock_countries()` que retornará um `list` contendo todos os nomes de países disponíveis que têm ações indexadas em Investing.com.\n",
        "\n",
        "---\n",
        "```\n",
        "# Retrieve all available stocks information as a pandas.DataFrame\n",
        "stocks_df = investpy.get_stocks(country=None)\n",
        "# Retrieve a listing of all the available stock symbols\n",
        "stocks_list = investpy.get_stocks_list(country=None)\n",
        "```\n",
        "###Dados recentes e históricos\n",
        "As principais funções da ***investpy*** estão focadas na extração de dados históricos, neste caso ações. Como a principal funcionalidade do pacote é recuperar dados da Investing.com, etc., algumas funções foram desenvolvidas para recuperar dados recentes e históricos.\\\n",
        "Para explicar seu uso, é proposto um exemplo para apresentar funções de recuperação de dados históricos:\n",
        "\n",
        "```\n",
        "# Retrieves the recent data of BBVA (last month) a spanish stock, as a pandas.DataFrame on ascending order\n",
        "df = investpy.get_stock_recent_data(stock='bbva', country='spain', as_json=False, order='ascending')\n",
        "\n",
        "# Retrieves the historical data of BBVA, a spanish stock, on the specified date range as a pandas.DataFrame on ascending order\n",
        "df = investpy.get_stock_historical_data(stock='bbva', country='spain', from_date='01/01/2018', to_date='01/01/2019', as_json=False, order='ascending')\n",
        "```\n",
        "Como já vimos, ambas as funções recebem alguns parâmetros, mas alguns deles são *opcionais* , o que significa que a função não precisa que o usuário os especifique, pois já possuem um valor padrão.\\\n",
        "Ambos os parâmetros `stock` e `country` são obrigatórios, pois são eles que especificam quais informações devem ser obtidas na Investing.com. Considere que os dois parâmetros devem corresponder, o que significa que os símbolos das ações devem ser uma ação do país especificado, se a ação não for encontrada no país especificado, um erro será gerado.\\\n",
        "Ao recuperar dados recentes de uma ação, podemos especificar adicionalmente se queremos a saída como um objeto json ou não, definindo o parâmetro `as_json` como True ou False, respectivamente. Também podemos definir o `order` que queremos que o objeto retornado tenha com base nas datas, em que ascendente vai desde a primeira data recuperada até agora, e descendente vai no sentido contrário.\\\n",
        "Além disso, quando se trata de recuperação de dados históricos, também precisamos especificar os valores `from_date` e `to_date`, pois eles são obrigatórios. Ambos os valores de data são `str` formatados como *dd / mm / aaaa* .\n",
        "\n",
        "\\\n",
        "\n",
        "---\n",
        "**Dica**\n",
        "\n",
        ">Se você não está familiarizado com ações, pode recuperar uma lista das disponíveis ou verificar aquela apresentada em Investir em ações .\n",
        "\n",
        "---\n",
        "\n",
        "\\\n",
        "\n",
        "### Perfil da companhia\n",
        "Como recurso extra, através do ***investpy*** é possível recuperar o \"perfil da empresa\" de cada empresa para classificá-la ou analisá-la com base nas informações que essas empresas disponibilizam publicamente, por se tratar de uma descrição feita por elas próprias.\n",
        "\n",
        "```\n",
        "investpy.get_stock_company_profile(stock='bbva', country='spain', language='english')\n",
        "```\n",
        "\n",
        "Conforme explicado antes, quando se trata de recuperação de dados, os parâmetros `stock` e `country` são obrigatórios e devem corresponder; já que o valor padrão para o `language` perfil da empresa recuperado é o *inglês* (já que Investing fornece perfis de empresa escritos em inglês), mas além disso, a função também recupera o perfil da empresa em *espanhol* da Bolsa de Madrid , que é o recurso adicional utilizado ao longo deste pacote.\n",
        "\n",
        "\\\n",
        "\n",
        "---\n",
        "**Atenção**\n",
        "\n",
        "Esta função está disponível apenas para ações espanholas, uma vez que ***investpy*** foi inicialmente criada apenas para recuperação de ações, fundos e ETFs espanhóis. Pretende-se cobertura futura para perfis de empresas mundiais de ações, mas atualmente só estão disponíveis as espanholas.\n",
        "\n",
        "---\n"
      ]
    },
    {
      "cell_type": "markdown",
      "metadata": {
        "id": "Rf_Dgx6GrJ4N"
      },
      "source": [
        "##Amostras\n",
        "Como o conjunto de dados gerado foi carregado para o Kaggle, alguns kernels com amostras de uso de dados recuperados foram criados pela comunidade."
      ]
    },
    {
      "cell_type": "markdown",
      "metadata": {
        "id": "YyCV4jKgrczF"
      },
      "source": [
        "#Fundos\n",
        "Um fundo é um pool de dinheiro alocado para uma finalidade específica. Um fundo pode ser estabelecido para qualquer finalidade, seja um governo municipal reservando dinheiro para construir um novo centro cívico, uma faculdade reservando dinheiro para conceder uma bolsa de estudos ou uma seguradora reservando dinheiro para pagar os sinistros de seus clientes.\\\n",
        "Um fundo é um pool de dinheiro reservado para uma finalidade específica. Esses pools podem frequentemente ser investidos e administrados profissionalmente e alguns tipos comuns de fundos incluem fundos de pensão, fundos de seguro, fundações e doações.\\\n",
        "Indivíduos, empresas e governos usam fundos para reservar dinheiro. Os indivíduos podem estabelecer um fundo de emergência ou fundo para dias chuvosos para pagar despesas imprevistas ou um fundo fiduciário para reservar dinheiro para uma pessoa específica.\n",
        "\n",
        "**Fonte**: Investopedia"
      ]
    },
    {
      "cell_type": "markdown",
      "metadata": {
        "id": "Ysfy7PHzr4fL"
      },
      "source": [
        "## Começando\n",
        "Para começar a usar o ***investpy***, você primeiro precisa instalá-lo conforme descrito em Instalação . Depois de instalado, você pode continuar a usá-lo para recuperar os dados dos fundos, após importar o pacote da seguinte maneira:\n",
        "\n",
        "```\n",
        "import investpy\n",
        "\n",
        "```\n",
        "### Listagem\n",
        "A ***investpy*** oferece algumas funções de listagem que permitem ao usuário obter as informações gerais dos fundos indexados em Investir, pois essas informações já estão armazenadas em arquivos CSV gerados automaticamente na instalação do pacote.\\\n",
        "O usuário pode recuperar o todo `pandas.DataFrame` contendo todas as informações armazenadas no arquivo CSV, a `list` contendo apenas os nomes dos fundos, que são os parâmetros de entrada para as funções de recuperação de dados; ou como um `dict` com todos os campos de informações disponíveis dos fundos.\\\n",
        "Também existe um parâmetro chamado `country` que por padrão é `None`, o que significa que a listagem de fundos a ser recuperada incluirá todos os países disponíveis (indexados em Investing.com); pelo contrário, se o parâmetro `country` for um país disponível, as informações do fundo retornadas serão filtradas por país.\n",
        "\n",
        "\\\n",
        "\n",
        "---\n",
        "**Dica**\n",
        "\n",
        ">Para obter uma lista de todos os países disponíveis, você pode usar a função `investpy.get_fund_countries()` que retornará um `list` contendo todos os nomes de países disponíveis que têm fundos indexados em Investing.com.\n",
        "\n",
        "---\n",
        "```\n",
        "# Retrieve all available funds information as a pandas.DataFrame\n",
        "funds_df = investpy.get_funds(country=None)\n",
        "# Retrieve a listing of all the available fund names\n",
        "funds_list = investpy.get_funds_list(country=None)\n",
        "# Retrieve a dictionary with all the funds and all of their information fields\n",
        "funds_dict = investpy.get_funds_dict(country=None)\n",
        "```\n",
        "---\n",
        "**Nota**\n",
        "\n",
        ">Os fundos `pandas.DataFrame` contêm informações internas do pacote que são inúteis para os usuários, mas são fornecidas mesmo assim.\n",
        "\n",
        "---\n",
        "\n",
        "\\\n",
        "\n",
        "Uma vez que as funções de recuperação de dados precisam do nome do fundo e do país de onde esse fundo está, há uma função para fazer isso a fim de informar ao usuário quais são os países disponíveis e, assim por diante, os fundos disponíveis nesses países. As funções apresentadas a seguir: `investpy.get_funds , investpy.get_funds_list e investpy.get_funds_dict` têm um parâmetro opcional que é o nome do país para recuperar apenas o `pandas.DataFrame`, `list` ou `dict` de todos os fundos disponíveis do país introduzido, respectivamente.\\\n",
        "De qualquer forma, antes de aplicar esse filtro, propõe-se o uso da função *investpy.get_fund_countries* para recuperar todos os países disponíveis que possuem fundos.\n",
        "\n",
        "```\n",
        "countries = investpy.get_fund_countries()\n",
        "\n",
        "# Check if a country is either or not in the list & then get all the available funds from that country\n",
        "if 'spain' in countries:\n",
        "    funds = investpy.get_funds_list(country='spain')\n",
        "```\n",
        "Assim, todos os países listados na lista anterior podem ser usados ​​para filtrar fundos. Observe que o parâmetro de país é necessário nas funções de recuperação de dados, pois mais de um fundo pode compartilhar o mesmo nome, mas não no mesmo país.\n",
        "\n",
        "### Pesquisa de fundos\n",
        "Antes de prosseguir com as funções de recuperação de dados é apresentada uma função adicional, já que às vezes o usuário não possui todas as informações do fundo para recuperar as informações, assim por diante, existe uma função que permite ao usuário pesquisar fundos com o valor especificado para a coluna / campo especificado. Esta função irá retornar um *pandas.DataFrame* com todos os resultados encontrados caso sejam encontrados, caso contrário, um *RuntimeError* será gerado.\\\n",
        "Uma vez que o objeto retornado é um *pandas.DataFrame* no exemplo a seguir, tanto o uso da função quanto o tratamento de dados adicionais são apresentados a fim de permitir ao usuário saber como usar os resultados da pesquisa nas funções de recuperação de dados para torná-lo mais fácil usar. Observe que você pode selecionar o valor que está pesquisando no\n",
        "\n",
        "```\n",
        "search_result = investpy.search_funds(by='name', value='bbva')\n",
        "\n",
        "# Get both name and country via pandas.DataFrame index\n",
        "index = 0\n",
        "name = search_result.loc[index, 'name']\n",
        "country = search_result.loc[index, 'country']\n",
        "\n",
        "# Get both name and country via unique field such as isin\n",
        "isin = 'ES0113211835'\n",
        "name = search_result.loc[(search_result['isin'].str == isin).idxmax(), 'name']\n",
        "country = search_result.loc[(search_result['isin'].str == isin).idxmax(), 'country']\n",
        "\n",
        "# Or get it manually via printing the resulting pandas.DataFrame\n",
        "print(search_results)\n",
        "```\n",
        "### Dados recentes e históricos\n",
        "As principais funções do ***investpy*** estão focadas na extração de dados históricos e, neste caso concreto, as funções de recuperação de dados históricos do fundo serão explicadas e classificadas. Como a principal funcionalidade do pacote é recuperar dados da Investing.com e formatá-los para acessá-los por meio de funções Python, algumas funções foram desenvolvidas para recuperar dados recentes e históricos.\\\n",
        "Para explicar seu uso, um exemplo é proposto para explicar como funcionam as funções de recuperação de dados históricos:\n",
        "\n",
        "````\n",
        "# Retrieves last month's data of 'Bankia Cauto Pp', which is a fund from 'Spain', as a pandas.DataFrame\n",
        "df = investpy.get_fund_recent_data(fund='Bankia Cauto Pp', country='spain')\n",
        "\n",
        "# Retrieves historical data of 'Bankia Cauto Pp', which is a fund from 'Spain', on the specified date range as a pandas.DataFrame\n",
        "df = investpy.get_fund_historical_data(fund='Bankia Cauto Pp', country='spain', from_date='01/01/2018', to_date='01/01/2019')\n",
        "````\n",
        "\n",
        "Ambas as funções precisam de alguns parâmetros, embora alguns deles sejam *opcionais* , o que significa que a função não precisa que o usuário os especifique, pois já têm um valor padrão.\\\n",
        "Ambos os parâmetros `fund` e `country` são obrigatórios, pois são eles que especificam quais informações devem ser obtidas na Investing.com. Leve em consideração que os dois parâmetros devem corresponder, o que significa que o nome do fundo deve ser um fundo do país especificado, portanto, se o fundo introduzido não for encontrado no país especificado, será gerado um erro.\\\n",
        "Ao recuperar dados recentes de um fundo, podemos especificar adicionalmente se queremos a saída como um objeto json ou não, definindo o parâmetro `as_json` como True ou False, respectivamente. Também podemos definir o `order` que queremos que o objeto retornado tenha com base nas datas, em que ascendente vai desde a primeira data recuperada até agora, e descendente vai no sentido contrário.\\\n",
        "Além disso, quando se trata de recuperação de dados históricos, também precisamos especificar os valores `from_date` e `to_date`, pois eles são obrigatórios. Ambos os valores de data são `str` formatados como *dd / mm / aaaa* .\n",
        "\n",
        "---\n",
        "**Dica**\n",
        "\n",
        ">Se não estiver familiarizado com os fundos, você pode recuperar um listdos disponíveis fornecidos pela investpy ou verificar a listagem em Fundos de Investimento .\n",
        "\n",
        "---\n",
        "### Informação do Fundo\n",
        "Como um recurso extra, por meio de ***investpy***, você pode recuperar informações sobre o fundo especificado no país especificado. Esta informação é aquela relacionada ao fundo apresentado conforme indexado por Investing.com, o que dará ao usuário uma visão mais ampla daquele fundo concreto, uma vez que valores como risco, classificação ou categoria são fornecidos por Investing.com e, assim por diante, por ***investpy*** .\\\n",
        "Seu uso é bastante simples, pois apenas o *fundo* e o *país* são parâmetros obrigatórios, mas também há um parâmetro adicional que é *as_json* que pode ser True ou False se a informação deseja ser retornada como a `pandas.DataFrame` ou a `json`.\n",
        "````\n",
        "# Retrieve information from the introduced fund in the specified country\n",
        "data = investpy.get_fund_information(fund='Bankia Cauto Pp', country='spain')\n",
        "````\n"
      ]
    },
    {
      "cell_type": "markdown",
      "metadata": {
        "id": "_VnUYPlP5Rue"
      },
      "source": [
        "# Referência API\n",
        "`investpy`\\\n",
        "`investpy.stocks`\\\n",
        "`investpy.funds`\\\n",
        "`investpy.etfs`\\\n",
        "`investpy.indices`\\\n",
        "`investpy.currency_crosses`\\\n",
        "`investpy.bonds`\\\n",
        "`investpy.commodities`\\\n",
        "`investpy.certificates`\\\n",
        "`investpy.crypto`\\\n",
        "`investpy.news`\\\n",
        "`investpy.technical`\\\n",
        "`investpy.search`"
      ]
    },
    {
      "cell_type": "markdown",
      "metadata": {
        "id": "q0NuyRq3Nd3m"
      },
      "source": [
        "## **investpy**\n",
        "\n",
        "\n",
        "`investpy`\n",
        "\n",
        "---\n",
        ">Não tem nenhum informação adicional."
      ]
    },
    {
      "cell_type": "markdown",
      "metadata": {
        "id": "F4y0W-tyIg5V"
      },
      "source": [
        "## **investpy.stocks**\n",
        "\n",
        "`investpy.stocks`\n",
        "\n",
        "---\n",
        "\n",
        ">**investpy.stocks.get_stock_company_profile** *( stock , country = 'espanha' , language = 'english' )*\n",
        "\n",
        ">**investpy.stocks.get_stock_countries( )**\n",
        "\n",
        ">**investpy.stocks.get_stock_dividends** *( stock , country )*\n",
        "\n",
        ">**investpy.stocks.get_stock_financial_summary** *( stock , country , summary_type = 'income_statement' , period = 'annual' )*\n",
        "\n",
        ">**investpy.stocks.get_stock_historical_data** *( stock , country , from_data , to_data , as_json = False , order = 'ascending' , interval = 'Daily' )*\n",
        "\n",
        ">**investpy.stocks.get_stock_information** *( stock , country , as_json = False )*\n",
        "\n",
        ">**investpy.stocks.get_stock_recent_data** *( stock , country , as_json = False , order = 'ascending' , interval = 'Daily' )*\n",
        "\n",
        ">**investpy.stocks.get_stocks** *( country = None )*\n",
        "\n",
        ">**investpy.stocks.get_stocks_dict** *( country = None, columns = None, as_json = False)*\n",
        "\n",
        ">**investpy.stocks.get_stocks_list** *( country = None )*\n",
        "\n",
        ">**investpy.stocks.get_stocks_overview** *( country, as_json = False, n_results = 100)*\n",
        "\n",
        ">**investpy.stocks.get_stocks** *( by, value )*\n",
        "\n",
        ">>*** FALTA CONCLUIR ***\n",
        "\n",
        "\n"
      ]
    },
    {
      "cell_type": "markdown",
      "metadata": {
        "id": "xzLVnjK1Ju-9"
      },
      "source": [
        "###**investpy.stocks.get_stock_company_profile** *( stock , country = 'espanha' , language = 'english' )*\n",
        ">Esta função recupera o perfil da empresa de uma sociedade por ações no idioma especificado. Esta função é muito útil se as técnicas de PNL quiserem ser aplicadas a ações, já que o perfil da empresa é uma breve descrição do que a empresa faz e, por ser escrito pela empresa, pode dar ao usuário uma visão geral do que a empresa faz . O perfil da empresa pode ser recuperado em inglês ou espanhol, a única coisa que muda é a fonte de onde os dados são recuperados, mas o objeto resultante será o mesmo. Observe que esta função, conforme descrito nos documentos, é apenas compatível com ações espanholas atualmente, assim por diante, se qualquer outra ação de qualquer outro país for introduzida como parâmetro, a função gerará uma exceção.\n",
        "\n",
        "\\\n",
        "\n",
        "---\n",
        ">**Nota**\n",
        "\n",
        ">Atualmente, apenas o perfil da empresa espanhola pode ser recuperado de ações espanholas, portanto, se você tentar recuperá-lo em espanhol para qualquer outro país, esta função gerará uma exceção ValueError.\n",
        ">\n",
        "---\n",
        "\n",
        ">>**Parâmetros:**\n",
        ">>* stock (`str`) - símbolo da ação a partir da qual recuperar o perfil da empresa.\n",
        ">>* country (`str`) - nome do país de onde se encontra o ação.\n",
        ">>*language (`str` opcional) - idioma no qual o perfil da empresa será recuperado, pode ser inglês ou espanhol.\n",
        "\n",
        ">>**Retorna:**\t\n",
        ">>>O resultado `dict` contém o perfil da empresa recuperado da fonte selecionada dependendo do idioma especificado nos parâmetros da função, que pode ser Investing.com (inglês) ou Bolsa de Madrid (espanhol); e a URL de onde foi recuperado, para ter a fonte e a descrição do company_profile.\\\n",
        "Portanto, o resultado `dict`deve ser semelhante a:\n",
        "````\n",
        "company_profile = {\n",
        "    url: 'https://www.investing.com/equities/bbva-company-profile',\n",
        "    desc: 'Banco Bilbao Vizcaya Argentaria, S.A. (BBVA) is a ...'\n",
        "}\n",
        "````\n",
        "\n",
        ">>**Tipo de retorno:**\n",
        ">>>`dict` - Perfil da companhia\n",
        "\n",
        ">>**Avisos:**\n",
        ">>>* `ValueError` - gerado sempre que qualquer um dos argumentos introduzidos não é válido ou está errado.\n",
        ">>>* `FileNotFound` - gerado se o arquivo stocks.csv não foi encontrado ou não pôde ser recuperado.\n",
        ">>>* `IOError` - gerado se o objeto / arquivo de ações não for encontrado ou não puder ser recuperado.\n",
        ">>>* `RuntimeError` - gerado se a ação / país introduzido não foi encontrado ou não correspondeu a nenhum dos existentes.\n",
        ">>>* `ConnectionError` - gerado se a conexão com Investing.com não puder ser estabelecida.\n",
        "\n",
        ">**Exemplos**\n",
        "\n",
        ">````\n",
        ">>> company_profile = investpy.get_stock_company_profile(stock='bbva', country='spain', language='english')\n",
        ">>> company_profile\n",
        "company_profile = {\n",
        "    url: 'https://www.investing.com/equities/bbva-company-profile',\n",
        "    desc: 'Banco Bilbao Vizcaya Argentaria, S.A. (BBVA) is a ...'\n",
        "}\n",
        "````\n",
        "\n",
        "---\n"
      ]
    },
    {
      "cell_type": "code",
      "metadata": {
        "id": "qTdy77POb7qa"
      },
      "source": [
        "#ALPARGATAS PN\t"
      ],
      "execution_count": null,
      "outputs": []
    },
    {
      "cell_type": "code",
      "metadata": {
        "id": "MUYN9AUmb-ux"
      },
      "source": [
        "!pip install investpy"
      ],
      "execution_count": null,
      "outputs": []
    },
    {
      "cell_type": "code",
      "metadata": {
        "id": "_uB4I0wBcFYE"
      },
      "source": [
        "import investpy"
      ],
      "execution_count": 1,
      "outputs": []
    },
    {
      "cell_type": "code",
      "metadata": {
        "id": "rCfFhXWxcI7Z"
      },
      "source": [
        "company_profile = investpy.stocks.get_stock_company_profile ( stock = \"ALPA4\" , country = 'brazil' , language = 'english' )\n",
        "company_profile"
      ],
      "execution_count": null,
      "outputs": []
    },
    {
      "cell_type": "markdown",
      "metadata": {
        "id": "RaxEoOtdKp8B"
      },
      "source": [
        "###**investpy.stocks.get_stock_countries( )**\n",
        ">Esta função retorna uma listagem com todos os países disponíveis onde as ações podem ser recuperadas, para que o usuário saiba quais deles estão disponíveis, já que o parâmetro país é obrigatório em todas as funções de recuperação de ação.\n",
        "\n",
        ">>**Retorna:**\n",
        ">>>O resultado `list` contém todos os países disponíveis com ações indexadas em Investing.com\n",
        "\n",
        ">>**Tipo de retorno:**\n",
        ">>>\tlist - countries\n"
      ]
    },
    {
      "cell_type": "code",
      "metadata": {
        "id": "V7E5ClBmWAnC"
      },
      "source": [
        "!pip install investpy"
      ],
      "execution_count": null,
      "outputs": []
    },
    {
      "cell_type": "code",
      "metadata": {
        "id": "uN0_k8wtWF_O"
      },
      "source": [
        "import investpy"
      ],
      "execution_count": null,
      "outputs": []
    },
    {
      "cell_type": "code",
      "metadata": {
        "id": "ZeiXDmLXWQhC",
        "outputId": "6b04c461-f277-4879-9eef-e4afea7941d2",
        "colab": {
          "base_uri": "https://localhost:8080/",
          "height": 1000
        }
      },
      "source": [
        "countries = investpy.stocks.get_stock_countries( )\n",
        "countries"
      ],
      "execution_count": null,
      "outputs": [
        {
          "output_type": "execute_result",
          "data": {
            "text/plain": [
              "['argentina',\n",
              " 'brazil',\n",
              " 'canada',\n",
              " 'chile',\n",
              " 'colombia',\n",
              " 'costa rica',\n",
              " 'jamaica',\n",
              " 'mexico',\n",
              " 'peru',\n",
              " 'united states',\n",
              " 'venezuela',\n",
              " 'austria',\n",
              " 'belgium',\n",
              " 'bosnia',\n",
              " 'bulgaria',\n",
              " 'croatia',\n",
              " 'cyprus',\n",
              " 'czech republic',\n",
              " 'denmark',\n",
              " 'finland',\n",
              " 'france',\n",
              " 'germany',\n",
              " 'greece',\n",
              " 'hungary',\n",
              " 'iceland',\n",
              " 'ireland',\n",
              " 'italy',\n",
              " 'luxembourg',\n",
              " 'malta',\n",
              " 'montenegro',\n",
              " 'netherlands',\n",
              " 'norway',\n",
              " 'poland',\n",
              " 'portugal',\n",
              " 'romania',\n",
              " 'russia',\n",
              " 'serbia',\n",
              " 'slovakia',\n",
              " 'slovenia',\n",
              " 'spain',\n",
              " 'sweden',\n",
              " 'switzerland',\n",
              " 'turkey',\n",
              " 'ukraine',\n",
              " 'united kingdom',\n",
              " 'australia',\n",
              " 'bangladesh',\n",
              " 'china',\n",
              " 'hong kong',\n",
              " 'india',\n",
              " 'indonesia',\n",
              " 'japan',\n",
              " 'kazakhstan',\n",
              " 'malaysia',\n",
              " 'mongolia',\n",
              " 'new zealand',\n",
              " 'pakistan',\n",
              " 'philippines',\n",
              " 'singapore',\n",
              " 'south korea',\n",
              " 'sri lanka',\n",
              " 'taiwan',\n",
              " 'thailand',\n",
              " 'vietnam',\n",
              " 'bahrain',\n",
              " 'egypt',\n",
              " 'iraq',\n",
              " 'israel',\n",
              " 'jordan',\n",
              " 'kuwait',\n",
              " 'lebanon',\n",
              " 'oman',\n",
              " 'palestine',\n",
              " 'qatar',\n",
              " 'saudi arabia',\n",
              " 'dubai',\n",
              " 'botswana',\n",
              " 'ivory coast',\n",
              " 'kenya',\n",
              " 'malawi',\n",
              " 'mauritius',\n",
              " 'morocco',\n",
              " 'namibia',\n",
              " 'nigeria',\n",
              " 'rwanda',\n",
              " 'south africa',\n",
              " 'tanzania',\n",
              " 'tunisia',\n",
              " 'uganda',\n",
              " 'zambia',\n",
              " 'zimbabwe']"
            ]
          },
          "metadata": {
            "tags": []
          },
          "execution_count": 28
        }
      ]
    },
    {
      "cell_type": "code",
      "metadata": {
        "id": "bAC7SIA1WYwe",
        "outputId": "374ce882-2749-4d95-fc13-f54511994530",
        "colab": {
          "base_uri": "https://localhost:8080/",
          "height": 34
        }
      },
      "source": [
        "len(countries)"
      ],
      "execution_count": null,
      "outputs": [
        {
          "output_type": "execute_result",
          "data": {
            "text/plain": [
              "91"
            ]
          },
          "metadata": {
            "tags": []
          },
          "execution_count": 4
        }
      ]
    },
    {
      "cell_type": "markdown",
      "metadata": {
        "id": "RpuA8QxbLKMH"
      },
      "source": [
        "###**investpy.stocks.get_stock_dividends** *( stock , country )*\n",
        ">Essa função recupera os dividendos de ações das ações introduzidas, que são recompensas simbólicas pagas aos acionistas por seu investimento em ações / patrimônio líquido de uma empresa. Os dados de dividendos incluem data do dividendo, valor do dividendo, tipo, data de pagamento e rendimento. Essas informações são muito úteis na hora de criar carteiras.\n",
        "\n",
        ">>**Parâmetros:**\n",
        ">>>* ação (`str`) - símbolo da ação a partir da qual recuperar seus dividendos.\n",
        ">>>* país (`country`) - nome do país de onde vem a ação.\n",
        "\n",
        ">>**Retorna:**\n",
        ">>>>Retorna um `pandas.DataFrame` contendo as informações recuperadas de dividendos de ações para cada símbolo de ação introduzido como parâmetro.\\\n",
        "Então, o resultado `pandas.DataFrame` será semelhante a:\n",
        "\n",
        ">>>>````\n",
        "         Date  Dividend                    Type Payment Date  Yield\n",
        "0  2019-10-11    0.2600  trailing_twelve_months   2019-10-15  5,67%\n",
        "1  2019-04-08    0.2600  trailing_twelve_months   2019-04-10  5,53%\n",
        "2  2018-06-11    0.3839  trailing_twelve_months   2018-06-13  3,96%\n",
        "3  2018-04-06    0.2400  trailing_twelve_months   2018-04-10  4,41%\n",
        "4  2017-10-06    0.3786  trailing_twelve_months   2017-10-10  4,45%\n",
        ">>>>````\n",
        "\n",
        ">>**Tipo de retorno:**\n",
        ">>>>`pandas.DataFrame` - stock_dividends\n",
        "\n",
        "---"
      ]
    },
    {
      "cell_type": "code",
      "metadata": {
        "id": "Cv0PZoigdyHR"
      },
      "source": [
        "!pip install investpy"
      ],
      "execution_count": null,
      "outputs": []
    },
    {
      "cell_type": "code",
      "metadata": {
        "id": "RGjhSTUBdyYq"
      },
      "source": [
        "import investpy"
      ],
      "execution_count": null,
      "outputs": []
    },
    {
      "cell_type": "code",
      "metadata": {
        "id": "iJELDASZdx3M",
        "outputId": "8b9ef2b5-0408-42ee-b030-171cfd0a27c1",
        "colab": {
          "base_uri": "https://localhost:8080/",
          "height": 299
        }
      },
      "source": [
        "stock_dividends = investpy.stocks.get_stock_dividends( stock = \"BBDC3\" , country = \"brazil\" )\n",
        "stock_dividends"
      ],
      "execution_count": null,
      "outputs": [
        {
          "output_type": "error",
          "ename": "RuntimeError",
          "evalue": "ignored",
          "traceback": [
            "\u001b[0;31m---------------------------------------------------------------------------\u001b[0m",
            "\u001b[0;31mRuntimeError\u001b[0m                              Traceback (most recent call last)",
            "\u001b[0;32m<ipython-input-85-1db088b9857b>\u001b[0m in \u001b[0;36m<module>\u001b[0;34m()\u001b[0m\n\u001b[0;32m----> 1\u001b[0;31m \u001b[0mstock_dividends\u001b[0m \u001b[0;34m=\u001b[0m \u001b[0minvestpy\u001b[0m\u001b[0;34m.\u001b[0m\u001b[0mstocks\u001b[0m\u001b[0;34m.\u001b[0m\u001b[0mget_stock_dividends\u001b[0m\u001b[0;34m(\u001b[0m \u001b[0mstock\u001b[0m \u001b[0;34m=\u001b[0m \u001b[0;34m\"BBDC3\"\u001b[0m \u001b[0;34m,\u001b[0m \u001b[0mcountry\u001b[0m \u001b[0;34m=\u001b[0m \u001b[0;34m\"brazil\"\u001b[0m \u001b[0;34m)\u001b[0m\u001b[0;34m\u001b[0m\u001b[0;34m\u001b[0m\u001b[0m\n\u001b[0m\u001b[1;32m      2\u001b[0m \u001b[0mstock_dividends\u001b[0m\u001b[0;34m\u001b[0m\u001b[0;34m\u001b[0m\u001b[0m\n",
            "\u001b[0;32m/usr/local/lib/python3.6/dist-packages/investpy/stocks.py\u001b[0m in \u001b[0;36mget_stock_dividends\u001b[0;34m(stock, country)\u001b[0m\n\u001b[1;32m    982\u001b[0m         \u001b[0;32mreturn\u001b[0m \u001b[0mdf\u001b[0m\u001b[0;34m\u001b[0m\u001b[0;34m\u001b[0m\u001b[0m\n\u001b[1;32m    983\u001b[0m     \u001b[0;32melse\u001b[0m\u001b[0;34m:\u001b[0m\u001b[0;34m\u001b[0m\u001b[0;34m\u001b[0m\u001b[0m\n\u001b[0;32m--> 984\u001b[0;31m         \u001b[0;32mraise\u001b[0m \u001b[0mRuntimeError\u001b[0m\u001b[0;34m(\u001b[0m\u001b[0;34m\"ERR#0061: introduced stock has no dividend's data to display.\"\u001b[0m\u001b[0;34m)\u001b[0m\u001b[0;34m\u001b[0m\u001b[0;34m\u001b[0m\u001b[0m\n\u001b[0m\u001b[1;32m    985\u001b[0m \u001b[0;34m\u001b[0m\u001b[0m\n\u001b[1;32m    986\u001b[0m \u001b[0;34m\u001b[0m\u001b[0m\n",
            "\u001b[0;31mRuntimeError\u001b[0m: ERR#0061: introduced stock has no dividend's data to display."
          ]
        }
      ]
    },
    {
      "cell_type": "markdown",
      "metadata": {
        "id": "fnSwiwy5LmMw"
      },
      "source": [
        "###**investpy.stocks.get_stock_financial_summary** *( stock , country , summary_type = 'income_statement' , period = 'annual' )*\n",
        "\n",
        ">Esta função recupera o resumo financeiro da ação introduzida (por símbolo) do país introduzido, com base no valor summary_type, esta função retorna um tipo diferente de resumo financeiro, de forma que o formato de saída desta função depende de seu tipo. Além disso, o período do tipo de resumo financeiro recuperado pode ser especificado.\n",
        "\n",
        ">>**Parâmetros:**\n",
        ">>>* ação (`str`) - símbolo da ação para recuperar seu resumo financeiro.\n",
        ">>>* país (`str) - nome do país de onde está o símbolo de ação introduzido.\n",
        "`>>>* summary_type (`str`, opcional) - tipo de tabela de resumo financeiro a ser recuperado, o valor padrão é *income_statement* , mas todos os tipos disponíveis são: *income_statement* , *cash_flow_statement* e *balance_sheet* .\n",
        ">>>* período (`str`, opcional) - intervalo de período da tabela de resumo financeiro a ser recuperado, o valor padrão é *anual* , mas todos os períodos disponíveis são: *anual e trimestral*.\n",
        "\n",
        ">>**Retorna:**\n",
        ">>>>O resultado `pandas.DataFrame` contém a tabela do resumo financeiro solicitado da ação introduzida, portanto os nomes dos campos / colunas podem variar, pois depende do summary_type introduzido. Assim sucessivamente, a tabela devolvida terá o seguinte formato / estrutura:\n",
        "\n",
        ">>>>```\n",
        "Date || Field 1 | Field 2 | ... | Field N\n",
        "-----||---------|---------|-----|---------\n",
        "xxxx || xxxxxxx | xxxxxxx | xxx | xxxxxxx\n",
        ">>>>```\n",
        "\n",
        ">>**Tipo de retorno:**\n",
        ">>>>`pandas.DataFrame` - resumo financeiro\n",
        "\n",
        ">>**Avisos:**\n",
        ">>>* `ValueError` - gerado se algum dos parâmetros introduzidos não for válido ou estiver com erro.\n",
        ">>>* `FileNotFoundError` - gerado se o arquivo stocks.csv não foi encontrado.\n",
        ">>>* `IOError` - gerado se o arquivo stocks.csv não puder ser lido.\n",
        ">>>* `ConnectionError` - gerado se a conexão com Investing.com deu um erro ou não pôde ser estabelecida.\n",
        ">>>* `RuntimeError` - gerado se ocorrer algum erro durante a execução da função.\n",
        "\n",
        ">**Exemplos**\n",
        "\n",
        "\n",
        ">````\n",
        ">>> data = investpy.get_stock_financial_summary(stock='AAPL', country='United States', summary_type='income_statement', period='annual')\n",
        ">>> data.head()\n",
        "            Total Revenue  Gross Profit  Operating Income  Net Income\n",
        "Date\n",
        "2019-09-28         260174         98392             63930       55256\n",
        "2018-09-29         265595        101839             70898       59531\n",
        "2017-09-30         229234         88186             61344       48351\n",
        "2016-09-24         215639         84263             60024       45687\n",
        ">````\n",
        "\n",
        "---"
      ]
    },
    {
      "cell_type": "code",
      "metadata": {
        "id": "FmXE3DlHgC7m"
      },
      "source": [
        "!pip install investpy"
      ],
      "execution_count": null,
      "outputs": []
    },
    {
      "cell_type": "code",
      "metadata": {
        "id": "CmcdxapigDvB"
      },
      "source": [
        "import investpy"
      ],
      "execution_count": null,
      "outputs": []
    },
    {
      "cell_type": "code",
      "metadata": {
        "id": "mFKQDTiOgCrV",
        "outputId": "03795fa6-df92-417f-af8c-963894c321e3",
        "colab": {
          "base_uri": "https://localhost:8080/",
          "height": 204
        }
      },
      "source": [
        "financial_summary = investpy.stocks.get_stock_financial_summary ( stock = \"PETR4\" , country = \"brazil\" , summary_type = \"cash_flow_statement\" , period = \"annual\" )\n",
        "financial_summary"
      ],
      "execution_count": null,
      "outputs": [
        {
          "output_type": "execute_result",
          "data": {
            "text/html": [
              "<div>\n",
              "<style scoped>\n",
              "    .dataframe tbody tr th:only-of-type {\n",
              "        vertical-align: middle;\n",
              "    }\n",
              "\n",
              "    .dataframe tbody tr th {\n",
              "        vertical-align: top;\n",
              "    }\n",
              "\n",
              "    .dataframe thead th {\n",
              "        text-align: right;\n",
              "    }\n",
              "</style>\n",
              "<table border=\"1\" class=\"dataframe\">\n",
              "  <thead>\n",
              "    <tr style=\"text-align: right;\">\n",
              "      <th></th>\n",
              "      <th>Cash From Operating Activities</th>\n",
              "      <th>Cash From Investing Activities</th>\n",
              "      <th>Cash From Financing Activities</th>\n",
              "      <th>Net Change in Cash</th>\n",
              "    </tr>\n",
              "    <tr>\n",
              "      <th>Date</th>\n",
              "      <th></th>\n",
              "      <th></th>\n",
              "      <th></th>\n",
              "      <th></th>\n",
              "    </tr>\n",
              "  </thead>\n",
              "  <tbody>\n",
              "    <tr>\n",
              "      <th>2019-12-31</th>\n",
              "      <td>101766</td>\n",
              "      <td>-7952</td>\n",
              "      <td>-126336</td>\n",
              "      <td>-24125</td>\n",
              "    </tr>\n",
              "    <tr>\n",
              "      <th>2018-12-31</th>\n",
              "      <td>95846</td>\n",
              "      <td>-17788</td>\n",
              "      <td>-107040</td>\n",
              "      <td>-20640</td>\n",
              "    </tr>\n",
              "    <tr>\n",
              "      <th>2017-12-31</th>\n",
              "      <td>86467</td>\n",
              "      <td>-35218</td>\n",
              "      <td>-46482</td>\n",
              "      <td>5386</td>\n",
              "    </tr>\n",
              "    <tr>\n",
              "      <th>2016-12-31</th>\n",
              "      <td>89709</td>\n",
              "      <td>-40064</td>\n",
              "      <td>-66726</td>\n",
              "      <td>-28737</td>\n",
              "    </tr>\n",
              "  </tbody>\n",
              "</table>\n",
              "</div>"
            ],
            "text/plain": [
              "            Cash From Operating Activities  ...  Net Change in Cash\n",
              "Date                                        ...                    \n",
              "2019-12-31                          101766  ...              -24125\n",
              "2018-12-31                           95846  ...              -20640\n",
              "2017-12-31                           86467  ...                5386\n",
              "2016-12-31                           89709  ...              -28737\n",
              "\n",
              "[4 rows x 4 columns]"
            ]
          },
          "metadata": {
            "tags": []
          },
          "execution_count": 38
        }
      ]
    },
    {
      "cell_type": "markdown",
      "metadata": {
        "id": "PfdB7j16MASR"
      },
      "source": [
        "###**investpy.stocks.get_stock_historical_data** *( stock , country , from_date , to_date , as_json = False , order = 'ascending' , interval = 'Daily' )*\n",
        "\n",
        ">Esta função recupera dados históricos da ação introduzida de Investing.com. Assim, os dados históricos da ação introduzida no país especificado no intervalo de datas especificado serão recuperados e retornados como `pandas.DataFrame` se os parâmetros fossem válidos e a solicitação para Investing.com fosse bem-sucedida. Observe que, adicionalmente, alguns parâmetros opcionais podem ser especificados: as_json e order, que permitem ao usuário decidir se os dados serão retornados como a `json` ou não, e se os dados históricos serão ordenados em ordem crescente ou decrescente (onde o índice está a data), respectivamente.\n",
        "\n",
        ">>**Parâmetros:**\n",
        ">>>* ação (`str`) - símbolo da ação para recuperar dados históricos.\n",
        ">>>* país (`str`) - nome do país de onde se encontra o ação.\n",
        ">>>* from_date (`str`) - data formatada como *dd / mm / aaaa* , desde quando os dados serão recuperados.\n",
        ">>>* to_date (`str`) - data formatada como *dd / mm / aaaa* , até quando os dados serão recuperados.\n",
        ">>>* as_json (`bool`, opcional) - para determinar o formato dos dados de saída, tanto a `pandas.DataFrame` se False quanto a `json` se True.\n",
        ">>>* order (`str`, opcional) - para definir a ordem dos dados recuperados, que pode ser crescente ou decrescente.\n",
        ">>>* intervalo (`str`, opcional) - valor para definir o intervalo de dados históricos a recuperar, por padrão *Diário* , mas também pode ser *Semanal ou Mensal*.\n",
        "\n",
        ">>**Retorna:**\n",
        ">>>>A função pode retornar um `pandas.DataFrame` ou um `json` objeto, contendo os dados históricos recuperados da ação especificada do país especificado. Assim por diante, o dataframe resultante contém os valores de abertura, alta, baixa, fechamento e volume para a ação selecionada em dias de mercado e a moeda em que esses valores são apresentados.\\\n",
        "Os dados retornados se usarmos argumentos padrão serão parecidos com:\n",
        "\n",
        ">>>>````\n",
        "Date || Open | High | Low | Close | Volume | Currency\n",
        "-----||------|------|-----|-------|--------|----------\n",
        "xxxx || xxxx | xxxx | xxx | xxxxx | xxxxxx | xxxxxxxx\n",
        ">>>>````\n",
        "\n",
        ">>>>mas se definirmos *as_json = True* , a saída será:\n",
        "\n",
        ">>>>````\n",
        "{\n",
        "    name: name,\n",
        "    historical: [\n",
        "        {\n",
        "            date: 'dd/mm/yyyy',\n",
        "            open: x,\n",
        "            high: x,\n",
        "            low: x,\n",
        "            close: x,\n",
        "            volume: x,\n",
        "            currency: x\n",
        "        },\n",
        "        ...\n",
        "    ]\n",
        "}\n",
        ">>>>````\n",
        "\n",
        ">>**Tipo de retorno:**\n",
        ">>>>`pandas.DataFrame` ou `json`\n",
        "\n",
        ">>**Avisos:**\n",
        ">>>* `ValueError` - gerado sempre que qualquer um dos argumentos introduzidos não é válido ou está errado.\n",
        ">>>* `IOError` - gerado se o objeto / arquivo de ações não for encontrado ou não puder ser recuperado.\n",
        ">>>* `RuntimeError` - gerado se a ação / país introduzido não foi encontrado ou não correspondeu a nenhum dos existentes.\n",
        ">>>* `ConnectionError` - gerado se a conexão com Investing.com não puder ser estabelecida.\n",
        ">>>* `IndexError` - gerado se os dados históricos de ações não estiverem disponíveis ou não forem encontrados em Investing.com.\n",
        "\n",
        ">**Exemplos**\n",
        "\n",
        ">````\n",
        ">>> data = investpy.get_stock_historical_data(stock='bbva', country='spain', from_date='01/01/2010', to_date='01/01/2019')\n",
        ">>> data.head()\n",
        "             Open   High    Low  Close  Volume Currency\n",
        "Date\n",
        "2010-01-04  12.73  12.96  12.73  12.96       0      EUR\n",
        "2010-01-05  13.00  13.11  12.97  13.09       0      EUR\n",
        "2010-01-06  13.03  13.17  13.02  13.12       0      EUR\n",
        "2010-01-07  13.02  13.11  12.93  13.05       0      EUR\n",
        "2010-01-08  13.12  13.22  13.04  13.18       0      EUR\n",
        ">````\n",
        "\n",
        "---"
      ]
    },
    {
      "cell_type": "code",
      "metadata": {
        "id": "SGZYd9pVkgEv"
      },
      "source": [
        "!pip install investpy"
      ],
      "execution_count": null,
      "outputs": []
    },
    {
      "cell_type": "code",
      "metadata": {
        "id": "mcpreqUqkgVs"
      },
      "source": [
        "import investpy"
      ],
      "execution_count": null,
      "outputs": []
    },
    {
      "cell_type": "code",
      "metadata": {
        "id": "PKnJOs20kf4P",
        "outputId": "6fe011bc-2524-4a09-95cb-d795cb462f16",
        "colab": {
          "base_uri": "https://localhost:8080/",
          "height": 450
        }
      },
      "source": [
        "data_hd = investpy.stocks.get_stock_historical_data ( stock = \"ALPA4\" , country = \"brazil\" , from_date = \"01/01/1900\" , to_date = \"15/10/2020\" , as_json = False , order = 'ascending' , interval = 'Daily' )\n",
        "data_hd"
      ],
      "execution_count": null,
      "outputs": [
        {
          "output_type": "execute_result",
          "data": {
            "text/html": [
              "<div>\n",
              "<style scoped>\n",
              "    .dataframe tbody tr th:only-of-type {\n",
              "        vertical-align: middle;\n",
              "    }\n",
              "\n",
              "    .dataframe tbody tr th {\n",
              "        vertical-align: top;\n",
              "    }\n",
              "\n",
              "    .dataframe thead th {\n",
              "        text-align: right;\n",
              "    }\n",
              "</style>\n",
              "<table border=\"1\" class=\"dataframe\">\n",
              "  <thead>\n",
              "    <tr style=\"text-align: right;\">\n",
              "      <th></th>\n",
              "      <th>Open</th>\n",
              "      <th>High</th>\n",
              "      <th>Low</th>\n",
              "      <th>Close</th>\n",
              "      <th>Volume</th>\n",
              "      <th>Currency</th>\n",
              "    </tr>\n",
              "    <tr>\n",
              "      <th>Date</th>\n",
              "      <th></th>\n",
              "      <th></th>\n",
              "      <th></th>\n",
              "      <th></th>\n",
              "      <th></th>\n",
              "      <th></th>\n",
              "    </tr>\n",
              "  </thead>\n",
              "  <tbody>\n",
              "    <tr>\n",
              "      <th>1992-10-20</th>\n",
              "      <td>0.00</td>\n",
              "      <td>0.00</td>\n",
              "      <td>0.00</td>\n",
              "      <td>0.00</td>\n",
              "      <td>0</td>\n",
              "      <td>BRL</td>\n",
              "    </tr>\n",
              "    <tr>\n",
              "      <th>1992-10-21</th>\n",
              "      <td>0.00</td>\n",
              "      <td>0.00</td>\n",
              "      <td>0.00</td>\n",
              "      <td>0.00</td>\n",
              "      <td>0</td>\n",
              "      <td>BRL</td>\n",
              "    </tr>\n",
              "    <tr>\n",
              "      <th>1992-10-23</th>\n",
              "      <td>0.00</td>\n",
              "      <td>0.00</td>\n",
              "      <td>0.00</td>\n",
              "      <td>0.00</td>\n",
              "      <td>0</td>\n",
              "      <td>BRL</td>\n",
              "    </tr>\n",
              "    <tr>\n",
              "      <th>1992-10-27</th>\n",
              "      <td>0.00</td>\n",
              "      <td>0.00</td>\n",
              "      <td>0.00</td>\n",
              "      <td>0.00</td>\n",
              "      <td>0</td>\n",
              "      <td>BRL</td>\n",
              "    </tr>\n",
              "    <tr>\n",
              "      <th>1992-10-29</th>\n",
              "      <td>0.00</td>\n",
              "      <td>0.00</td>\n",
              "      <td>0.00</td>\n",
              "      <td>0.00</td>\n",
              "      <td>0</td>\n",
              "      <td>BRL</td>\n",
              "    </tr>\n",
              "    <tr>\n",
              "      <th>...</th>\n",
              "      <td>...</td>\n",
              "      <td>...</td>\n",
              "      <td>...</td>\n",
              "      <td>...</td>\n",
              "      <td>...</td>\n",
              "      <td>...</td>\n",
              "    </tr>\n",
              "    <tr>\n",
              "      <th>2020-10-08</th>\n",
              "      <td>40.40</td>\n",
              "      <td>40.97</td>\n",
              "      <td>39.94</td>\n",
              "      <td>40.39</td>\n",
              "      <td>2470100</td>\n",
              "      <td>BRL</td>\n",
              "    </tr>\n",
              "    <tr>\n",
              "      <th>2020-10-09</th>\n",
              "      <td>40.28</td>\n",
              "      <td>40.90</td>\n",
              "      <td>40.07</td>\n",
              "      <td>40.27</td>\n",
              "      <td>1559300</td>\n",
              "      <td>BRL</td>\n",
              "    </tr>\n",
              "    <tr>\n",
              "      <th>2020-10-13</th>\n",
              "      <td>40.58</td>\n",
              "      <td>40.96</td>\n",
              "      <td>40.33</td>\n",
              "      <td>40.35</td>\n",
              "      <td>3503400</td>\n",
              "      <td>BRL</td>\n",
              "    </tr>\n",
              "    <tr>\n",
              "      <th>2020-10-14</th>\n",
              "      <td>40.36</td>\n",
              "      <td>40.97</td>\n",
              "      <td>40.19</td>\n",
              "      <td>40.55</td>\n",
              "      <td>2772600</td>\n",
              "      <td>BRL</td>\n",
              "    </tr>\n",
              "    <tr>\n",
              "      <th>2020-10-15</th>\n",
              "      <td>40.30</td>\n",
              "      <td>40.88</td>\n",
              "      <td>39.44</td>\n",
              "      <td>40.63</td>\n",
              "      <td>1957100</td>\n",
              "      <td>BRL</td>\n",
              "    </tr>\n",
              "  </tbody>\n",
              "</table>\n",
              "<p>6102 rows × 6 columns</p>\n",
              "</div>"
            ],
            "text/plain": [
              "             Open   High    Low  Close   Volume Currency\n",
              "Date                                                    \n",
              "1992-10-20   0.00   0.00   0.00   0.00        0      BRL\n",
              "1992-10-21   0.00   0.00   0.00   0.00        0      BRL\n",
              "1992-10-23   0.00   0.00   0.00   0.00        0      BRL\n",
              "1992-10-27   0.00   0.00   0.00   0.00        0      BRL\n",
              "1992-10-29   0.00   0.00   0.00   0.00        0      BRL\n",
              "...           ...    ...    ...    ...      ...      ...\n",
              "2020-10-08  40.40  40.97  39.94  40.39  2470100      BRL\n",
              "2020-10-09  40.28  40.90  40.07  40.27  1559300      BRL\n",
              "2020-10-13  40.58  40.96  40.33  40.35  3503400      BRL\n",
              "2020-10-14  40.36  40.97  40.19  40.55  2772600      BRL\n",
              "2020-10-15  40.30  40.88  39.44  40.63  1957100      BRL\n",
              "\n",
              "[6102 rows x 6 columns]"
            ]
          },
          "metadata": {
            "tags": []
          },
          "execution_count": 43
        }
      ]
    },
    {
      "cell_type": "markdown",
      "metadata": {
        "id": "759WFrzQMlxM"
      },
      "source": [
        "###**investpy.stocks.get_stock_information** *( stock , country , as_json = False )*\n",
        ">Esta função recupera informações financeiras fundamentais da ação especificada. As informações recuperadas da ação podem ser valiosas, pois são informações adicionais que podem ser usadas combinadas com os valores OHLC, para determinar as percepções financeiras da empresa que detém a ação especificada.\n",
        "\n",
        ">>**Parâmetros:**\n",
        ">>>* **ação** (`str`) - símbolo da ação de onde recuperar suas informações.\n",
        ">>>* **país** (`country`) - nome do país de onde vem a ação.\n",
        ">>>* **as_json** (`bool`, opcional) - argumento opcional para determinar o formato dos dados de saída (`dict` ou `json`).\n",
        "\n",
        ">>**Retorna:**\n",
        ">>>>O resultado `pandas.DataFrame` contém os campos de informações recuperados da Investing.com das ações especificadas; também pode ser retornado como um `dict`, se o argumento `as_json` = *True* .\\\n",
        "Se algum dos campos de informação não puder ser recuperado, esse (s) campo (s) será (ão) preenchido (s) com nenhum valor. Se o processo de recuperação for bem-sucedido, o resultado `dict` será semelhante a:\n",
        "\n",
        ">>>>````\n",
        "stock_information = {\n",
        "    \"Stock Symbol\": \"AAPL\",\n",
        "    \"Prev. Close\": 267.25,\n",
        "    \"Todays Range\": \"263.45 - 268.25\",\n",
        "    \"Revenue\": 260170000000.00003,\n",
        "    \"Open\": 267.27,\n",
        "    \"52 wk Range\": \"142 - 268.25\",\n",
        "    \"EPS\": 11.85,\n",
        "    \"Volume\": 23693550.0,\n",
        "    \"Market Cap\": 1173730000000.0,\n",
        "    \"Dividend (Yield)\": \"3.08 (1.15%)\",\n",
        "    \"Average Vol. (3m)\": 25609925.0,\n",
        "    \"P/E Ratio\": 22.29,\n",
        "    \"Beta\": 1.23,\n",
        "    \"1-Year Change\": \"47.92%\",\n",
        "    \"Shares Outstanding\": 4443236000.0,\n",
        "    \"Next Earnings Date\": \"04/02/2020\"\n",
        "}\n",
        ">>>>````\n",
        "\n",
        ">>**Tipo de retorno:**\n",
        ">>>>`pandas.DataFrame` ou `dict` - stock_information\n",
        "\n",
        ">>**Avisos:**\n",
        ">>>* `ValueError` - gerado se algum dos argumentos introduzidos não for válido ou estiver com erro.\n",
        ">>>* `FileNotFoundError` - gerado se o arquivo *stocks.csv* não foi encontrado ou *ocorreu um erro* .\n",
        ">>>*`IOError` - gerado se o arquivo *stocks.csv* estiver vazio ou com erro.\n",
        ">>>* `RuntimeError` - gerado se o processo de raspagem falhou durante a execução.\n",
        ">>>* `ConnectionError` - gerado se a conexão com Investing.com for incorreta (não retornou HTTP 200)\n",
        "\n",
        "---"
      ]
    },
    {
      "cell_type": "code",
      "metadata": {
        "id": "8CpKYgS2lliX"
      },
      "source": [
        "!pip install investpy"
      ],
      "execution_count": null,
      "outputs": []
    },
    {
      "cell_type": "code",
      "metadata": {
        "id": "Ffirardull04"
      },
      "source": [
        "import investpy"
      ],
      "execution_count": null,
      "outputs": []
    },
    {
      "cell_type": "code",
      "metadata": {
        "id": "w8cB42ZMllNn",
        "outputId": "7d073048-d458-47c8-d632-6dd2b9b153a8",
        "colab": {
          "base_uri": "https://localhost:8080/",
          "height": 80
        }
      },
      "source": [
        "stock_information = investpy.stocks.get_stock_information ( stock = \"ALPA4\" , country = \"brazil\" , as_json = False )\n",
        "stock_information"
      ],
      "execution_count": null,
      "outputs": [
        {
          "output_type": "execute_result",
          "data": {
            "text/html": [
              "<div>\n",
              "<style scoped>\n",
              "    .dataframe tbody tr th:only-of-type {\n",
              "        vertical-align: middle;\n",
              "    }\n",
              "\n",
              "    .dataframe tbody tr th {\n",
              "        vertical-align: top;\n",
              "    }\n",
              "\n",
              "    .dataframe thead th {\n",
              "        text-align: right;\n",
              "    }\n",
              "</style>\n",
              "<table border=\"1\" class=\"dataframe\">\n",
              "  <thead>\n",
              "    <tr style=\"text-align: right;\">\n",
              "      <th></th>\n",
              "      <th>Stock Symbol</th>\n",
              "      <th>Prev. Close</th>\n",
              "      <th>Todays Range</th>\n",
              "      <th>Revenue</th>\n",
              "      <th>Open</th>\n",
              "      <th>52 wk Range</th>\n",
              "      <th>EPS</th>\n",
              "      <th>Volume</th>\n",
              "      <th>Market Cap</th>\n",
              "      <th>Dividend (Yield)</th>\n",
              "      <th>Average Vol. (3m)</th>\n",
              "      <th>P/E Ratio</th>\n",
              "      <th>Beta</th>\n",
              "      <th>1-Year Change</th>\n",
              "      <th>Shares Outstanding</th>\n",
              "      <th>Next Earnings Date</th>\n",
              "    </tr>\n",
              "  </thead>\n",
              "  <tbody>\n",
              "    <tr>\n",
              "      <th>0</th>\n",
              "      <td>ALPA4</td>\n",
              "      <td>40.55</td>\n",
              "      <td>39.44 - 40.88</td>\n",
              "      <td>3.220000e+09</td>\n",
              "      <td>40.4</td>\n",
              "      <td>15.76 - 40.97</td>\n",
              "      <td>0.53</td>\n",
              "      <td>2017000.0</td>\n",
              "      <td>2.226000e+10</td>\n",
              "      <td>N/A (0.56%)</td>\n",
              "      <td>1938817.0</td>\n",
              "      <td>76.69</td>\n",
              "      <td>0.67</td>\n",
              "      <td>52.62%</td>\n",
              "      <td>578816719.0</td>\n",
              "      <td>04/11/2020</td>\n",
              "    </tr>\n",
              "  </tbody>\n",
              "</table>\n",
              "</div>"
            ],
            "text/plain": [
              "  Stock Symbol  Prev. Close  ... Shares Outstanding  Next Earnings Date\n",
              "0        ALPA4        40.55  ...        578816719.0          04/11/2020\n",
              "\n",
              "[1 rows x 16 columns]"
            ]
          },
          "metadata": {
            "tags": []
          },
          "execution_count": 54
        }
      ]
    },
    {
      "cell_type": "markdown",
      "metadata": {
        "id": "u1Ekt0KqOi98"
      },
      "source": [
        "###**investpy.stocks.get_stock_recent_data** *( stock , country , as_json = False , order = 'ascending' , interval = 'Daily' )*\n",
        ">Esta função recupera dados históricos recentes da ação introduzido de Investing.com. Assim, os dados recentes da ação introduzido no país especificado serão recuperados e retornados como um `pandas.DataFrame` se os parâmetros forem válidos e a solicitação ao Investing.com for bem-sucedida. Observe que, adicionalmente, alguns parâmetros opcionais podem ser especificados: as_json e order, que permitem ao usuário decidir se os dados serão retornados como a `json` ou não, e se os dados históricos serão ordenados em ordem crescente ou decrescente (onde o índice está a data), respectivamente.\n",
        "\n",
        ">>**Parâmetros:**\n",
        ">>>* **ação** (`str`) - símbolo da ação para recuperar dados históricos recentes.\n",
        ">>>* **país** (`str`) - nome do país de onde se encontra a ação.\n",
        ">>>* **as_json** (`bool`, opcional) - para determinar o formato dos dados de saída, tanto a `pandas.DataFrame` se False quanto a `json` se True.\n",
        ">>>* **order** (`str`, opcional) - para definir a ordem dos dados recuperados, que pode ser crescente ou decrescente.\n",
        ">>>* **intervalo** (`str`, opcional) - valor para definir o intervalo de dados históricos a recuperar, por padrão *Diário* , mas também pode ser *Semanal ou Mensal*.\n",
        "\n",
        ">>**Retorna:**\n",
        ">>>>A função pode retornar um `pandas.DataFrame` ou um `json` objeto, contendo os dados recentes recuperados da ação especificado do país especificado. Assim por diante, o dataframe resultante contém os valores de abertura, alta, baixa, fechamento e volume para a ação selecionada em dias de mercado e a moeda em que esses valores são apresentados.\\\n",
        "Os dados recentes resultantes, caso os parâmetros padrão tenham sido aplicados, serão semelhantes a:\n",
        "\n",
        ">>>>````\n",
        "Date || Open | High | Low | Close | Volume | Currency\n",
        "-----||------|------|-----|-------|--------|----------\n",
        "xxxx || xxxx | xxxx | xxx | xxxxx | xxxxxx | xxxxxxxx\n",
        ">>>>````\n",
        "mas caso o parâmetro as_json tenha sido definido como True, a saída será:\n",
        "\n",
        ">>>>````\n",
        "{\n",
        "    name: name,\n",
        "    recent: [\n",
        "        {\n",
        "            date: 'dd/mm/yyyy',\n",
        "            open: x,\n",
        "            high: x,\n",
        "            low: x,\n",
        "            close: x,\n",
        "            volume: x,\n",
        "            currency: x\n",
        "        },\n",
        "        ...\n",
        "    ]\n",
        "}\n",
        "````\n",
        "\n",
        ">>**Tipo de retorno:**\n",
        ">>>>`pandas.DataFrame` ou `json`\n",
        "\n",
        ">>**Avisos:**\n",
        ">>>* `ValueError` - gerado sempre que qualquer um dos argumentos introduzidos não é válido ou está errado.\n",
        ">>>* `IOError` - gerado se o objeto / arquivo de ações não for encontrado ou não puder ser recuperado.\n",
        ">>>* `RuntimeError` - gerado se a ação / país introduzido não foi encontrado ou não correspondeu a nenhum dos existentes.\n",
        ">>>* `ConnectionError` - gerado se a conexão com Investing.com não puder ser estabelecida.\n",
        ">>>* `IndexError` - gerado se os dados recentes da ação não estiverem disponíveis ou não forem encontrados no Investing.com.\n",
        "\n",
        ">**Exemplos**\n",
        "````\n",
        ">>> data = investpy.get_stock_recent_data(stock='bbva', country='spain')\n",
        ">>> data.head()\n",
        "             Open   High    Low  Close    Volume Currency\n",
        "Date\n",
        "2019-08-13  4.263  4.395  4.230  4.353  27250000      EUR\n",
        "2019-08-14  4.322  4.325  4.215  4.244  36890000      EUR\n",
        "2019-08-15  4.281  4.298  4.187  4.234  21340000      EUR\n",
        "2019-08-16  4.234  4.375  4.208  4.365  46080000      EUR\n",
        "2019-08-19  4.396  4.425  4.269  4.269  18950000      EUR\n",
        "````\n",
        "\n",
        "---\n"
      ]
    },
    {
      "cell_type": "code",
      "metadata": {
        "id": "9Du08_jFmqxf"
      },
      "source": [
        "!pip install investpy"
      ],
      "execution_count": null,
      "outputs": []
    },
    {
      "cell_type": "code",
      "metadata": {
        "id": "Rx7ID4PkmrD6"
      },
      "source": [
        "import investpy"
      ],
      "execution_count": null,
      "outputs": []
    },
    {
      "cell_type": "code",
      "metadata": {
        "id": "530oGrXImqkn",
        "outputId": "3f217721-c087-4aa6-9fc5-cc7ecdc658cd",
        "colab": {
          "base_uri": "https://localhost:8080/",
          "height": 762
        }
      },
      "source": [
        "data_rd = investpy.stocks.get_stock_recent_data ( stock = \"ALPA4\" , country = \"brazil\" , as_json = False , order = 'ascending' , interval = 'Daily' )\n",
        "data_rd"
      ],
      "execution_count": null,
      "outputs": [
        {
          "output_type": "execute_result",
          "data": {
            "text/html": [
              "<div>\n",
              "<style scoped>\n",
              "    .dataframe tbody tr th:only-of-type {\n",
              "        vertical-align: middle;\n",
              "    }\n",
              "\n",
              "    .dataframe tbody tr th {\n",
              "        vertical-align: top;\n",
              "    }\n",
              "\n",
              "    .dataframe thead th {\n",
              "        text-align: right;\n",
              "    }\n",
              "</style>\n",
              "<table border=\"1\" class=\"dataframe\">\n",
              "  <thead>\n",
              "    <tr style=\"text-align: right;\">\n",
              "      <th></th>\n",
              "      <th>Open</th>\n",
              "      <th>High</th>\n",
              "      <th>Low</th>\n",
              "      <th>Close</th>\n",
              "      <th>Volume</th>\n",
              "      <th>Currency</th>\n",
              "    </tr>\n",
              "    <tr>\n",
              "      <th>Date</th>\n",
              "      <th></th>\n",
              "      <th></th>\n",
              "      <th></th>\n",
              "      <th></th>\n",
              "      <th></th>\n",
              "      <th></th>\n",
              "    </tr>\n",
              "  </thead>\n",
              "  <tbody>\n",
              "    <tr>\n",
              "      <th>2020-09-15</th>\n",
              "      <td>37.60</td>\n",
              "      <td>37.62</td>\n",
              "      <td>35.86</td>\n",
              "      <td>36.83</td>\n",
              "      <td>2473100</td>\n",
              "      <td>BRL</td>\n",
              "    </tr>\n",
              "    <tr>\n",
              "      <th>2020-09-16</th>\n",
              "      <td>37.03</td>\n",
              "      <td>37.40</td>\n",
              "      <td>35.99</td>\n",
              "      <td>36.10</td>\n",
              "      <td>2285700</td>\n",
              "      <td>BRL</td>\n",
              "    </tr>\n",
              "    <tr>\n",
              "      <th>2020-09-17</th>\n",
              "      <td>35.99</td>\n",
              "      <td>36.27</td>\n",
              "      <td>35.36</td>\n",
              "      <td>36.08</td>\n",
              "      <td>935500</td>\n",
              "      <td>BRL</td>\n",
              "    </tr>\n",
              "    <tr>\n",
              "      <th>2020-09-18</th>\n",
              "      <td>36.06</td>\n",
              "      <td>36.21</td>\n",
              "      <td>34.92</td>\n",
              "      <td>35.00</td>\n",
              "      <td>2339700</td>\n",
              "      <td>BRL</td>\n",
              "    </tr>\n",
              "    <tr>\n",
              "      <th>2020-09-21</th>\n",
              "      <td>34.50</td>\n",
              "      <td>36.00</td>\n",
              "      <td>33.84</td>\n",
              "      <td>36.00</td>\n",
              "      <td>1876200</td>\n",
              "      <td>BRL</td>\n",
              "    </tr>\n",
              "    <tr>\n",
              "      <th>2020-09-22</th>\n",
              "      <td>35.86</td>\n",
              "      <td>36.47</td>\n",
              "      <td>35.08</td>\n",
              "      <td>36.24</td>\n",
              "      <td>1619800</td>\n",
              "      <td>BRL</td>\n",
              "    </tr>\n",
              "    <tr>\n",
              "      <th>2020-09-23</th>\n",
              "      <td>36.30</td>\n",
              "      <td>36.43</td>\n",
              "      <td>35.64</td>\n",
              "      <td>35.85</td>\n",
              "      <td>1266600</td>\n",
              "      <td>BRL</td>\n",
              "    </tr>\n",
              "    <tr>\n",
              "      <th>2020-09-24</th>\n",
              "      <td>35.58</td>\n",
              "      <td>37.18</td>\n",
              "      <td>35.07</td>\n",
              "      <td>36.82</td>\n",
              "      <td>2078600</td>\n",
              "      <td>BRL</td>\n",
              "    </tr>\n",
              "    <tr>\n",
              "      <th>2020-09-25</th>\n",
              "      <td>36.51</td>\n",
              "      <td>38.87</td>\n",
              "      <td>36.26</td>\n",
              "      <td>38.68</td>\n",
              "      <td>2710900</td>\n",
              "      <td>BRL</td>\n",
              "    </tr>\n",
              "    <tr>\n",
              "      <th>2020-09-28</th>\n",
              "      <td>38.85</td>\n",
              "      <td>39.40</td>\n",
              "      <td>37.06</td>\n",
              "      <td>37.92</td>\n",
              "      <td>2397200</td>\n",
              "      <td>BRL</td>\n",
              "    </tr>\n",
              "    <tr>\n",
              "      <th>2020-09-29</th>\n",
              "      <td>37.95</td>\n",
              "      <td>38.38</td>\n",
              "      <td>37.11</td>\n",
              "      <td>37.72</td>\n",
              "      <td>1765800</td>\n",
              "      <td>BRL</td>\n",
              "    </tr>\n",
              "    <tr>\n",
              "      <th>2020-09-30</th>\n",
              "      <td>37.91</td>\n",
              "      <td>38.66</td>\n",
              "      <td>37.30</td>\n",
              "      <td>38.20</td>\n",
              "      <td>1650800</td>\n",
              "      <td>BRL</td>\n",
              "    </tr>\n",
              "    <tr>\n",
              "      <th>2020-10-01</th>\n",
              "      <td>38.19</td>\n",
              "      <td>40.33</td>\n",
              "      <td>38.08</td>\n",
              "      <td>39.88</td>\n",
              "      <td>2490100</td>\n",
              "      <td>BRL</td>\n",
              "    </tr>\n",
              "    <tr>\n",
              "      <th>2020-10-02</th>\n",
              "      <td>39.62</td>\n",
              "      <td>40.27</td>\n",
              "      <td>39.22</td>\n",
              "      <td>39.25</td>\n",
              "      <td>1717900</td>\n",
              "      <td>BRL</td>\n",
              "    </tr>\n",
              "    <tr>\n",
              "      <th>2020-10-05</th>\n",
              "      <td>39.50</td>\n",
              "      <td>39.89</td>\n",
              "      <td>38.86</td>\n",
              "      <td>39.11</td>\n",
              "      <td>1844500</td>\n",
              "      <td>BRL</td>\n",
              "    </tr>\n",
              "    <tr>\n",
              "      <th>2020-10-06</th>\n",
              "      <td>39.47</td>\n",
              "      <td>40.37</td>\n",
              "      <td>38.92</td>\n",
              "      <td>39.83</td>\n",
              "      <td>2304200</td>\n",
              "      <td>BRL</td>\n",
              "    </tr>\n",
              "    <tr>\n",
              "      <th>2020-10-07</th>\n",
              "      <td>40.07</td>\n",
              "      <td>40.71</td>\n",
              "      <td>39.50</td>\n",
              "      <td>40.28</td>\n",
              "      <td>1274800</td>\n",
              "      <td>BRL</td>\n",
              "    </tr>\n",
              "    <tr>\n",
              "      <th>2020-10-08</th>\n",
              "      <td>40.40</td>\n",
              "      <td>40.97</td>\n",
              "      <td>39.94</td>\n",
              "      <td>40.39</td>\n",
              "      <td>2470100</td>\n",
              "      <td>BRL</td>\n",
              "    </tr>\n",
              "    <tr>\n",
              "      <th>2020-10-09</th>\n",
              "      <td>40.28</td>\n",
              "      <td>40.90</td>\n",
              "      <td>40.07</td>\n",
              "      <td>40.27</td>\n",
              "      <td>1559300</td>\n",
              "      <td>BRL</td>\n",
              "    </tr>\n",
              "    <tr>\n",
              "      <th>2020-10-13</th>\n",
              "      <td>40.58</td>\n",
              "      <td>40.96</td>\n",
              "      <td>40.33</td>\n",
              "      <td>40.35</td>\n",
              "      <td>3503400</td>\n",
              "      <td>BRL</td>\n",
              "    </tr>\n",
              "    <tr>\n",
              "      <th>2020-10-14</th>\n",
              "      <td>40.36</td>\n",
              "      <td>40.97</td>\n",
              "      <td>40.19</td>\n",
              "      <td>40.55</td>\n",
              "      <td>2772600</td>\n",
              "      <td>BRL</td>\n",
              "    </tr>\n",
              "    <tr>\n",
              "      <th>2020-10-15</th>\n",
              "      <td>40.30</td>\n",
              "      <td>40.88</td>\n",
              "      <td>39.44</td>\n",
              "      <td>40.80</td>\n",
              "      <td>2023600</td>\n",
              "      <td>BRL</td>\n",
              "    </tr>\n",
              "  </tbody>\n",
              "</table>\n",
              "</div>"
            ],
            "text/plain": [
              "             Open   High    Low  Close   Volume Currency\n",
              "Date                                                    \n",
              "2020-09-15  37.60  37.62  35.86  36.83  2473100      BRL\n",
              "2020-09-16  37.03  37.40  35.99  36.10  2285700      BRL\n",
              "2020-09-17  35.99  36.27  35.36  36.08   935500      BRL\n",
              "2020-09-18  36.06  36.21  34.92  35.00  2339700      BRL\n",
              "2020-09-21  34.50  36.00  33.84  36.00  1876200      BRL\n",
              "2020-09-22  35.86  36.47  35.08  36.24  1619800      BRL\n",
              "2020-09-23  36.30  36.43  35.64  35.85  1266600      BRL\n",
              "2020-09-24  35.58  37.18  35.07  36.82  2078600      BRL\n",
              "2020-09-25  36.51  38.87  36.26  38.68  2710900      BRL\n",
              "2020-09-28  38.85  39.40  37.06  37.92  2397200      BRL\n",
              "2020-09-29  37.95  38.38  37.11  37.72  1765800      BRL\n",
              "2020-09-30  37.91  38.66  37.30  38.20  1650800      BRL\n",
              "2020-10-01  38.19  40.33  38.08  39.88  2490100      BRL\n",
              "2020-10-02  39.62  40.27  39.22  39.25  1717900      BRL\n",
              "2020-10-05  39.50  39.89  38.86  39.11  1844500      BRL\n",
              "2020-10-06  39.47  40.37  38.92  39.83  2304200      BRL\n",
              "2020-10-07  40.07  40.71  39.50  40.28  1274800      BRL\n",
              "2020-10-08  40.40  40.97  39.94  40.39  2470100      BRL\n",
              "2020-10-09  40.28  40.90  40.07  40.27  1559300      BRL\n",
              "2020-10-13  40.58  40.96  40.33  40.35  3503400      BRL\n",
              "2020-10-14  40.36  40.97  40.19  40.55  2772600      BRL\n",
              "2020-10-15  40.30  40.88  39.44  40.80  2023600      BRL"
            ]
          },
          "metadata": {
            "tags": []
          },
          "execution_count": 55
        }
      ]
    },
    {
      "cell_type": "markdown",
      "metadata": {
        "id": "XQkakdh2Qxri"
      },
      "source": [
        "###**investpy.stocks.get_stocks( country = None )**\n",
        ">Esta função recupera todos os dados de ações armazenados no arquivo *stocks.csv* , que anteriormente foram recuperados de Investing.com. Como o objeto resultante é uma matriz de dados, os dados da ação são adequadamente estruturados em linhas e colunas, onde as colunas são os nomes dos atributos dos dados do ação. Além disso, a filtragem de país pode ser especificada, o que fará com que esta função retorne não todos os dados de ação armazenados, mas apenas os dados de ação do país introduzido.\n",
        "\n",
        ">>**Parâmetros:**\n",
        ">>>**país** (`str`, opcional) - nome do país de onde recuperar todas as ações disponíveis.\n",
        "\n",
        ">>**Retorna:**\n",
        ">>>O resultado `pandas.DataFrame` contém todos os dados de ações do país introduzido, se especificado, ou de todos os países, se Nenhum foi especificado, conforme indexado em Investing.com a partir das informações previamente recuperadas por investpy e armazenadas em um arquivo csv.\\\n",
        "Então, o resultado `pandas.DataFrame` será semelhante a:\n",
        "\n",
        ">>>````\n",
        "country | name | full name | isin | currency | symbol\n",
        "--------|------|-----------|------|----------|--------\n",
        "xxxxxxx | xxxx | xxxxxxxxx | xxxx | xxxxxxxx | xxxxxx\n",
        ">>>````\n",
        "\n",
        ">>**Tipo de retorno:**\n",
        ">>>`pandas.DataFrame` - stocks_df\n",
        "\n",
        ">>**Avisos:**\n",
        ">>>* `ValueError` - gerado sempre que algum dos argumentos introduzidos não é válido.\n",
        ">>>* `FileNotFoundError` - gerado se o arquivo stocks.csv não foi encontrado.\n",
        ">>>* `IOError` - gerado quando o arquivo stocks.csv está ausente ou vazio.\n",
        "\n",
        "---\n"
      ]
    },
    {
      "cell_type": "code",
      "metadata": {
        "id": "Qzey3VwnXSJ-"
      },
      "source": [
        "!pip install investpy"
      ],
      "execution_count": null,
      "outputs": []
    },
    {
      "cell_type": "code",
      "metadata": {
        "id": "Tdr-V14eXSfl"
      },
      "source": [
        "import investpy"
      ],
      "execution_count": null,
      "outputs": []
    },
    {
      "cell_type": "code",
      "metadata": {
        "id": "yBjwOA9ZXR2Q",
        "outputId": "c135116b-0773-4f51-f491-b20107862c81",
        "colab": {
          "base_uri": "https://localhost:8080/",
          "height": 419
        }
      },
      "source": [
        "stocks_df = investpy.stocks.get_stocks( country = \"brazil\" )\n",
        "stocks_df"
      ],
      "execution_count": null,
      "outputs": [
        {
          "output_type": "execute_result",
          "data": {
            "text/html": [
              "<div>\n",
              "<style scoped>\n",
              "    .dataframe tbody tr th:only-of-type {\n",
              "        vertical-align: middle;\n",
              "    }\n",
              "\n",
              "    .dataframe tbody tr th {\n",
              "        vertical-align: top;\n",
              "    }\n",
              "\n",
              "    .dataframe thead th {\n",
              "        text-align: right;\n",
              "    }\n",
              "</style>\n",
              "<table border=\"1\" class=\"dataframe\">\n",
              "  <thead>\n",
              "    <tr style=\"text-align: right;\">\n",
              "      <th></th>\n",
              "      <th>country</th>\n",
              "      <th>name</th>\n",
              "      <th>full_name</th>\n",
              "      <th>isin</th>\n",
              "      <th>currency</th>\n",
              "      <th>symbol</th>\n",
              "    </tr>\n",
              "  </thead>\n",
              "  <tbody>\n",
              "    <tr>\n",
              "      <th>0</th>\n",
              "      <td>brazil</td>\n",
              "      <td>ABC BRASIL PN</td>\n",
              "      <td>Banco ABC Brasil SA</td>\n",
              "      <td>BRABCBACNPR4</td>\n",
              "      <td>BRL</td>\n",
              "      <td>ABCB4</td>\n",
              "    </tr>\n",
              "    <tr>\n",
              "      <th>1</th>\n",
              "      <td>brazil</td>\n",
              "      <td>BRASILAGRO ON</td>\n",
              "      <td>BrasilAgro - Co ON NM</td>\n",
              "      <td>BRAGROACNOR7</td>\n",
              "      <td>BRL</td>\n",
              "      <td>AGRO3</td>\n",
              "    </tr>\n",
              "    <tr>\n",
              "      <th>2</th>\n",
              "      <td>brazil</td>\n",
              "      <td>RUMO ON NM</td>\n",
              "      <td>RUMO Logistica Operadora Multimodal SA</td>\n",
              "      <td>BRRAILACNOR9</td>\n",
              "      <td>BRL</td>\n",
              "      <td>RAIL3</td>\n",
              "    </tr>\n",
              "    <tr>\n",
              "      <th>3</th>\n",
              "      <td>brazil</td>\n",
              "      <td>ALPARGATAS ON</td>\n",
              "      <td>Alpargatas SA</td>\n",
              "      <td>BRALPAACNOR0</td>\n",
              "      <td>BRL</td>\n",
              "      <td>ALPA3</td>\n",
              "    </tr>\n",
              "    <tr>\n",
              "      <th>4</th>\n",
              "      <td>brazil</td>\n",
              "      <td>ALPARGATAS PN</td>\n",
              "      <td>Alpargatas SA</td>\n",
              "      <td>BRALPAACNPR7</td>\n",
              "      <td>BRL</td>\n",
              "      <td>ALPA4</td>\n",
              "    </tr>\n",
              "    <tr>\n",
              "      <th>...</th>\n",
              "      <td>...</td>\n",
              "      <td>...</td>\n",
              "      <td>...</td>\n",
              "      <td>...</td>\n",
              "      <td>...</td>\n",
              "      <td>...</td>\n",
              "    </tr>\n",
              "    <tr>\n",
              "      <th>744</th>\n",
              "      <td>brazil</td>\n",
              "      <td>Integral Brei Reit</td>\n",
              "      <td>Fdo Inv Imob Fof Integral Brei Reit</td>\n",
              "      <td>BRIBFFCTF007</td>\n",
              "      <td>BRL</td>\n",
              "      <td>IBFF11</td>\n",
              "    </tr>\n",
              "    <tr>\n",
              "      <th>745</th>\n",
              "      <td>brazil</td>\n",
              "      <td>Vbi Cri</td>\n",
              "      <td>Fi Imobiliario Vbi Cri</td>\n",
              "      <td>BRCVBICTF001</td>\n",
              "      <td>BRL</td>\n",
              "      <td>CVBI11</td>\n",
              "    </tr>\n",
              "    <tr>\n",
              "      <th>746</th>\n",
              "      <td>brazil</td>\n",
              "      <td>Hedge Realty</td>\n",
              "      <td>Hedge Realty Devl Fdo Inv Imob Etf</td>\n",
              "      <td>BRHRDFCTF000</td>\n",
              "      <td>BRL</td>\n",
              "      <td>HRDF11</td>\n",
              "    </tr>\n",
              "    <tr>\n",
              "      <th>747</th>\n",
              "      <td>brazil</td>\n",
              "      <td>Rb Cap</td>\n",
              "      <td>Rb Cap Desenvolvimento Res Iii Fii</td>\n",
              "      <td>BRRSPDCTF006</td>\n",
              "      <td>BRL</td>\n",
              "      <td>RSPD11</td>\n",
              "    </tr>\n",
              "    <tr>\n",
              "      <th>748</th>\n",
              "      <td>brazil</td>\n",
              "      <td>Treecorp</td>\n",
              "      <td>Treecorp Real Estate Fii I Etf</td>\n",
              "      <td>BRTCPFCTF001</td>\n",
              "      <td>BRL</td>\n",
              "      <td>TCPF11</td>\n",
              "    </tr>\n",
              "  </tbody>\n",
              "</table>\n",
              "<p>749 rows × 6 columns</p>\n",
              "</div>"
            ],
            "text/plain": [
              "    country                name  ... currency  symbol\n",
              "0    brazil       ABC BRASIL PN  ...      BRL   ABCB4\n",
              "1    brazil       BRASILAGRO ON  ...      BRL   AGRO3\n",
              "2    brazil          RUMO ON NM  ...      BRL   RAIL3\n",
              "3    brazil       ALPARGATAS ON  ...      BRL   ALPA3\n",
              "4    brazil       ALPARGATAS PN  ...      BRL   ALPA4\n",
              "..      ...                 ...  ...      ...     ...\n",
              "744  brazil  Integral Brei Reit  ...      BRL  IBFF11\n",
              "745  brazil             Vbi Cri  ...      BRL  CVBI11\n",
              "746  brazil        Hedge Realty  ...      BRL  HRDF11\n",
              "747  brazil              Rb Cap  ...      BRL  RSPD11\n",
              "748  brazil            Treecorp  ...      BRL  TCPF11\n",
              "\n",
              "[749 rows x 6 columns]"
            ]
          },
          "metadata": {
            "tags": []
          },
          "execution_count": 5
        }
      ]
    },
    {
      "cell_type": "markdown",
      "metadata": {
        "id": "aavoJuSeYvcD"
      },
      "source": [
        "###**investpy.stocks.get_stocks_dict** *( country = None, columns = None, as_json = False)*"
      ]
    },
    {
      "cell_type": "code",
      "metadata": {
        "id": "FFnceKzKZAJB"
      },
      "source": [
        "!pip install investpy"
      ],
      "execution_count": null,
      "outputs": []
    },
    {
      "cell_type": "code",
      "metadata": {
        "id": "_VAIU724ZBbR"
      },
      "source": [
        "import investpy"
      ],
      "execution_count": null,
      "outputs": []
    },
    {
      "cell_type": "code",
      "metadata": {
        "id": "I7w7Q7YpZEEq"
      },
      "source": [
        "stocks_dict = investpy.stocks.get_stocks_dict ( country = \"brazil\", columns = None, as_json = False)\n",
        "stocks_dict"
      ],
      "execution_count": null,
      "outputs": []
    },
    {
      "cell_type": "markdown",
      "metadata": {
        "id": "vzl-t9EOZ3dL"
      },
      "source": [
        "###**investpy.stocks.get_stocks_list** *(country=None)*"
      ]
    },
    {
      "cell_type": "code",
      "metadata": {
        "id": "qRQLt267Zjam"
      },
      "source": [
        "!pip install investpy"
      ],
      "execution_count": null,
      "outputs": []
    },
    {
      "cell_type": "code",
      "metadata": {
        "id": "8Uo1Bsh9ZjnU"
      },
      "source": [
        "import investpy"
      ],
      "execution_count": null,
      "outputs": []
    },
    {
      "cell_type": "code",
      "metadata": {
        "id": "siIbX_TrZjFh"
      },
      "source": [
        "stocks_list = investpy.stocks.get_stocks_list (country=None)\n",
        "stocks_list"
      ],
      "execution_count": null,
      "outputs": []
    },
    {
      "cell_type": "markdown",
      "metadata": {
        "id": "HEfs8fvRaSQy"
      },
      "source": [
        "###**investpy.stocks.get_stocks_overview** *(country, as_json=False, n_results=100)*"
      ]
    },
    {
      "cell_type": "code",
      "metadata": {
        "id": "YC5-c54FacfT"
      },
      "source": [
        "!pip install investpy"
      ],
      "execution_count": null,
      "outputs": []
    },
    {
      "cell_type": "code",
      "metadata": {
        "id": "Vy9L0Rv8adYx"
      },
      "source": [
        "import investpy"
      ],
      "execution_count": null,
      "outputs": []
    },
    {
      "cell_type": "code",
      "metadata": {
        "id": "iX2I6Qk3adMu",
        "outputId": "f683bb6e-66bf-42f8-a030-afb023b541e0",
        "colab": {
          "base_uri": "https://localhost:8080/",
          "height": 419
        }
      },
      "source": [
        "stocks_overview = investpy.stocks.get_stocks_overview (country = \"brazil\", as_json=False, n_results=100)\n",
        "stocks_overview"
      ],
      "execution_count": null,
      "outputs": [
        {
          "output_type": "execute_result",
          "data": {
            "text/html": [
              "<div>\n",
              "<style scoped>\n",
              "    .dataframe tbody tr th:only-of-type {\n",
              "        vertical-align: middle;\n",
              "    }\n",
              "\n",
              "    .dataframe tbody tr th {\n",
              "        vertical-align: top;\n",
              "    }\n",
              "\n",
              "    .dataframe thead th {\n",
              "        text-align: right;\n",
              "    }\n",
              "</style>\n",
              "<table border=\"1\" class=\"dataframe\">\n",
              "  <thead>\n",
              "    <tr style=\"text-align: right;\">\n",
              "      <th></th>\n",
              "      <th>country</th>\n",
              "      <th>name</th>\n",
              "      <th>symbol</th>\n",
              "      <th>last</th>\n",
              "      <th>high</th>\n",
              "      <th>low</th>\n",
              "      <th>change</th>\n",
              "      <th>change_percentage</th>\n",
              "      <th>turnover</th>\n",
              "      <th>currency</th>\n",
              "    </tr>\n",
              "  </thead>\n",
              "  <tbody>\n",
              "    <tr>\n",
              "      <th>0</th>\n",
              "      <td>brazil</td>\n",
              "      <td>ABC BRASIL PN</td>\n",
              "      <td>ABCB4</td>\n",
              "      <td>12.45</td>\n",
              "      <td>12.50</td>\n",
              "      <td>12.21</td>\n",
              "      <td>+0.08</td>\n",
              "      <td>+0.65%</td>\n",
              "      <td>469700</td>\n",
              "      <td>BRL</td>\n",
              "    </tr>\n",
              "    <tr>\n",
              "      <th>1</th>\n",
              "      <td>brazil</td>\n",
              "      <td>BRASILAGRO ON</td>\n",
              "      <td>AGRO3</td>\n",
              "      <td>22.25</td>\n",
              "      <td>22.50</td>\n",
              "      <td>22.05</td>\n",
              "      <td>-0.25</td>\n",
              "      <td>-1.11%</td>\n",
              "      <td>48000</td>\n",
              "      <td>BRL</td>\n",
              "    </tr>\n",
              "    <tr>\n",
              "      <th>2</th>\n",
              "      <td>brazil</td>\n",
              "      <td>RUMO ON NM</td>\n",
              "      <td>RAIL3</td>\n",
              "      <td>18.85</td>\n",
              "      <td>18.99</td>\n",
              "      <td>18.58</td>\n",
              "      <td>-0.08</td>\n",
              "      <td>-0.42%</td>\n",
              "      <td>6340000</td>\n",
              "      <td>BRL</td>\n",
              "    </tr>\n",
              "    <tr>\n",
              "      <th>3</th>\n",
              "      <td>brazil</td>\n",
              "      <td>ALPARGATAS ON</td>\n",
              "      <td>ALPA3</td>\n",
              "      <td>35.74</td>\n",
              "      <td>35.74</td>\n",
              "      <td>35.15</td>\n",
              "      <td>+0.44</td>\n",
              "      <td>+1.25%</td>\n",
              "      <td>3500</td>\n",
              "      <td>BRL</td>\n",
              "    </tr>\n",
              "    <tr>\n",
              "      <th>4</th>\n",
              "      <td>brazil</td>\n",
              "      <td>ALPARGATAS PN</td>\n",
              "      <td>ALPA4</td>\n",
              "      <td>40.59</td>\n",
              "      <td>40.78</td>\n",
              "      <td>39.44</td>\n",
              "      <td>+0.04</td>\n",
              "      <td>+0.10%</td>\n",
              "      <td>1660000</td>\n",
              "      <td>BRL</td>\n",
              "    </tr>\n",
              "    <tr>\n",
              "      <th>...</th>\n",
              "      <td>...</td>\n",
              "      <td>...</td>\n",
              "      <td>...</td>\n",
              "      <td>...</td>\n",
              "      <td>...</td>\n",
              "      <td>...</td>\n",
              "      <td>...</td>\n",
              "      <td>...</td>\n",
              "      <td>...</td>\n",
              "      <td>...</td>\n",
              "    </tr>\n",
              "    <tr>\n",
              "      <th>95</th>\n",
              "      <td>brazil</td>\n",
              "      <td>ITAUSA ON</td>\n",
              "      <td>ITSA3</td>\n",
              "      <td>10.61</td>\n",
              "      <td>10.61</td>\n",
              "      <td>10.45</td>\n",
              "      <td>+0.04</td>\n",
              "      <td>+0.38%</td>\n",
              "      <td>57400</td>\n",
              "      <td>BRL</td>\n",
              "    </tr>\n",
              "    <tr>\n",
              "      <th>96</th>\n",
              "      <td>brazil</td>\n",
              "      <td>ITAUSA PN</td>\n",
              "      <td>ITSA4</td>\n",
              "      <td>9.28</td>\n",
              "      <td>9.29</td>\n",
              "      <td>9.12</td>\n",
              "      <td>-0.01</td>\n",
              "      <td>-0.11%</td>\n",
              "      <td>13030000</td>\n",
              "      <td>BRL</td>\n",
              "    </tr>\n",
              "    <tr>\n",
              "      <th>97</th>\n",
              "      <td>brazil</td>\n",
              "      <td>ITAUUNIBANCO ON</td>\n",
              "      <td>ITUB3</td>\n",
              "      <td>22.17</td>\n",
              "      <td>22.23</td>\n",
              "      <td>21.84</td>\n",
              "      <td>-0.03</td>\n",
              "      <td>-0.14%</td>\n",
              "      <td>190000</td>\n",
              "      <td>BRL</td>\n",
              "    </tr>\n",
              "    <tr>\n",
              "      <th>98</th>\n",
              "      <td>brazil</td>\n",
              "      <td>ITAUUNIBANCOPN EB N1</td>\n",
              "      <td>ITUB4</td>\n",
              "      <td>23.67</td>\n",
              "      <td>23.73</td>\n",
              "      <td>23.26</td>\n",
              "      <td>-0.03</td>\n",
              "      <td>-0.13%</td>\n",
              "      <td>14030000</td>\n",
              "      <td>BRL</td>\n",
              "    </tr>\n",
              "    <tr>\n",
              "      <th>99</th>\n",
              "      <td>brazil</td>\n",
              "      <td>JBS ON</td>\n",
              "      <td>JBSS3</td>\n",
              "      <td>22.74</td>\n",
              "      <td>22.93</td>\n",
              "      <td>21.04</td>\n",
              "      <td>+1.26</td>\n",
              "      <td>+5.87%</td>\n",
              "      <td>37480000</td>\n",
              "      <td>BRL</td>\n",
              "    </tr>\n",
              "  </tbody>\n",
              "</table>\n",
              "<p>100 rows × 10 columns</p>\n",
              "</div>"
            ],
            "text/plain": [
              "   country                  name symbol  ...  change_percentage  turnover  currency\n",
              "0   brazil         ABC BRASIL PN  ABCB4  ...             +0.65%    469700       BRL\n",
              "1   brazil         BRASILAGRO ON  AGRO3  ...             -1.11%     48000       BRL\n",
              "2   brazil            RUMO ON NM  RAIL3  ...             -0.42%   6340000       BRL\n",
              "3   brazil         ALPARGATAS ON  ALPA3  ...             +1.25%      3500       BRL\n",
              "4   brazil         ALPARGATAS PN  ALPA4  ...             +0.10%   1660000       BRL\n",
              "..     ...                   ...    ...  ...                ...       ...       ...\n",
              "95  brazil             ITAUSA ON  ITSA3  ...             +0.38%     57400       BRL\n",
              "96  brazil             ITAUSA PN  ITSA4  ...             -0.11%  13030000       BRL\n",
              "97  brazil       ITAUUNIBANCO ON  ITUB3  ...             -0.14%    190000       BRL\n",
              "98  brazil  ITAUUNIBANCOPN EB N1  ITUB4  ...             -0.13%  14030000       BRL\n",
              "99  brazil                JBS ON  JBSS3  ...             +5.87%  37480000       BRL\n",
              "\n",
              "[100 rows x 10 columns]"
            ]
          },
          "metadata": {
            "tags": []
          },
          "execution_count": 9
        }
      ]
    },
    {
      "cell_type": "markdown",
      "metadata": {
        "id": "66yLjzDNbAje"
      },
      "source": [
        "###**investpy.stocks.search_stocks** *(by, value)*"
      ]
    },
    {
      "cell_type": "code",
      "metadata": {
        "id": "rHvt89VxbJdf"
      },
      "source": [
        "!pip install investpy"
      ],
      "execution_count": null,
      "outputs": []
    },
    {
      "cell_type": "code",
      "metadata": {
        "id": "CmQO1p96bJqP"
      },
      "source": [
        "import investpy"
      ],
      "execution_count": null,
      "outputs": []
    },
    {
      "cell_type": "code",
      "metadata": {
        "id": "gv0HpFOKbJNn",
        "outputId": "3ca1893d-85e9-4303-9281-8923cc9858f0",
        "colab": {
          "base_uri": "https://localhost:8080/",
          "height": 80
        }
      },
      "source": [
        "search_result = investpy.stocks.search_stocks (by = \"symbol\", value = \"ALPA4\")\n",
        "search_result"
      ],
      "execution_count": null,
      "outputs": [
        {
          "output_type": "execute_result",
          "data": {
            "text/html": [
              "<div>\n",
              "<style scoped>\n",
              "    .dataframe tbody tr th:only-of-type {\n",
              "        vertical-align: middle;\n",
              "    }\n",
              "\n",
              "    .dataframe tbody tr th {\n",
              "        vertical-align: top;\n",
              "    }\n",
              "\n",
              "    .dataframe thead th {\n",
              "        text-align: right;\n",
              "    }\n",
              "</style>\n",
              "<table border=\"1\" class=\"dataframe\">\n",
              "  <thead>\n",
              "    <tr style=\"text-align: right;\">\n",
              "      <th></th>\n",
              "      <th>country</th>\n",
              "      <th>name</th>\n",
              "      <th>full_name</th>\n",
              "      <th>isin</th>\n",
              "      <th>currency</th>\n",
              "      <th>symbol</th>\n",
              "    </tr>\n",
              "  </thead>\n",
              "  <tbody>\n",
              "    <tr>\n",
              "      <th>0</th>\n",
              "      <td>brazil</td>\n",
              "      <td>ALPARGATAS PN</td>\n",
              "      <td>Alpargatas SA</td>\n",
              "      <td>BRALPAACNPR7</td>\n",
              "      <td>BRL</td>\n",
              "      <td>ALPA4</td>\n",
              "    </tr>\n",
              "  </tbody>\n",
              "</table>\n",
              "</div>"
            ],
            "text/plain": [
              "  country           name      full_name          isin currency symbol\n",
              "0  brazil  ALPARGATAS PN  Alpargatas SA  BRALPAACNPR7      BRL  ALPA4"
            ]
          },
          "metadata": {
            "tags": []
          },
          "execution_count": 11
        }
      ]
    },
    {
      "cell_type": "markdown",
      "metadata": {
        "id": "K8y5k_RsRiXY"
      },
      "source": [
        "## **investpy.funds**\n",
        "\n",
        "`investpy.funds`\n",
        "\n",
        "---\n",
        "\n",
        ">**investpy.funds.get_fund_countries( )**\n",
        "\n",
        ">**investpy.funds.get_fund_historical_data** *( fundo , país , from_date , to_date , as_json = False , order = 'ascending' , interval = 'Daily' )**\n",
        "\n",
        ">**investpy.funds.get_fund_information** *( fundo , país , as_json = False )*\n",
        "\n",
        ">**investpy.funds.get_fund_recent_data** *( fundo , país , as_json = Falso , pedido = 'crescente' , intervalo = 'Diário' )*\n",
        "\n",
        ">**investpy.funds.get_funds** *( país = nenhum )*\n",
        "\n",
        ">**investpy.funds.get_funds_dict** *( país = Nenhum , colunas = Nenhum , as_json = Falso )*\n",
        "\n",
        ">**investpy.funds.get_funds_list** *( país = nenhum )*\n",
        "\n",
        ">**investpy.funds.get_funds_overview** *( país , as_json = False , n_results = 100 )*\n",
        "\n",
        ">**investpy.funds.search_funds** *( por , valor )*\n"
      ]
    },
    {
      "cell_type": "markdown",
      "metadata": {
        "id": "AhW3TNtJUrQv"
      },
      "source": [
        "###**investpy.funds.get_fund_countries( )**\n",
        ">Esta função recupera todos os nomes de países indexados em Investing.com com fundos disponíveis para recuperar dados, por meio da leitura do arquivo *fund_countries.csv* do diretório de recursos. A seguir, esta função irá exibir uma listagem contendo um conjunto de países, a fim de permitir ao usuário saber quais países são levados em consideração e também a listagem de retorno desta função pode ser usada para verificação de parâmetros de país, se necessário.\n",
        "\n",
        ">>**Retorna:**\n",
        ">>>O resultado `list` contém todos os países disponíveis com fundos indexados em Investing.com\n",
        "\n",
        ">>**Tipo de retorno:**\n",
        ">>>`list` - countries\n",
        "\n",
        ">>**Avisos:**\n",
        ">>>* `FileNotFoundError` - gerado quando o arquivo *fund_countries.csv* não foi encontrado.\n",
        ">>>* `IndexError` - gerado se o arquivo *fund_countries.csv* não estiver disponível ou não for encontrado.\n",
        "\n",
        "---"
      ]
    },
    {
      "cell_type": "code",
      "metadata": {
        "id": "Af5SkpKLVs-r"
      },
      "source": [
        "!pip install investpy"
      ],
      "execution_count": null,
      "outputs": []
    },
    {
      "cell_type": "code",
      "metadata": {
        "id": "9Um3Sd1lWj0I"
      },
      "source": [
        "import investpy"
      ],
      "execution_count": null,
      "outputs": []
    },
    {
      "cell_type": "code",
      "metadata": {
        "id": "OQFC_V8yW3D_"
      },
      "source": [
        "paises = investpy.funds.get_fund_countries( )\n",
        "paises\n",
        "# Funcionou muito bem"
      ],
      "execution_count": null,
      "outputs": []
    },
    {
      "cell_type": "markdown",
      "metadata": {
        "id": "OJBgYuCfXnQk"
      },
      "source": [
        "###**investpy.funds.get_fund_historical_data** *( fund , country , from_date , to_date , as_json = False , order = 'ascending' , interval = 'Daily' )*\n",
        "\n",
        ">Esta função recupera dados históricos do fundo introduzido de Investing via Web Scraping no intervalo de datas introduzido. Os dados resultantes podem ser armazenados `pandas.DataFrame` em um `json` objeto ou em ordem crescente ou decrescente .\n",
        "\n",
        ">>**Parâmetros:**\n",
        ">>>* **fund** (`str`) - nome do fundo do qual recuperar dados históricos recentes.\n",
        ">>>* **país** (`str`) - nome do país de origem do fundo introduzido.\n",
        ">>>* **from_date** (`str`) - data como *str* formatada como *dd / mm / aaaa* , de onde os dados serão recuperados.\n",
        ">>>* **to_date** (`str`) - data *str* formatada como *dd / mm / aaaa* , até onde os dados serão recuperados.\n",
        ">>>* **as_json** (`bool`, opcional) - para determinar o formato dos dados de saída ( `pandas.DataFrame` ou `json`).\n",
        ">>>* **ordem** ( `str`, opcional) - argumento opcional para definir o fim dos dados recuperados ( ascendente , asc ou descendente , desc ).\n",
        ">>>* **intervalo** ( `str`, opcional) - valor para definir o intervalo de dados históricos a recuperar, por padrão *Diário* , mas também pode ser *Semanal ou Mensal* .\n",
        "\n",
        ">>**Retorna:**\n",
        ">>>>A função retorna um a `pandas.DataFrame` ou um `json` arquivo contendo os dados recentes recuperados do fundo especificado por meio do argumento. O conjunto de dados contém os valores de abertura, alta, baixa e fechamento para o fundo selecionado em dias de mercado.\\\n",
        "Os dados retornados se usarmos argumentos padrão serão parecidos com:\n",
        "````\n",
        "Date || Open | High | Low | Close | Currency\n",
        "-----||------|------|-----|-------|----------\n",
        "xxxx || xxxx | xxxx | xxx | xxxxx | xxxxxxxx\n",
        "````\n",
        "\n",
        ">>>>mas se definirmos as_json = True , a saída será:\n",
        "````\n",
        "{\n",
        "    name: name,\n",
        "    historical: [\n",
        "        {\n",
        "            date: dd/mm/yyyy,\n",
        "            open: x,\n",
        "            high: x,\n",
        "            low: x,\n",
        "            close: x,\n",
        "            currency: x\n",
        "        },\n",
        "        ...\n",
        "    ]\n",
        "}\n",
        "````\n",
        "\n",
        ">>**Tipo de retorno:**\n",
        ">>>* `pandas.DataFrame` ou `json`\n",
        "\n",
        ">>**Avisos:**\n",
        ">>>* `ValueError` - erro de argumento.\n",
        ">>>* `IOError` - objeto / arquivo de fundos não encontrado ou incapaz de recuperar.\n",
        ">>>* `RuntimeError` - fundo introduzido não corresponde a nenhum dos indexados.\n",
        ">>>* `ConnectionError` - se as solicitações GET não retornarem o código de status 200.\n",
        ">>>* `IndexError` - se as informações do fundo não estavam disponíveis ou não foram encontradas.\n",
        "\n",
        ">**Exemplos**\n",
        "````\n",
        ">>> data = investpy.get_fund_historical_data(fund='bbva multiactivo conservador pp', country='spain', from_date='01/01/2010', to_date='01/01/2019')\n",
        ">>> data.head()\n",
        "             Open   High    Low  Close Currency\n",
        "Date\n",
        "2018-02-15  1.105  1.105  1.105  1.105      EUR\n",
        "2018-02-16  1.113  1.113  1.113  1.113      EUR\n",
        "2018-02-17  1.113  1.113  1.113  1.113      EUR\n",
        "2018-02-18  1.113  1.113  1.113  1.113      EUR\n",
        "2018-02-19  1.111  1.111  1.111  1.111      EUR\n",
        "````\n",
        "\n",
        "---"
      ]
    },
    {
      "cell_type": "code",
      "metadata": {
        "id": "fntT0N3ljrx1"
      },
      "source": [
        "!pip install investpy"
      ],
      "execution_count": null,
      "outputs": []
    },
    {
      "cell_type": "code",
      "metadata": {
        "id": "vH9z4LT5iV9J"
      },
      "source": [
        "import investpy"
      ],
      "execution_count": null,
      "outputs": []
    },
    {
      "cell_type": "code",
      "metadata": {
        "id": "W0YH7cGbifO8",
        "outputId": "ac3f5e01-8306-4d3b-e838-6895e419769a",
        "colab": {
          "base_uri": "https://localhost:8080/",
          "height": 450
        }
      },
      "source": [
        "data_hd = investpy.funds.get_fund_historical_data ( fund = \"Joule Value Fundo De Investimento Em Ações\" , country = \"brazil\" , from_date = \"01/01/1900\" , to_date = \"14/10/2020\" , as_json = False , order = 'ascending' , interval = 'Daily' )\n",
        "data_hd"
      ],
      "execution_count": null,
      "outputs": [
        {
          "output_type": "execute_result",
          "data": {
            "text/html": [
              "<div>\n",
              "<style scoped>\n",
              "    .dataframe tbody tr th:only-of-type {\n",
              "        vertical-align: middle;\n",
              "    }\n",
              "\n",
              "    .dataframe tbody tr th {\n",
              "        vertical-align: top;\n",
              "    }\n",
              "\n",
              "    .dataframe thead th {\n",
              "        text-align: right;\n",
              "    }\n",
              "</style>\n",
              "<table border=\"1\" class=\"dataframe\">\n",
              "  <thead>\n",
              "    <tr style=\"text-align: right;\">\n",
              "      <th></th>\n",
              "      <th>Open</th>\n",
              "      <th>High</th>\n",
              "      <th>Low</th>\n",
              "      <th>Close</th>\n",
              "      <th>Currency</th>\n",
              "    </tr>\n",
              "    <tr>\n",
              "      <th>Date</th>\n",
              "      <th></th>\n",
              "      <th></th>\n",
              "      <th></th>\n",
              "      <th></th>\n",
              "      <th></th>\n",
              "    </tr>\n",
              "  </thead>\n",
              "  <tbody>\n",
              "    <tr>\n",
              "      <th>2018-11-26</th>\n",
              "      <td>2.997</td>\n",
              "      <td>2.997</td>\n",
              "      <td>2.997</td>\n",
              "      <td>2.997</td>\n",
              "      <td>BRL</td>\n",
              "    </tr>\n",
              "    <tr>\n",
              "      <th>2018-11-27</th>\n",
              "      <td>3.046</td>\n",
              "      <td>3.046</td>\n",
              "      <td>3.046</td>\n",
              "      <td>3.046</td>\n",
              "      <td>BRL</td>\n",
              "    </tr>\n",
              "    <tr>\n",
              "      <th>2018-11-28</th>\n",
              "      <td>3.125</td>\n",
              "      <td>3.125</td>\n",
              "      <td>3.125</td>\n",
              "      <td>3.125</td>\n",
              "      <td>BRL</td>\n",
              "    </tr>\n",
              "    <tr>\n",
              "      <th>2018-11-29</th>\n",
              "      <td>3.140</td>\n",
              "      <td>3.140</td>\n",
              "      <td>3.140</td>\n",
              "      <td>3.140</td>\n",
              "      <td>BRL</td>\n",
              "    </tr>\n",
              "    <tr>\n",
              "      <th>2018-11-30</th>\n",
              "      <td>3.162</td>\n",
              "      <td>3.162</td>\n",
              "      <td>3.162</td>\n",
              "      <td>3.162</td>\n",
              "      <td>BRL</td>\n",
              "    </tr>\n",
              "    <tr>\n",
              "      <th>...</th>\n",
              "      <td>...</td>\n",
              "      <td>...</td>\n",
              "      <td>...</td>\n",
              "      <td>...</td>\n",
              "      <td>...</td>\n",
              "    </tr>\n",
              "    <tr>\n",
              "      <th>2020-10-05</th>\n",
              "      <td>4.757</td>\n",
              "      <td>4.757</td>\n",
              "      <td>4.757</td>\n",
              "      <td>4.757</td>\n",
              "      <td>BRL</td>\n",
              "    </tr>\n",
              "    <tr>\n",
              "      <th>2020-10-06</th>\n",
              "      <td>4.767</td>\n",
              "      <td>4.767</td>\n",
              "      <td>4.767</td>\n",
              "      <td>4.767</td>\n",
              "      <td>BRL</td>\n",
              "    </tr>\n",
              "    <tr>\n",
              "      <th>2020-10-07</th>\n",
              "      <td>4.742</td>\n",
              "      <td>4.742</td>\n",
              "      <td>4.742</td>\n",
              "      <td>4.742</td>\n",
              "      <td>BRL</td>\n",
              "    </tr>\n",
              "    <tr>\n",
              "      <th>2020-10-08</th>\n",
              "      <td>4.846</td>\n",
              "      <td>4.846</td>\n",
              "      <td>4.846</td>\n",
              "      <td>4.846</td>\n",
              "      <td>BRL</td>\n",
              "    </tr>\n",
              "    <tr>\n",
              "      <th>2020-10-09</th>\n",
              "      <td>4.927</td>\n",
              "      <td>4.927</td>\n",
              "      <td>4.927</td>\n",
              "      <td>4.927</td>\n",
              "      <td>BRL</td>\n",
              "    </tr>\n",
              "  </tbody>\n",
              "</table>\n",
              "<p>462 rows × 5 columns</p>\n",
              "</div>"
            ],
            "text/plain": [
              "             Open   High    Low  Close Currency\n",
              "Date                                           \n",
              "2018-11-26  2.997  2.997  2.997  2.997      BRL\n",
              "2018-11-27  3.046  3.046  3.046  3.046      BRL\n",
              "2018-11-28  3.125  3.125  3.125  3.125      BRL\n",
              "2018-11-29  3.140  3.140  3.140  3.140      BRL\n",
              "2018-11-30  3.162  3.162  3.162  3.162      BRL\n",
              "...           ...    ...    ...    ...      ...\n",
              "2020-10-05  4.757  4.757  4.757  4.757      BRL\n",
              "2020-10-06  4.767  4.767  4.767  4.767      BRL\n",
              "2020-10-07  4.742  4.742  4.742  4.742      BRL\n",
              "2020-10-08  4.846  4.846  4.846  4.846      BRL\n",
              "2020-10-09  4.927  4.927  4.927  4.927      BRL\n",
              "\n",
              "[462 rows x 5 columns]"
            ]
          },
          "metadata": {
            "tags": []
          },
          "execution_count": 4
        }
      ]
    },
    {
      "cell_type": "markdown",
      "metadata": {
        "id": "LdY3cenjWwew"
      },
      "source": [
        "###**investpy.funds.get_fund_information** *( fund , country , as_json = False )*\n",
        ">Esta função recupera informações financeiras básicas do fundo especificado. As informações obtidas do fundo podem ser valiosas, pois são informações adicionais que podem ser usadas em combinação com os valores OHLC, para determinar as percepções financeiras da empresa que detém o fundo especificado.\n",
        "\n",
        ">>**Parâmetros:**\n",
        ">>>* **fund** (`str`) - nome do fundo do qual recuperar as informações financeiras.\n",
        ">>>* **country** (`str`) - nome do país de origem do fundo introduzido.\n",
        ">>>* **`as_json`** (`bool`, opcional) - argumento opcional para determinar o formato dos dados de saída ( `dict` ou `json`).\n",
        "\n",
        ">>**Retorna:**\n",
        ">>>>O resultado `pandas.DataFrame` contém os campos de informações recuperados de Investing.com do fundo especificado; também pode ser retornado como um `dict`, se o argumento *as_json = True* .\\\n",
        "Se algum dos campos de informação não puder ser recuperado, esse (s) campo (s) será (ão) preenchido (s) com nenhum valor. Se o processo de recuperação for bem-sucedido, o resultado dictserá semelhante a:\n",
        "````\n",
        "fund_information = {\n",
        "    'Fund Name': fund_name,\n",
        "    'Rating': rating,\n",
        "    '1-Year Change': year_change,\n",
        "    'Previous Close': prev_close,\n",
        "    'Risk Rating': risk_rating,\n",
        "    'TTM Yield': ttm_yield,\n",
        "    'ROE': roe,\n",
        "    'Issuer': issuer,\n",
        "    'Turnover': turnover,\n",
        "    'ROA': row,\n",
        "    'Inception Date': inception_date,\n",
        "    'Total Assets': total_assets,\n",
        "    'Expenses': expenses,\n",
        "    'Min Investment': min_investment,\n",
        "    'Market Cap': market_cap,\n",
        "    'Category': category\n",
        "}\n",
        "````\n",
        "\n",
        ">>**Tipo de retorno:**\n",
        ">>>>`pandas.DataFrame` ou `dict`- fund_information\n",
        "\n",
        "---\n"
      ]
    },
    {
      "cell_type": "code",
      "metadata": {
        "id": "RcPcMoq2m0hg"
      },
      "source": [
        "!pip install investpy"
      ],
      "execution_count": null,
      "outputs": []
    },
    {
      "cell_type": "code",
      "metadata": {
        "id": "Br_VslKDm4xc"
      },
      "source": [
        "import investpy"
      ],
      "execution_count": null,
      "outputs": []
    },
    {
      "cell_type": "code",
      "metadata": {
        "id": "rQSzTZfmm8Bu",
        "outputId": "f1cb020e-6e5b-48c3-a355-fa3b0730ffe0",
        "colab": {
          "base_uri": "https://localhost:8080/",
          "height": 80
        }
      },
      "source": [
        "data_inf = investpy.funds.get_fund_information ( fund = \"Joule Value Fundo De Investimento Em Ações\" , country = \"brazil\" , as_json = False )\n",
        "data_inf"
      ],
      "execution_count": null,
      "outputs": [
        {
          "output_type": "execute_result",
          "data": {
            "text/html": [
              "<div>\n",
              "<style scoped>\n",
              "    .dataframe tbody tr th:only-of-type {\n",
              "        vertical-align: middle;\n",
              "    }\n",
              "\n",
              "    .dataframe tbody tr th {\n",
              "        vertical-align: top;\n",
              "    }\n",
              "\n",
              "    .dataframe thead th {\n",
              "        text-align: right;\n",
              "    }\n",
              "</style>\n",
              "<table border=\"1\" class=\"dataframe\">\n",
              "  <thead>\n",
              "    <tr style=\"text-align: right;\">\n",
              "      <th></th>\n",
              "      <th>Fund Name</th>\n",
              "      <th>Rating</th>\n",
              "      <th>1-Year Change</th>\n",
              "      <th>Previous Close</th>\n",
              "      <th>Risk Rating</th>\n",
              "      <th>TTM Yield</th>\n",
              "      <th>ROE</th>\n",
              "      <th>Issuer</th>\n",
              "      <th>Turnover</th>\n",
              "      <th>ROA</th>\n",
              "      <th>Inception Date</th>\n",
              "      <th>Total Assets</th>\n",
              "      <th>Expenses</th>\n",
              "      <th>Min Investment</th>\n",
              "      <th>Market Cap</th>\n",
              "      <th>Category</th>\n",
              "    </tr>\n",
              "  </thead>\n",
              "  <tbody>\n",
              "    <tr>\n",
              "      <th>0</th>\n",
              "      <td>joule value fundo de investimento em acoes</td>\n",
              "      <td></td>\n",
              "      <td>5.66%</td>\n",
              "      <td>NaN</td>\n",
              "      <td></td>\n",
              "      <td>0%</td>\n",
              "      <td>12.53%</td>\n",
              "      <td>NaN</td>\n",
              "      <td>None</td>\n",
              "      <td>3.08%</td>\n",
              "      <td>07/10/2015</td>\n",
              "      <td>70460000.0</td>\n",
              "      <td>None</td>\n",
              "      <td>NaN</td>\n",
              "      <td>1.909000e+10</td>\n",
              "      <td>NaN</td>\n",
              "    </tr>\n",
              "  </tbody>\n",
              "</table>\n",
              "</div>"
            ],
            "text/plain": [
              "                                    Fund Name Rating  ...    Market Cap  Category\n",
              "0  joule value fundo de investimento em acoes         ...  1.909000e+10       NaN\n",
              "\n",
              "[1 rows x 16 columns]"
            ]
          },
          "metadata": {
            "tags": []
          },
          "execution_count": 6
        }
      ]
    },
    {
      "cell_type": "code",
      "metadata": {
        "id": "SGNI1SGmnmrk",
        "outputId": "fa1ec981-f83b-4aa5-cfbf-c62287578c3d",
        "colab": {
          "base_uri": "https://localhost:8080/",
          "height": 34
        }
      },
      "source": [
        "type(data_inf)"
      ],
      "execution_count": null,
      "outputs": [
        {
          "output_type": "execute_result",
          "data": {
            "text/plain": [
              "pandas.core.frame.DataFrame"
            ]
          },
          "metadata": {
            "tags": []
          },
          "execution_count": 7
        }
      ]
    },
    {
      "cell_type": "markdown",
      "metadata": {
        "id": "w9ktnsRlTJkq"
      },
      "source": [
        "###**investpy.funds.get_fund_recent_data** *( fund , country , as_json = False , order = 'ascending' , interval = 'Daily' )*\n",
        "\n",
        ">Esta função recupera dados históricos recentes do fundo introduzido em Investing via Web Scraping. Os dados resultantes podem ser armazenados em um `pandas.DataFrame` ou em um `json` arquivo, em ordem *crescente* ou *decrescente* .\n",
        "\n",
        ">>**Parâmetros:**\n",
        ">>>* **fund** (`str`) - nome do fundo do qual recuperar dados históricos recentes.\n",
        ">>>* **country** (`str`) - nome do país de origem do fundo introduzido.\n",
        ">>>* **as_json** (`bool`, opcional) - argumento opcional para determinar o formato dos dados de saída ( `pandas.DataFrame` ou `json`).\n",
        ">>>* **order** ( `str` opcional) - argumento opcional para definir o fim dos dados recuperados ( ascendente , asc ou descendente , desc ).\n",
        ">>>* **interval** (`str`, opcional) - valor para definir o intervalo de dados históricos a recuperar, por padrão *Diário* , mas também pode ser *Semanal ou Mensal* .\n",
        "\n",
        ">>**Retorna:**\n",
        ">>>>A função retorna um a `pandas.DataFrame` ou um `json` arquivo contendo os dados recentes recuperados do fundo especificado por meio do argumento. O conjunto de dados contém os valores de abertura, alta, baixa e fechamento para o fundo selecionado em dias de mercado.\\\n",
        "Os dados retornados se usarmos argumentos padrão serão parecidos com:\n",
        "````\n",
        "Date || Open | High | Low | Close | Currency\n",
        "-----||------|------|-----|-------|----------\n",
        "xxxx || xxxx | xxxx | xxx | xxxxx | xxxxxxxx\n",
        "````\n",
        "mas se definirmos *as_json = True* , a saída será:\n",
        "````\n",
        "{\n",
        "    name: name,\n",
        "    recent: [\n",
        "        {\n",
        "            date: dd/mm/yyyy,\n",
        "            open: x,\n",
        "            high: x,\n",
        "            low: x,\n",
        "            close: x,\n",
        "            currency: x\n",
        "        },\n",
        "        ...\n",
        "    ]\n",
        "}\n",
        "````\n",
        "\n",
        ">>**Tipo de retorno:**\n",
        ">>>* `pandas.DataFrame` ou `json`\n",
        "\n",
        ">>**Aviso:**\n",
        ">>>* `ValueError` - erro de argumento.\n",
        ">>>* `IOError` - objeto / arquivo de fundos não encontrado ou incapaz de recuperar.\n",
        ">>>* `RuntimeError` - fundo introduzido não corresponde a nenhum dos indexados.\n",
        ">>>* `ConnectionError` - se as solicitações GET não retornarem o código de status 200.\n",
        ">>>* `IndexError` - se as informações do fundo não estavam disponíveis ou não foram encontradas.\n",
        "\n",
        ">**Exemplos**\n",
        "````\n",
        ">>> data = investpy.get_fund_recent_data(fund='bbva multiactivo conservador pp', country='spain')\n",
        ">>> data.head()\n",
        "             Open   High    Low  Close Currency\n",
        "Date\n",
        "2019-08-13  1.110  1.110  1.110  1.110      EUR\n",
        "2019-08-16  1.109  1.109  1.109  1.109      EUR\n",
        "2019-08-19  1.114  1.114  1.114  1.114      EUR\n",
        "2019-08-20  1.112  1.112  1.112  1.112      EUR\n",
        "2019-08-21  1.115  1.115  1.115  1.115      EUR\n",
        "````\n",
        "\n",
        "---"
      ]
    },
    {
      "cell_type": "code",
      "metadata": {
        "id": "Jios6Qlew-Hw"
      },
      "source": [
        "!pip install investpy"
      ],
      "execution_count": null,
      "outputs": []
    },
    {
      "cell_type": "code",
      "metadata": {
        "id": "bx5PbT8Pw_Rs"
      },
      "source": [
        "import investpy"
      ],
      "execution_count": null,
      "outputs": []
    },
    {
      "cell_type": "code",
      "metadata": {
        "id": "igJ01gRgw_-R",
        "outputId": "cc16f1a7-e114-41a1-b857-c442e75f84eb",
        "colab": {
          "base_uri": "https://localhost:8080/",
          "height": 669
        }
      },
      "source": [
        "data_rd = investpy.funds.get_fund_recent_data ( fund = \"Joule Value Fundo De Investimento Em Ações\" , country = \"brazil\" , as_json = False , order = 'ascending' , interval = 'Daily' )\n",
        "data_rd"
      ],
      "execution_count": null,
      "outputs": [
        {
          "output_type": "execute_result",
          "data": {
            "text/html": [
              "<div>\n",
              "<style scoped>\n",
              "    .dataframe tbody tr th:only-of-type {\n",
              "        vertical-align: middle;\n",
              "    }\n",
              "\n",
              "    .dataframe tbody tr th {\n",
              "        vertical-align: top;\n",
              "    }\n",
              "\n",
              "    .dataframe thead th {\n",
              "        text-align: right;\n",
              "    }\n",
              "</style>\n",
              "<table border=\"1\" class=\"dataframe\">\n",
              "  <thead>\n",
              "    <tr style=\"text-align: right;\">\n",
              "      <th></th>\n",
              "      <th>Open</th>\n",
              "      <th>High</th>\n",
              "      <th>Low</th>\n",
              "      <th>Close</th>\n",
              "      <th>Currency</th>\n",
              "    </tr>\n",
              "    <tr>\n",
              "      <th>Date</th>\n",
              "      <th></th>\n",
              "      <th></th>\n",
              "      <th></th>\n",
              "      <th></th>\n",
              "      <th></th>\n",
              "    </tr>\n",
              "  </thead>\n",
              "  <tbody>\n",
              "    <tr>\n",
              "      <th>2020-09-15</th>\n",
              "      <td>5.079</td>\n",
              "      <td>5.079</td>\n",
              "      <td>5.079</td>\n",
              "      <td>5.079</td>\n",
              "      <td>BRL</td>\n",
              "    </tr>\n",
              "    <tr>\n",
              "      <th>2020-09-16</th>\n",
              "      <td>5.069</td>\n",
              "      <td>5.069</td>\n",
              "      <td>5.069</td>\n",
              "      <td>5.069</td>\n",
              "      <td>BRL</td>\n",
              "    </tr>\n",
              "    <tr>\n",
              "      <th>2020-09-17</th>\n",
              "      <td>5.029</td>\n",
              "      <td>5.029</td>\n",
              "      <td>5.029</td>\n",
              "      <td>5.029</td>\n",
              "      <td>BRL</td>\n",
              "    </tr>\n",
              "    <tr>\n",
              "      <th>2020-09-18</th>\n",
              "      <td>4.923</td>\n",
              "      <td>4.923</td>\n",
              "      <td>4.923</td>\n",
              "      <td>4.923</td>\n",
              "      <td>BRL</td>\n",
              "    </tr>\n",
              "    <tr>\n",
              "      <th>2020-09-21</th>\n",
              "      <td>4.846</td>\n",
              "      <td>4.846</td>\n",
              "      <td>4.846</td>\n",
              "      <td>4.846</td>\n",
              "      <td>BRL</td>\n",
              "    </tr>\n",
              "    <tr>\n",
              "      <th>2020-09-22</th>\n",
              "      <td>4.847</td>\n",
              "      <td>4.847</td>\n",
              "      <td>4.847</td>\n",
              "      <td>4.847</td>\n",
              "      <td>BRL</td>\n",
              "    </tr>\n",
              "    <tr>\n",
              "      <th>2020-09-23</th>\n",
              "      <td>4.875</td>\n",
              "      <td>4.875</td>\n",
              "      <td>4.875</td>\n",
              "      <td>4.875</td>\n",
              "      <td>BRL</td>\n",
              "    </tr>\n",
              "    <tr>\n",
              "      <th>2020-09-24</th>\n",
              "      <td>4.939</td>\n",
              "      <td>4.939</td>\n",
              "      <td>4.939</td>\n",
              "      <td>4.939</td>\n",
              "      <td>BRL</td>\n",
              "    </tr>\n",
              "    <tr>\n",
              "      <th>2020-09-25</th>\n",
              "      <td>4.915</td>\n",
              "      <td>4.915</td>\n",
              "      <td>4.915</td>\n",
              "      <td>4.915</td>\n",
              "      <td>BRL</td>\n",
              "    </tr>\n",
              "    <tr>\n",
              "      <th>2020-09-28</th>\n",
              "      <td>4.774</td>\n",
              "      <td>4.774</td>\n",
              "      <td>4.774</td>\n",
              "      <td>4.774</td>\n",
              "      <td>BRL</td>\n",
              "    </tr>\n",
              "    <tr>\n",
              "      <th>2020-09-29</th>\n",
              "      <td>4.671</td>\n",
              "      <td>4.671</td>\n",
              "      <td>4.671</td>\n",
              "      <td>4.671</td>\n",
              "      <td>BRL</td>\n",
              "    </tr>\n",
              "    <tr>\n",
              "      <th>2020-09-30</th>\n",
              "      <td>4.741</td>\n",
              "      <td>4.741</td>\n",
              "      <td>4.741</td>\n",
              "      <td>4.741</td>\n",
              "      <td>BRL</td>\n",
              "    </tr>\n",
              "    <tr>\n",
              "      <th>2020-10-01</th>\n",
              "      <td>4.862</td>\n",
              "      <td>4.862</td>\n",
              "      <td>4.862</td>\n",
              "      <td>4.862</td>\n",
              "      <td>BRL</td>\n",
              "    </tr>\n",
              "    <tr>\n",
              "      <th>2020-10-02</th>\n",
              "      <td>4.770</td>\n",
              "      <td>4.770</td>\n",
              "      <td>4.770</td>\n",
              "      <td>4.770</td>\n",
              "      <td>BRL</td>\n",
              "    </tr>\n",
              "    <tr>\n",
              "      <th>2020-10-05</th>\n",
              "      <td>4.757</td>\n",
              "      <td>4.757</td>\n",
              "      <td>4.757</td>\n",
              "      <td>4.757</td>\n",
              "      <td>BRL</td>\n",
              "    </tr>\n",
              "    <tr>\n",
              "      <th>2020-10-06</th>\n",
              "      <td>4.767</td>\n",
              "      <td>4.767</td>\n",
              "      <td>4.767</td>\n",
              "      <td>4.767</td>\n",
              "      <td>BRL</td>\n",
              "    </tr>\n",
              "    <tr>\n",
              "      <th>2020-10-07</th>\n",
              "      <td>4.742</td>\n",
              "      <td>4.742</td>\n",
              "      <td>4.742</td>\n",
              "      <td>4.742</td>\n",
              "      <td>BRL</td>\n",
              "    </tr>\n",
              "    <tr>\n",
              "      <th>2020-10-08</th>\n",
              "      <td>4.846</td>\n",
              "      <td>4.846</td>\n",
              "      <td>4.846</td>\n",
              "      <td>4.846</td>\n",
              "      <td>BRL</td>\n",
              "    </tr>\n",
              "    <tr>\n",
              "      <th>2020-10-09</th>\n",
              "      <td>4.927</td>\n",
              "      <td>4.927</td>\n",
              "      <td>4.927</td>\n",
              "      <td>4.927</td>\n",
              "      <td>BRL</td>\n",
              "    </tr>\n",
              "  </tbody>\n",
              "</table>\n",
              "</div>"
            ],
            "text/plain": [
              "             Open   High    Low  Close Currency\n",
              "Date                                           \n",
              "2020-09-15  5.079  5.079  5.079  5.079      BRL\n",
              "2020-09-16  5.069  5.069  5.069  5.069      BRL\n",
              "2020-09-17  5.029  5.029  5.029  5.029      BRL\n",
              "2020-09-18  4.923  4.923  4.923  4.923      BRL\n",
              "2020-09-21  4.846  4.846  4.846  4.846      BRL\n",
              "2020-09-22  4.847  4.847  4.847  4.847      BRL\n",
              "2020-09-23  4.875  4.875  4.875  4.875      BRL\n",
              "2020-09-24  4.939  4.939  4.939  4.939      BRL\n",
              "2020-09-25  4.915  4.915  4.915  4.915      BRL\n",
              "2020-09-28  4.774  4.774  4.774  4.774      BRL\n",
              "2020-09-29  4.671  4.671  4.671  4.671      BRL\n",
              "2020-09-30  4.741  4.741  4.741  4.741      BRL\n",
              "2020-10-01  4.862  4.862  4.862  4.862      BRL\n",
              "2020-10-02  4.770  4.770  4.770  4.770      BRL\n",
              "2020-10-05  4.757  4.757  4.757  4.757      BRL\n",
              "2020-10-06  4.767  4.767  4.767  4.767      BRL\n",
              "2020-10-07  4.742  4.742  4.742  4.742      BRL\n",
              "2020-10-08  4.846  4.846  4.846  4.846      BRL\n",
              "2020-10-09  4.927  4.927  4.927  4.927      BRL"
            ]
          },
          "metadata": {
            "tags": []
          },
          "execution_count": 8
        }
      ]
    },
    {
      "cell_type": "code",
      "metadata": {
        "id": "cQUn4Ksdxf7G",
        "outputId": "d50e61ef-f333-489e-d233-f98d8ffe1576",
        "colab": {
          "base_uri": "https://localhost:8080/",
          "height": 34
        }
      },
      "source": [
        "type(data_rd)"
      ],
      "execution_count": null,
      "outputs": [
        {
          "output_type": "execute_result",
          "data": {
            "text/plain": [
              "pandas.core.frame.DataFrame"
            ]
          },
          "metadata": {
            "tags": []
          },
          "execution_count": 9
        }
      ]
    },
    {
      "cell_type": "markdown",
      "metadata": {
        "id": "dm0_Qm3DYiW5"
      },
      "source": [
        "###**investpy.funds.get_funds** *( país = nenhum )*\n",
        "\n",
        ">Esta função recupera todos os *fundos* disponíveis em Investing.com e os retorna como um `pandas.DataFrame`, que contém não apenas os nomes dos fundos, mas todos os campos contidos no arquivo *funds.csv* . Todos os fundos disponíveis podem ser encontrados em: https://www.investing.com/funds/\n",
        "\n",
        ">>**Parâmetros:**\t\n",
        ">>>* **país** (`str`, opcional) - nome do país de onde recuperar todos os fundos disponíveis.\n",
        "\n",
        ">>**Retorna:**\n",
        ">>>O resultado `pandas.DataFrame` contém todas as informações básicas de fundos recuperadas de Investing.com, algumas das quais não são úteis para o usuário, mas para as funções internas do pacote, como o campo *id* , por exemplo.\\\n",
        "Caso a informação tenha sido recuperada com sucesso, o `pandas.DataFrame` será semelhante a:\n",
        "\n",
        ">>>````\n",
        "country | name | symbol | issuer | isin | asset_class | currency | underlying\n",
        "--------|------|--------|--------|------|-------------|----------|------------\n",
        "xxxxxxx | xxxx | xxxxxx | xxxxxx | xxxx | xxxxxxxxxxx | xxxxxxxx | xxxxxxxxxx\n",
        ">>>````\n",
        "\n",
        ">>**Tipo de retorno:**\n",
        ">>>* `pandas.DataFrame` - funds_df\n",
        "\n",
        ">>**Avisos:**\n",
        ">>>* `ValueError` - gerado sempre que qualquer um dos argumentos introduzidos não é válido ou está errado.\n",
        ">>>* `FileNotFoundError` - gerado quando o arquivo *funds.csv* não foi encontrado.\n",
        ">>>* `IOError` - gerado se o arquivo *funds.csv* estiver ausente ou com erro."
      ]
    },
    {
      "cell_type": "code",
      "metadata": {
        "id": "Ofld9b5Fojsi",
        "outputId": "8eef9ea6-b59e-40c1-b66a-68ba2fe876aa",
        "colab": {
          "base_uri": "https://localhost:8080/",
          "height": 255
        }
      },
      "source": [
        "!pip install investpy"
      ],
      "execution_count": null,
      "outputs": [
        {
          "output_type": "stream",
          "text": [
            "Requirement already satisfied: investpy in /usr/local/lib/python3.6/dist-packages (1.0)\n",
            "Requirement already satisfied: lxml>=4.4.1 in /usr/local/lib/python3.6/dist-packages (from investpy) (4.5.2)\n",
            "Requirement already satisfied: requests>=2.22.0 in /usr/local/lib/python3.6/dist-packages (from investpy) (2.23.0)\n",
            "Requirement already satisfied: numpy>=1.17.2 in /usr/local/lib/python3.6/dist-packages (from investpy) (1.18.5)\n",
            "Requirement already satisfied: Unidecode>=1.1.1 in /usr/local/lib/python3.6/dist-packages (from investpy) (1.1.1)\n",
            "Requirement already satisfied: pytz>=2019.3 in /usr/local/lib/python3.6/dist-packages (from investpy) (2020.1)\n",
            "Requirement already satisfied: setuptools>=41.2.0 in /usr/local/lib/python3.6/dist-packages (from investpy) (50.3.0)\n",
            "Requirement already satisfied: pandas>=0.25.1 in /usr/local/lib/python3.6/dist-packages (from investpy) (1.1.2)\n",
            "Requirement already satisfied: certifi>=2017.4.17 in /usr/local/lib/python3.6/dist-packages (from requests>=2.22.0->investpy) (2020.6.20)\n",
            "Requirement already satisfied: idna<3,>=2.5 in /usr/local/lib/python3.6/dist-packages (from requests>=2.22.0->investpy) (2.10)\n",
            "Requirement already satisfied: urllib3!=1.25.0,!=1.25.1,<1.26,>=1.21.1 in /usr/local/lib/python3.6/dist-packages (from requests>=2.22.0->investpy) (1.24.3)\n",
            "Requirement already satisfied: chardet<4,>=3.0.2 in /usr/local/lib/python3.6/dist-packages (from requests>=2.22.0->investpy) (3.0.4)\n",
            "Requirement already satisfied: python-dateutil>=2.7.3 in /usr/local/lib/python3.6/dist-packages (from pandas>=0.25.1->investpy) (2.8.1)\n",
            "Requirement already satisfied: six>=1.5 in /usr/local/lib/python3.6/dist-packages (from python-dateutil>=2.7.3->pandas>=0.25.1->investpy) (1.15.0)\n"
          ],
          "name": "stdout"
        }
      ]
    },
    {
      "cell_type": "code",
      "metadata": {
        "id": "Ni2usoqKooOz"
      },
      "source": [
        "import investpy"
      ],
      "execution_count": null,
      "outputs": []
    },
    {
      "cell_type": "code",
      "metadata": {
        "id": "U2GU5nlyot4c",
        "outputId": "051e0cfc-09b0-4e1f-f47e-b5e140c60619",
        "colab": {
          "base_uri": "https://localhost:8080/",
          "height": 419
        }
      },
      "source": [
        "fundos = investpy.funds.get_funds(country= \"brazil\")\n",
        "fundos."
      ],
      "execution_count": null,
      "outputs": [
        {
          "output_type": "execute_result",
          "data": {
            "text/html": [
              "<div>\n",
              "<style scoped>\n",
              "    .dataframe tbody tr th:only-of-type {\n",
              "        vertical-align: middle;\n",
              "    }\n",
              "\n",
              "    .dataframe tbody tr th {\n",
              "        vertical-align: top;\n",
              "    }\n",
              "\n",
              "    .dataframe thead th {\n",
              "        text-align: right;\n",
              "    }\n",
              "</style>\n",
              "<table border=\"1\" class=\"dataframe\">\n",
              "  <thead>\n",
              "    <tr style=\"text-align: right;\">\n",
              "      <th></th>\n",
              "      <th>country</th>\n",
              "      <th>name</th>\n",
              "      <th>symbol</th>\n",
              "      <th>issuer</th>\n",
              "      <th>isin</th>\n",
              "      <th>asset_class</th>\n",
              "      <th>currency</th>\n",
              "      <th>underlying</th>\n",
              "    </tr>\n",
              "  </thead>\n",
              "  <tbody>\n",
              "    <tr>\n",
              "      <th>0</th>\n",
              "      <td>brazil</td>\n",
              "      <td>Fundo De Investimento Multimercado Bordeaux Iv...</td>\n",
              "      <td>0P00016ZP9</td>\n",
              "      <td>Itaú DTVM SA</td>\n",
              "      <td>BRBRDXCTF006</td>\n",
              "      <td>other</td>\n",
              "      <td>BRL</td>\n",
              "      <td>None</td>\n",
              "    </tr>\n",
              "    <tr>\n",
              "      <th>1</th>\n",
              "      <td>brazil</td>\n",
              "      <td>Cshg Warrior V Fundo De Investimento Multimerc...</td>\n",
              "      <td>0P0000UESC</td>\n",
              "      <td>Credit Suisse Hedging-Griffo Wealth mgmt S.A.</td>\n",
              "      <td>BRWAR5CTF006</td>\n",
              "      <td>other</td>\n",
              "      <td>BRL</td>\n",
              "      <td>None</td>\n",
              "    </tr>\n",
              "    <tr>\n",
              "      <th>2</th>\n",
              "      <td>brazil</td>\n",
              "      <td>A3 Viking Fi Em Quotas De Fi Multimercado Créd...</td>\n",
              "      <td>0P0000U8PG</td>\n",
              "      <td>A3 Performance Gestão de Recursos Ltda</td>\n",
              "      <td>BRATVKCTF003</td>\n",
              "      <td>other</td>\n",
              "      <td>BRL</td>\n",
              "      <td>None</td>\n",
              "    </tr>\n",
              "    <tr>\n",
              "      <th>3</th>\n",
              "      <td>brazil</td>\n",
              "      <td>Bb Espelho Multimercado Lp J. Safra Absoluto 3...</td>\n",
              "      <td>0P0000U3XJ</td>\n",
              "      <td>BB Gestão de Recursos DTVM SA</td>\n",
              "      <td>BRBBE9CTF007</td>\n",
              "      <td>other</td>\n",
              "      <td>BRL</td>\n",
              "      <td>None</td>\n",
              "    </tr>\n",
              "    <tr>\n",
              "      <th>4</th>\n",
              "      <td>brazil</td>\n",
              "      <td>Ctm Hedge Fundo De Investimento Multimercado -...</td>\n",
              "      <td>0P0000ZO0F</td>\n",
              "      <td>CTM Investimentos Ltda</td>\n",
              "      <td>BRCTM3CTF009</td>\n",
              "      <td>other</td>\n",
              "      <td>BRL</td>\n",
              "      <td>None</td>\n",
              "    </tr>\n",
              "    <tr>\n",
              "      <th>...</th>\n",
              "      <td>...</td>\n",
              "      <td>...</td>\n",
              "      <td>...</td>\n",
              "      <td>...</td>\n",
              "      <td>...</td>\n",
              "      <td>...</td>\n",
              "      <td>...</td>\n",
              "      <td>...</td>\n",
              "    </tr>\n",
              "    <tr>\n",
              "      <th>5195</th>\n",
              "      <td>brazil</td>\n",
              "      <td>Itaú Long And Short 30 Multimercado Fundo De I...</td>\n",
              "      <td>0P0000Y9QN</td>\n",
              "      <td>Itaú Unibanco S.A.</td>\n",
              "      <td>BRLON6CTF005</td>\n",
              "      <td>equity</td>\n",
              "      <td>BRL</td>\n",
              "      <td>None</td>\n",
              "    </tr>\n",
              "    <tr>\n",
              "      <th>5196</th>\n",
              "      <td>brazil</td>\n",
              "      <td>Perfin Equity Hedge Master Fundo De Investimen...</td>\n",
              "      <td>0P0000U98P</td>\n",
              "      <td>Perfin Administração de Recursos Ltda</td>\n",
              "      <td>BRPFN8CTF008</td>\n",
              "      <td>equity</td>\n",
              "      <td>BRL</td>\n",
              "      <td>None</td>\n",
              "    </tr>\n",
              "    <tr>\n",
              "      <th>5197</th>\n",
              "      <td>brazil</td>\n",
              "      <td>Sharp Long Short Fundo De Investimento Multime...</td>\n",
              "      <td>0P0000U5ZC</td>\n",
              "      <td>Gap Equities Gestora de Recursos Ltda</td>\n",
              "      <td>BRGAPLCTF000</td>\n",
              "      <td>equity</td>\n",
              "      <td>BRL</td>\n",
              "      <td>None</td>\n",
              "    </tr>\n",
              "    <tr>\n",
              "      <th>5198</th>\n",
              "      <td>brazil</td>\n",
              "      <td>Itaú Private Long And Short Plus Multimercado ...</td>\n",
              "      <td>0P0000XYFV</td>\n",
              "      <td>Itaú Unibanco S.A.</td>\n",
              "      <td>BRIPL2CTF000</td>\n",
              "      <td>equity</td>\n",
              "      <td>BRL</td>\n",
              "      <td>None</td>\n",
              "    </tr>\n",
              "    <tr>\n",
              "      <th>5199</th>\n",
              "      <td>brazil</td>\n",
              "      <td>Arx Extra Fundo De Investimento Em Cotas De Fu...</td>\n",
              "      <td>0P0000TLKQ</td>\n",
              "      <td>ARX Investimentos Ltda</td>\n",
              "      <td>BRARXECTF006</td>\n",
              "      <td>equity</td>\n",
              "      <td>BRL</td>\n",
              "      <td>None</td>\n",
              "    </tr>\n",
              "  </tbody>\n",
              "</table>\n",
              "<p>5200 rows × 8 columns</p>\n",
              "</div>"
            ],
            "text/plain": [
              "     country  ... underlying\n",
              "0     brazil  ...       None\n",
              "1     brazil  ...       None\n",
              "2     brazil  ...       None\n",
              "3     brazil  ...       None\n",
              "4     brazil  ...       None\n",
              "...      ...  ...        ...\n",
              "5195  brazil  ...       None\n",
              "5196  brazil  ...       None\n",
              "5197  brazil  ...       None\n",
              "5198  brazil  ...       None\n",
              "5199  brazil  ...       None\n",
              "\n",
              "[5200 rows x 8 columns]"
            ]
          },
          "metadata": {
            "tags": []
          },
          "execution_count": 60
        }
      ]
    },
    {
      "cell_type": "markdown",
      "metadata": {
        "id": "PvnzM7Z7rDeI"
      },
      "source": [
        "###**investpy.funds.get_funds_dict** *( país = Nenhum , colunas = Nenhum , as_json = Falso )*\n",
        "\n",
        ">Esta função recupera todos os fundos disponíveis em Investing.com e os retorna como um `dict` contendo o país, nome, símbolo, tag, id, emissor, isin, asset_class, moeda e dados subjacentes. Todos os fundos disponíveis podem ser encontrados em: https://www.investing.com/funds/\n",
        "\n",
        ">>**Parâmetros:**\n",
        ">>>* **país** (`str`, opcional) - nome do país de onde recuperar todos os fundos disponíveis.\n",
        ">>>* **colunas** ( `list` de `str`, opcional) - descrição a `list` contendo os nomes das colunas das quais os dados serão recuperados.\n",
        ">>>* **as_json** (`bool`, opcional) - valor de descrição para determinar o formato dos dados de saída (`dict` ou `json`).\n",
        "\n",
        ">>**Retorna:**\n",
        "\n",
        ">>>>O resultado `dict` contém os dados recuperados se encontrados, caso contrário, os campos correspondentes são preenchidos com nenhum valor.\\\n",
        "Caso a informação tenha sido recuperada com sucesso, o dictserá semelhante a:\n",
        "\n",
        ">>>>````\n",
        "{\n",
        "    'country': country,\n",
        "    'name': name,\n",
        "    'symbol': symbol,\n",
        "    'issuer': issuer,\n",
        "    'isin': isin,\n",
        "    'asset_class': asset_class,\n",
        "    'currency': currency,\n",
        "    'underlying': underlying\n",
        "}\n",
        "````\n",
        "\n",
        ">>**Tipo de retorno:**\n",
        ">>>>`dict` ou `json` - funds_dict\n",
        "\n",
        ">>**Avisos:**\n",
        ">>>* `ValueError` - gerado sempre que qualquer um dos argumentos introduzidos não é válido ou está errado.\n",
        ">>>* `FileNotFoundError` - gerado quando o arquivo *funds.csv* não foi encontrado.\n",
        ">>>* `IOError` - gerado se o arquivo *funds.csv* estiver ausente ou com erro.\n",
        "\n",
        "---"
      ]
    },
    {
      "cell_type": "code",
      "metadata": {
        "id": "JcLd4h-Why2f"
      },
      "source": [
        "!pip install investpy"
      ],
      "execution_count": null,
      "outputs": []
    },
    {
      "cell_type": "code",
      "metadata": {
        "id": "_CfEg7SQiTFL"
      },
      "source": [
        "import investpy"
      ],
      "execution_count": null,
      "outputs": []
    },
    {
      "cell_type": "code",
      "metadata": {
        "id": "LNV0JJoKh3HO"
      },
      "source": [
        "funds_dict = investpy.funds.get_funds_dict(country= \"brazil\")\n",
        "funds_dict"
      ],
      "execution_count": null,
      "outputs": []
    },
    {
      "cell_type": "markdown",
      "metadata": {
        "id": "prPVyQLKrQAs"
      },
      "source": [
        "###**investpy.funds.get_funds_list** *( país = nenhum )*\n",
        "\n",
        ">Esta função recupera todos os fundos disponíveis e retorna uma lista de cada um deles. Todos os fundos disponíveis podem ser encontrados em: https://www.investing.com/funds/\n",
        "\n",
        ">>**Parâmetros:**\n",
        ">>>* **país** (`str`, opcional) - nome do país de onde recuperar todos os fundos disponíveis.\n",
        "\n",
        ">>**Retorna:**\n",
        ">>>>A lista resultante contém os dados recuperados, que correspondem aos nomes dos fundos de todos os fundos listados em Investing.com.\\\n",
        "Caso as informações tenham sido recuperadas com sucesso do arquivo CSV, o `list` será semelhante a:\n",
        "\n",
        ">>>>````\n",
        "funds = [\n",
        "    'Blackrock Global Funds - Global Allocation Fund E2',\n",
        "    'Quality Inversión Conservadora Fi',\n",
        "    'Nordea 1 - Stable Return Fund E Eur',\n",
        "    ...\n",
        "]\n",
        "````\n",
        "\n",
        ">>**Tipo de retorno:**\n",
        ">>>* `list` - fundos_list\n",
        "\n",
        ">>**Avisos:**\n",
        ">>>* `ValueError` - gerado sempre que qualquer um dos argumentos introduzidos não é válido ou está errado.\n",
        ">>>* `FileNotFoundError` - gerado quando o arquivo *funds.csv* não foi encontrado.\n",
        ">>>* `IOError`- gerado se o arquivo *funds.csv* estiver ausente ou com erro.\n",
        "\n",
        "---"
      ]
    },
    {
      "cell_type": "code",
      "metadata": {
        "id": "-OQyAhQDs8EQ"
      },
      "source": [
        "!pip install investpy"
      ],
      "execution_count": null,
      "outputs": []
    },
    {
      "cell_type": "code",
      "metadata": {
        "id": "NtX42feOigZV"
      },
      "source": [
        "import investpy"
      ],
      "execution_count": null,
      "outputs": []
    },
    {
      "cell_type": "code",
      "metadata": {
        "id": "LYpZQKL_tEiH",
        "outputId": "7bb24d94-be50-4d3e-f246-e13ce4d13bc9",
        "colab": {
          "base_uri": "https://localhost:8080/",
          "height": 102
        }
      },
      "source": [
        "fundos_br = investpy.funds.get_funds_list ( country = \"brazil\" )\n",
        "fundos_br[:5]"
      ],
      "execution_count": null,
      "outputs": [
        {
          "output_type": "execute_result",
          "data": {
            "text/plain": [
              "['Fundo De Investimento Multimercado Bordeaux Iv Crédito Privado Investimento No Exterior',\n",
              " 'Cshg Warrior V Fundo De Investimento Multimercado - Crédito Privado Investimento No Exterior',\n",
              " 'A3 Viking Fi Em Quotas De Fi Multimercado Crédito Privado Investimento No Exterior',\n",
              " 'Bb Espelho Multimercado Lp J. Safra Absoluto 30 Private Fic Fi',\n",
              " 'Ctm Hedge Fundo De Investimento Multimercado - Longo Prazo']"
            ]
          },
          "metadata": {
            "tags": []
          },
          "execution_count": 30
        }
      ]
    },
    {
      "cell_type": "code",
      "metadata": {
        "id": "Z3V5f4Cfukfw",
        "outputId": "811fb20d-c8eb-4cb6-cf74-d94cf4ee6130",
        "colab": {
          "base_uri": "https://localhost:8080/",
          "height": 34
        }
      },
      "source": [
        "len(fundos_br)"
      ],
      "execution_count": null,
      "outputs": [
        {
          "output_type": "execute_result",
          "data": {
            "text/plain": [
              "5200"
            ]
          },
          "metadata": {
            "tags": []
          },
          "execution_count": 20
        }
      ]
    },
    {
      "cell_type": "code",
      "metadata": {
        "id": "xDwbIHxo4c_m"
      },
      "source": [
        "import pandas as pd"
      ],
      "execution_count": null,
      "outputs": []
    },
    {
      "cell_type": "code",
      "metadata": {
        "id": "KIWa1lmj4hk6"
      },
      "source": [
        "from google.colab import files"
      ],
      "execution_count": null,
      "outputs": []
    },
    {
      "cell_type": "code",
      "metadata": {
        "id": "xMoz8Umy4yIo",
        "outputId": "a0e1cbe2-9316-48a4-9264-5daefe4a7133",
        "colab": {
          "base_uri": "https://localhost:8080/",
          "height": 17
        }
      },
      "source": [
        "fundos.to_excel(\"fundos.xlsx\")\n",
        "files.download(\"fundos.xlsx\")"
      ],
      "execution_count": null,
      "outputs": [
        {
          "output_type": "display_data",
          "data": {
            "application/javascript": [
              "\n",
              "    async function download(id, filename, size) {\n",
              "      if (!google.colab.kernel.accessAllowed) {\n",
              "        return;\n",
              "      }\n",
              "      const div = document.createElement('div');\n",
              "      const label = document.createElement('label');\n",
              "      label.textContent = `Downloading \"${filename}\": `;\n",
              "      div.appendChild(label);\n",
              "      const progress = document.createElement('progress');\n",
              "      progress.max = size;\n",
              "      div.appendChild(progress);\n",
              "      document.body.appendChild(div);\n",
              "\n",
              "      const buffers = [];\n",
              "      let downloaded = 0;\n",
              "\n",
              "      const channel = await google.colab.kernel.comms.open(id);\n",
              "      // Send a message to notify the kernel that we're ready.\n",
              "      channel.send({})\n",
              "\n",
              "      for await (const message of channel.messages) {\n",
              "        // Send a message to notify the kernel that we're ready.\n",
              "        channel.send({})\n",
              "        if (message.buffers) {\n",
              "          for (const buffer of message.buffers) {\n",
              "            buffers.push(buffer);\n",
              "            downloaded += buffer.byteLength;\n",
              "            progress.value = downloaded;\n",
              "          }\n",
              "        }\n",
              "      }\n",
              "      const blob = new Blob(buffers, {type: 'application/binary'});\n",
              "      const a = document.createElement('a');\n",
              "      a.href = window.URL.createObjectURL(blob);\n",
              "      a.download = filename;\n",
              "      div.appendChild(a);\n",
              "      a.click();\n",
              "      div.remove();\n",
              "    }\n",
              "  "
            ],
            "text/plain": [
              "<IPython.core.display.Javascript object>"
            ]
          },
          "metadata": {
            "tags": []
          }
        },
        {
          "output_type": "display_data",
          "data": {
            "application/javascript": [
              "download(\"download_70df838e-d640-43bd-b28b-2a8582218345\", \"fundos.xlsx\", 317466)"
            ],
            "text/plain": [
              "<IPython.core.display.Javascript object>"
            ]
          },
          "metadata": {
            "tags": []
          }
        }
      ]
    },
    {
      "cell_type": "markdown",
      "metadata": {
        "id": "OzddlGqskqAe"
      },
      "source": [
        "###**investpy.funds.get_funds_overview** *( país , as_json = False , n_results = 100 )*\n",
        ">Esta função recupera uma visão geral que contém todos os dados em tempo real disponíveis para os principais fundos de um país, como nomes, símbolos, valor atual, etc. conforme indexado em Investing.com. Portanto, o principal uso desta função é obter uma visão geral dos principais fundos de um país, para obter uma visão geral. Observe que, como esta função está recuperando muitas informações de uma vez, por padrão, apenas a visão geral dos 100 principais fundos está sendo recuperada, mas um parâmetro adicional chamado `n_results` pode ser especificado para recuperar N resultados.\n",
        "\n",
        ">>**Parâmetros:**\n",
        ">>>* **país** (`str`) - nome do país de onde recuperar a visão geral dos fundos.\n",
        ">>>* **`as_json`** (`bool`, opcional) - argumento opcional para determinar o formato dos dados de saída ( `pandas.DataFrame` ou `json`).\n",
        ">>>* **`n_results`** ( `int`, opcional) - número de resultados a serem exibidos na tabela de visão geral (0-1000).\n",
        "\n",
        ">>**Retorna:**\n",
        ">>>>O resultado `pandas.DataFrame` contém todos os dados disponíveis em Investing.com dos principais ETFs de um país para se ter uma visão geral dos mesmos.\\\n",
        "Se o processo de recuperação for bem-sucedido, o resultado `pandas.DataFrame` deve ser semelhante a:\n",
        "````\n",
        "country | name | symbol | last | change | total_assets\n",
        "--------|------|--------|------|--------|--------------\n",
        "xxxxxxx | xxxx | xxxxxx | xxxx | xxxxxx | xxxxxxxxxxxx\n",
        "````\n",
        "\n",
        ">>**Tipo de retorno:**\n",
        ">>>>`pandas.DataFrame` - funds_overview\n",
        "\n",
        ">>**Levanta:**\n",
        ">>>* **`ValueError`** - gerado se houver algum erro de argumento.\n",
        ">>>* **`FileNotFoundError` - gerado quando o arquivo *funds.csv* está ausente.\n",
        ">>>*`IOError` - gerado se os dados não puderam ser recuperados devido a um erro de arquivo.\n",
        ">>>*`RuntimeError` - gerado se o país introduzido não corresponder a nenhum dos listados ou se nenhum resultado geral puder ser obtido em Investing.com.\n",
        ">>>* `ConnectionError` - gerado se as solicitações GET não retornarem o código de status 200.\n",
        "\n",
        "---"
      ]
    },
    {
      "cell_type": "code",
      "metadata": {
        "id": "0Uz34hl1nZVb"
      },
      "source": [
        "!pip install investpy"
      ],
      "execution_count": null,
      "outputs": []
    },
    {
      "cell_type": "code",
      "metadata": {
        "id": "pgN12biena04"
      },
      "source": [
        "import investpy"
      ],
      "execution_count": null,
      "outputs": []
    },
    {
      "cell_type": "code",
      "metadata": {
        "id": "7JXVz3rpneIi",
        "outputId": "974e5453-6694-44ea-9175-4c1c68a082db",
        "colab": {
          "base_uri": "https://localhost:8080/",
          "height": 419
        }
      },
      "source": [
        "investpy.funds.get_funds_overview(country= \"brazil\", n_results=100)"
      ],
      "execution_count": null,
      "outputs": [
        {
          "output_type": "execute_result",
          "data": {
            "text/html": [
              "<div>\n",
              "<style scoped>\n",
              "    .dataframe tbody tr th:only-of-type {\n",
              "        vertical-align: middle;\n",
              "    }\n",
              "\n",
              "    .dataframe tbody tr th {\n",
              "        vertical-align: top;\n",
              "    }\n",
              "\n",
              "    .dataframe thead th {\n",
              "        text-align: right;\n",
              "    }\n",
              "</style>\n",
              "<table border=\"1\" class=\"dataframe\">\n",
              "  <thead>\n",
              "    <tr style=\"text-align: right;\">\n",
              "      <th></th>\n",
              "      <th>country</th>\n",
              "      <th>name</th>\n",
              "      <th>full_name</th>\n",
              "      <th>symbol</th>\n",
              "      <th>last</th>\n",
              "      <th>change</th>\n",
              "      <th>total_assets</th>\n",
              "      <th>currency</th>\n",
              "    </tr>\n",
              "  </thead>\n",
              "  <tbody>\n",
              "    <tr>\n",
              "      <th>0</th>\n",
              "      <td>brazil</td>\n",
              "      <td>Bb Top Cp Fundo De Investimento De Curto Prazo</td>\n",
              "      <td>BB TOP CP FUNDO DE INVESTIMENTO DE CURTO PRAZO</td>\n",
              "      <td>0P0000U42U</td>\n",
              "      <td>14.957</td>\n",
              "      <td>+0.01%</td>\n",
              "      <td>259680000000</td>\n",
              "      <td>BRL</td>\n",
              "    </tr>\n",
              "    <tr>\n",
              "      <th>1</th>\n",
              "      <td>brazil</td>\n",
              "      <td>Brasilprev Top Tpf Fundo De Investimento Renda...</td>\n",
              "      <td>BRASILPREV TOP TPF FUNDO DE INVESTIMENTO RENDA...</td>\n",
              "      <td>0P0000U45C</td>\n",
              "      <td>4.487</td>\n",
              "      <td>+0.11%</td>\n",
              "      <td>88090000000</td>\n",
              "      <td>BRL</td>\n",
              "    </tr>\n",
              "    <tr>\n",
              "      <th>2</th>\n",
              "      <td>brazil</td>\n",
              "      <td>Special Renda Fixa Referenciado Di - Fundo De ...</td>\n",
              "      <td>SPECIAL RENDA FIXA REFERENCIADO DI - FUNDO DE ...</td>\n",
              "      <td>0P0000UBHS</td>\n",
              "      <td>246.575</td>\n",
              "      <td>+0.05%</td>\n",
              "      <td>84560000000</td>\n",
              "      <td>BRL</td>\n",
              "    </tr>\n",
              "    <tr>\n",
              "      <th>3</th>\n",
              "      <td>brazil</td>\n",
              "      <td>Bb Renda Fixa Curto Prazo Automático Setor Pub...</td>\n",
              "      <td>BB CURTO PRAZO SUPREMO SETOR PUBLICO FUNDO DE ...</td>\n",
              "      <td>0P0000U3V7</td>\n",
              "      <td>3.715</td>\n",
              "      <td>0%</td>\n",
              "      <td>85030000000</td>\n",
              "      <td>BRL</td>\n",
              "    </tr>\n",
              "    <tr>\n",
              "      <th>4</th>\n",
              "      <td>brazil</td>\n",
              "      <td>Fundo De Investimento Previdenciário Caixa Pre...</td>\n",
              "      <td>FUNDO DE INVESTIMENTO PREVIDENCIÁRIO CAIXA PRE...</td>\n",
              "      <td>0P0000U9F9</td>\n",
              "      <td>4.650</td>\n",
              "      <td>+0.08%</td>\n",
              "      <td>73580000000</td>\n",
              "      <td>BRL</td>\n",
              "    </tr>\n",
              "    <tr>\n",
              "      <th>...</th>\n",
              "      <td>...</td>\n",
              "      <td>...</td>\n",
              "      <td>...</td>\n",
              "      <td>...</td>\n",
              "      <td>...</td>\n",
              "      <td>...</td>\n",
              "      <td>...</td>\n",
              "      <td>...</td>\n",
              "    </tr>\n",
              "    <tr>\n",
              "      <th>95</th>\n",
              "      <td>brazil</td>\n",
              "      <td>Bradesco Private Fundo De Investimento Em Cota...</td>\n",
              "      <td>BRADESCO PRIVATE FUNDO DE INVESTIMENTO EM COTA...</td>\n",
              "      <td>0P0000U7S7</td>\n",
              "      <td>2.536</td>\n",
              "      <td>+0.29%</td>\n",
              "      <td>10270000000</td>\n",
              "      <td>BRL</td>\n",
              "    </tr>\n",
              "    <tr>\n",
              "      <th>96</th>\n",
              "      <td>brazil</td>\n",
              "      <td>Fundo De Investimento Caixa Brasil Irf-m 1 Tít...</td>\n",
              "      <td>FUNDO DE INVESTIMENTO CAIXA BRASIL IRF-M 1 TÍT...</td>\n",
              "      <td>0P0000U9GP</td>\n",
              "      <td>2.597</td>\n",
              "      <td>+0.05%</td>\n",
              "      <td>10230000000</td>\n",
              "      <td>BRL</td>\n",
              "    </tr>\n",
              "    <tr>\n",
              "      <th>97</th>\n",
              "      <td>brazil</td>\n",
              "      <td>Absolute Vertex Master Fundo De Investimento M...</td>\n",
              "      <td>ABSOLUTE VERTEX MASTER FUNDO DE INVESTIMENTO M...</td>\n",
              "      <td>0P00015JN6</td>\n",
              "      <td>2.912</td>\n",
              "      <td>+0.46%</td>\n",
              "      <td>10830000000</td>\n",
              "      <td>BRL</td>\n",
              "    </tr>\n",
              "    <tr>\n",
              "      <th>98</th>\n",
              "      <td>brazil</td>\n",
              "      <td>Santander Fundo De Investimento Oviedo Renda Fixa</td>\n",
              "      <td>SANTANDER FUNDO DE INVESTIMENTO OVIEDO RENDA FIXA</td>\n",
              "      <td>0P0000U31C</td>\n",
              "      <td>55.887</td>\n",
              "      <td>+0.41%</td>\n",
              "      <td>10290000000</td>\n",
              "      <td>BRL</td>\n",
              "    </tr>\n",
              "    <tr>\n",
              "      <th>99</th>\n",
              "      <td>brazil</td>\n",
              "      <td>Bb Renda Fixa Referenciado Di Lp Plus Fundo De...</td>\n",
              "      <td>BB RENDA FIXA REFERENCIADO DI LP 30 MIL FUNDO ...</td>\n",
              "      <td>0P0000U40L</td>\n",
              "      <td>16.043</td>\n",
              "      <td>+0.12%</td>\n",
              "      <td>9830000000</td>\n",
              "      <td>BRL</td>\n",
              "    </tr>\n",
              "  </tbody>\n",
              "</table>\n",
              "<p>100 rows × 8 columns</p>\n",
              "</div>"
            ],
            "text/plain": [
              "   country  ... currency\n",
              "0   brazil  ...      BRL\n",
              "1   brazil  ...      BRL\n",
              "2   brazil  ...      BRL\n",
              "3   brazil  ...      BRL\n",
              "4   brazil  ...      BRL\n",
              "..     ...  ...      ...\n",
              "95  brazil  ...      BRL\n",
              "96  brazil  ...      BRL\n",
              "97  brazil  ...      BRL\n",
              "98  brazil  ...      BRL\n",
              "99  brazil  ...      BRL\n",
              "\n",
              "[100 rows x 8 columns]"
            ]
          },
          "metadata": {
            "tags": []
          },
          "execution_count": 6
        }
      ]
    },
    {
      "cell_type": "markdown",
      "metadata": {
        "id": "EjP6CSgDriJd"
      },
      "source": [
        "###**investpy.funds.search_funds** *( by , value )*\n",
        ">Esta função pesquisa fundos pelo valor introduzido para o campo especificado. Isso significa que esta função irá pesquisar se há um valor que corresponda ao valor introduzido para o campo especificado, que é o nome da coluna *funds.csv* para pesquisar. Os campos disponíveis para pesquisar fundos são 'nome', 'símbolo', ' emissor 'e' isin '.\n",
        "\n",
        ">>**Parâmetros:**\n",
        ">>>* **by** (`str`) - nome do campo a ser pesquisado, que é o nome da coluna ('nome', 'símbolo', 'emissor' ou 'isin').\n",
        "value ( str) - valor do campo a ser pesquisado, que é o str que será pesquisado.\n",
        "\n",
        ">>**Retorna:**\n",
        ">>>>*O `pandas.DataFrame` resultante contém os resultados da pesquisa da consulta fornecida (o valor especificado no campo especificado). Se não houver resultados e o erro será gerado, mas caso contrário, este `pandas.DataFrame` conterá todos os valores de campo disponíveis que correspondem à consulta introduzida.\n",
        "\n",
        ">>**Tipo de retorno:**\n",
        ">>>* `pandas.DataFrame` - resultado da pesquisa\n",
        "\n",
        ">>**Avisos:**\t\n",
        ">>>* `ValueError` - gerado se algum dos parâmetros introduzidos não for válido ou estiver com erro.\n",
        ">>>* `FileNotFoundError`- gerado se o arquivo *funds.csv* estiver ausente.\n",
        ">>>* `IOError` - gerado se os dados não puderam ser recuperados devido a um erro de arquivo.\n",
        ">>>* `RuntimeError` - gerado se nenhum resultado foi encontrado para o valor introduzido no campo introduzido.\n",
        "\n",
        "---"
      ]
    },
    {
      "cell_type": "code",
      "metadata": {
        "id": "i1a6uQhwung8"
      },
      "source": [
        "!pip install investpy"
      ],
      "execution_count": null,
      "outputs": []
    },
    {
      "cell_type": "code",
      "metadata": {
        "id": "08aIV4Riuqz_"
      },
      "source": [
        "import investpy"
      ],
      "execution_count": null,
      "outputs": []
    },
    {
      "cell_type": "code",
      "metadata": {
        "id": "2e2t8i3Fuzul",
        "outputId": "381f2a7b-a7ab-43ed-99d1-7213e7980155",
        "colab": {
          "base_uri": "https://localhost:8080/",
          "height": 51
        }
      },
      "source": [
        "teste = investpy.funds.search_funds ( by = \"symbol\", value = \"0P00019LLR\" )\n",
        "teste[\"name\"]\n"
      ],
      "execution_count": 5,
      "outputs": [
        {
          "output_type": "execute_result",
          "data": {
            "text/plain": [
              "0    Alaska Black Fundo De Investimento Em Cotas De...\n",
              "Name: name, dtype: object"
            ]
          },
          "metadata": {
            "tags": []
          },
          "execution_count": 5
        }
      ]
    },
    {
      "cell_type": "code",
      "metadata": {
        "id": "4DHIjr_ivd2S",
        "outputId": "a62f6060-55c9-4bcc-a13d-fa82560746a1",
        "colab": {
          "base_uri": "https://localhost:8080/",
          "height": 34
        }
      },
      "source": [
        "type(teste)"
      ],
      "execution_count": null,
      "outputs": [
        {
          "output_type": "execute_result",
          "data": {
            "text/plain": [
              "pandas.core.frame.DataFrame"
            ]
          },
          "metadata": {
            "tags": []
          },
          "execution_count": 10
        }
      ]
    },
    {
      "cell_type": "markdown",
      "metadata": {
        "id": "vKBNVGwy4X1L"
      },
      "source": [
        "## **investpy.etfs**\n",
        "\n",
        "`investpy.etfs`\n",
        "\n",
        "---"
      ]
    },
    {
      "cell_type": "markdown",
      "metadata": {
        "id": "RSh1tB3Y4ghr"
      },
      "source": [
        "## **investpy.indices**\n",
        "\n",
        "`investpy.indices`\n",
        "\n",
        "---\n",
        "\n",
        "###**investpy.indices.get_index_countries( )**\n",
        "\n",
        "###**investpy.indices.get_index_historical_data** *( index , country , from_date , to_date , as_json = False , order = 'ascending' , interval = 'Daily' )*\n",
        "\n",
        "###**investpy.indices.get_index_information** *( index , country , as_json = False )*\n",
        "\n",
        "###**investpy.indices.get_index_recent_data** *( index , country , as_json = False , order = 'ascending' , interval = 'Dialy' )*\n",
        "\n",
        "###**investpy.indices.get_indices** *( country = None )*\n",
        "\n",
        "###**investpy.indices.get_indices_dict** *( country = None , columns = None , as_json = False )*\n",
        "\n",
        "###**investpy.indices.get_indices_list** *( country = None )*\n",
        "\n",
        "###**investpy.indices.get_indices_overview** *( country , as_json = False , n_results = 100 )*\n",
        "\n",
        "###**investpy.indices.search_indices** *( by , value )*\n",
        "\n",
        "\n",
        "\n"
      ]
    },
    {
      "cell_type": "markdown",
      "metadata": {
        "id": "w6XNAY8JyKiT"
      },
      "source": [
        "###**investpy.indices.get_index_countries( )**\n"
      ]
    },
    {
      "cell_type": "code",
      "metadata": {
        "id": "pxXgYtz8zGp1"
      },
      "source": [
        "!pip install investpy"
      ],
      "execution_count": null,
      "outputs": []
    },
    {
      "cell_type": "code",
      "metadata": {
        "id": "fiWr2ct1zG3m"
      },
      "source": [
        "import investpy"
      ],
      "execution_count": null,
      "outputs": []
    },
    {
      "cell_type": "code",
      "metadata": {
        "id": "KtNzOQPxzGcr",
        "outputId": "940b5107-134b-4353-a1bd-6a90cb2db6ba",
        "colab": {
          "base_uri": "https://localhost:8080/",
          "height": 1000
        }
      },
      "source": [
        "countries = investpy.indices.get_index_countries( )\n",
        "countries"
      ],
      "execution_count": null,
      "outputs": [
        {
          "output_type": "execute_result",
          "data": {
            "text/plain": [
              "['argentina',\n",
              " 'australia',\n",
              " 'austria',\n",
              " 'bahrain',\n",
              " 'bangladesh',\n",
              " 'belgium',\n",
              " 'bosnia',\n",
              " 'botswana',\n",
              " 'brazil',\n",
              " 'bulgaria',\n",
              " 'canada',\n",
              " 'chile',\n",
              " 'china',\n",
              " 'colombia',\n",
              " 'costa rica',\n",
              " 'ivory coast',\n",
              " 'croatia',\n",
              " 'cyprus',\n",
              " 'czech republic',\n",
              " 'denmark',\n",
              " 'ecuador',\n",
              " 'egypt',\n",
              " 'estonia',\n",
              " 'finland',\n",
              " 'france',\n",
              " 'germany',\n",
              " 'greece',\n",
              " 'hong kong',\n",
              " 'hungary',\n",
              " 'iceland',\n",
              " 'india',\n",
              " 'indonesia',\n",
              " 'iraq',\n",
              " 'ireland',\n",
              " 'israel',\n",
              " 'italy',\n",
              " 'jamaica',\n",
              " 'japan',\n",
              " 'jordan',\n",
              " 'kazakhstan',\n",
              " 'kenya',\n",
              " 'kuwait',\n",
              " 'latvia',\n",
              " 'lebanon',\n",
              " 'lithuania',\n",
              " 'luxembourg',\n",
              " 'malawi',\n",
              " 'malaysia',\n",
              " 'malta',\n",
              " 'mauritius',\n",
              " 'mexico',\n",
              " 'mongolia',\n",
              " 'montenegro',\n",
              " 'morocco',\n",
              " 'namibia',\n",
              " 'netherlands',\n",
              " 'new zealand',\n",
              " 'nigeria',\n",
              " 'norway',\n",
              " 'oman',\n",
              " 'pakistan',\n",
              " 'palestinian territory',\n",
              " 'peru',\n",
              " 'philippines',\n",
              " 'poland',\n",
              " 'portugal',\n",
              " 'qatar',\n",
              " 'romania',\n",
              " 'russia',\n",
              " 'rwanda',\n",
              " 'saudi arabia',\n",
              " 'serbia',\n",
              " 'singapore',\n",
              " 'slovakia',\n",
              " 'slovenia',\n",
              " 'south africa',\n",
              " 'south korea',\n",
              " 'spain',\n",
              " 'sri lanka',\n",
              " 'sweden',\n",
              " 'switzerland',\n",
              " 'taiwan',\n",
              " 'tanzania',\n",
              " 'thailand',\n",
              " 'tunisia',\n",
              " 'turkey',\n",
              " 'uganda',\n",
              " 'ukraine',\n",
              " 'dubai',\n",
              " 'united kingdom',\n",
              " 'united states',\n",
              " 'venezuela',\n",
              " 'vietnam',\n",
              " 'zambia',\n",
              " 'zimbabwe']"
            ]
          },
          "metadata": {
            "tags": []
          },
          "execution_count": 67
        }
      ]
    },
    {
      "cell_type": "code",
      "metadata": {
        "id": "fXqGk1ZgzYCM",
        "outputId": "bb09f3fb-e152-47c0-c228-26226ec58b5b",
        "colab": {
          "base_uri": "https://localhost:8080/",
          "height": 34
        }
      },
      "source": [
        "len(countries)"
      ],
      "execution_count": null,
      "outputs": [
        {
          "output_type": "execute_result",
          "data": {
            "text/plain": [
              "95"
            ]
          },
          "metadata": {
            "tags": []
          },
          "execution_count": 63
        }
      ]
    },
    {
      "cell_type": "markdown",
      "metadata": {
        "id": "UfRnX5dKyUyX"
      },
      "source": [
        "###**investpy.indices.get_index_historical_data** *( index , country , from_date , to_date , as_json = False , order = 'ascending' , interval = 'Daily' )*"
      ]
    },
    {
      "cell_type": "code",
      "metadata": {
        "id": "Vjbq2XJX0-FZ"
      },
      "source": [
        "!pip install investpy"
      ],
      "execution_count": null,
      "outputs": []
    },
    {
      "cell_type": "code",
      "metadata": {
        "id": "rJwmYDOH0-Qr"
      },
      "source": [
        "import investpy"
      ],
      "execution_count": null,
      "outputs": []
    },
    {
      "cell_type": "code",
      "metadata": {
        "id": "ns4gRc6N096u",
        "outputId": "2aa861bb-c0a6-4fb4-b8ed-c29fd9598c67",
        "colab": {
          "base_uri": "https://localhost:8080/",
          "height": 450
        }
      },
      "source": [
        "hist_df = investpy.indices.get_index_historical_data ( index = \"Bovespa\" , country = \"brazil\" , from_date = \"01/01/1900\" , to_date = \"10/10/2020\" , as_json = False , order = 'ascending' , interval = 'Daily' )\n",
        "hist_df"
      ],
      "execution_count": null,
      "outputs": [
        {
          "output_type": "execute_result",
          "data": {
            "text/html": [
              "<div>\n",
              "<style scoped>\n",
              "    .dataframe tbody tr th:only-of-type {\n",
              "        vertical-align: middle;\n",
              "    }\n",
              "\n",
              "    .dataframe tbody tr th {\n",
              "        vertical-align: top;\n",
              "    }\n",
              "\n",
              "    .dataframe thead th {\n",
              "        text-align: right;\n",
              "    }\n",
              "</style>\n",
              "<table border=\"1\" class=\"dataframe\">\n",
              "  <thead>\n",
              "    <tr style=\"text-align: right;\">\n",
              "      <th></th>\n",
              "      <th>Open</th>\n",
              "      <th>High</th>\n",
              "      <th>Low</th>\n",
              "      <th>Close</th>\n",
              "      <th>Volume</th>\n",
              "      <th>Currency</th>\n",
              "    </tr>\n",
              "    <tr>\n",
              "      <th>Date</th>\n",
              "      <th></th>\n",
              "      <th></th>\n",
              "      <th></th>\n",
              "      <th></th>\n",
              "      <th></th>\n",
              "      <th></th>\n",
              "    </tr>\n",
              "  </thead>\n",
              "  <tbody>\n",
              "    <tr>\n",
              "      <th>2000-12-27</th>\n",
              "      <td>14804.50</td>\n",
              "      <td>15222.92</td>\n",
              "      <td>14804.50</td>\n",
              "      <td>15186.15</td>\n",
              "      <td>239975392</td>\n",
              "      <td>BRL</td>\n",
              "    </tr>\n",
              "    <tr>\n",
              "      <th>2000-12-28</th>\n",
              "      <td>15188.21</td>\n",
              "      <td>15269.30</td>\n",
              "      <td>15132.06</td>\n",
              "      <td>15259.29</td>\n",
              "      <td>324256128</td>\n",
              "      <td>BRL</td>\n",
              "    </tr>\n",
              "    <tr>\n",
              "      <th>2001-01-02</th>\n",
              "      <td>15242.11</td>\n",
              "      <td>15621.41</td>\n",
              "      <td>15173.61</td>\n",
              "      <td>15425.34</td>\n",
              "      <td>230631104</td>\n",
              "      <td>BRL</td>\n",
              "    </tr>\n",
              "    <tr>\n",
              "      <th>2001-01-03</th>\n",
              "      <td>15425.41</td>\n",
              "      <td>16599.42</td>\n",
              "      <td>15251.12</td>\n",
              "      <td>16599.42</td>\n",
              "      <td>381195200</td>\n",
              "      <td>BRL</td>\n",
              "    </tr>\n",
              "    <tr>\n",
              "      <th>2001-01-04</th>\n",
              "      <td>16596.78</td>\n",
              "      <td>16933.39</td>\n",
              "      <td>16586.85</td>\n",
              "      <td>16675.06</td>\n",
              "      <td>331230784</td>\n",
              "      <td>BRL</td>\n",
              "    </tr>\n",
              "    <tr>\n",
              "      <th>...</th>\n",
              "      <td>...</td>\n",
              "      <td>...</td>\n",
              "      <td>...</td>\n",
              "      <td>...</td>\n",
              "      <td>...</td>\n",
              "      <td>...</td>\n",
              "    </tr>\n",
              "    <tr>\n",
              "      <th>2020-10-05</th>\n",
              "      <td>94019.37</td>\n",
              "      <td>96414.17</td>\n",
              "      <td>93984.23</td>\n",
              "      <td>96089.19</td>\n",
              "      <td>8616003</td>\n",
              "      <td>BRL</td>\n",
              "    </tr>\n",
              "    <tr>\n",
              "      <th>2020-10-06</th>\n",
              "      <td>96091.15</td>\n",
              "      <td>97404.54</td>\n",
              "      <td>95211.05</td>\n",
              "      <td>95615.03</td>\n",
              "      <td>11299599</td>\n",
              "      <td>BRL</td>\n",
              "    </tr>\n",
              "    <tr>\n",
              "      <th>2020-10-07</th>\n",
              "      <td>95615.82</td>\n",
              "      <td>96379.57</td>\n",
              "      <td>94880.65</td>\n",
              "      <td>95526.26</td>\n",
              "      <td>9829860</td>\n",
              "      <td>BRL</td>\n",
              "    </tr>\n",
              "    <tr>\n",
              "      <th>2020-10-08</th>\n",
              "      <td>95529.57</td>\n",
              "      <td>97937.72</td>\n",
              "      <td>95529.57</td>\n",
              "      <td>97919.73</td>\n",
              "      <td>11163561</td>\n",
              "      <td>BRL</td>\n",
              "    </tr>\n",
              "    <tr>\n",
              "      <th>2020-10-09</th>\n",
              "      <td>97924.18</td>\n",
              "      <td>98641.91</td>\n",
              "      <td>97161.37</td>\n",
              "      <td>97483.31</td>\n",
              "      <td>10810473</td>\n",
              "      <td>BRL</td>\n",
              "    </tr>\n",
              "  </tbody>\n",
              "</table>\n",
              "<p>4929 rows × 6 columns</p>\n",
              "</div>"
            ],
            "text/plain": [
              "                Open      High       Low     Close     Volume Currency\n",
              "Date                                                                  \n",
              "2000-12-27  14804.50  15222.92  14804.50  15186.15  239975392      BRL\n",
              "2000-12-28  15188.21  15269.30  15132.06  15259.29  324256128      BRL\n",
              "2001-01-02  15242.11  15621.41  15173.61  15425.34  230631104      BRL\n",
              "2001-01-03  15425.41  16599.42  15251.12  16599.42  381195200      BRL\n",
              "2001-01-04  16596.78  16933.39  16586.85  16675.06  331230784      BRL\n",
              "...              ...       ...       ...       ...        ...      ...\n",
              "2020-10-05  94019.37  96414.17  93984.23  96089.19    8616003      BRL\n",
              "2020-10-06  96091.15  97404.54  95211.05  95615.03   11299599      BRL\n",
              "2020-10-07  95615.82  96379.57  94880.65  95526.26    9829860      BRL\n",
              "2020-10-08  95529.57  97937.72  95529.57  97919.73   11163561      BRL\n",
              "2020-10-09  97924.18  98641.91  97161.37  97483.31   10810473      BRL\n",
              "\n",
              "[4929 rows x 6 columns]"
            ]
          },
          "metadata": {
            "tags": []
          },
          "execution_count": 68
        }
      ]
    },
    {
      "cell_type": "markdown",
      "metadata": {
        "id": "xfss_W6RyZWX"
      },
      "source": [
        "###**investpy.indices.get_index_information** *( index , country , as_json = False )*\n",
        "\n"
      ]
    },
    {
      "cell_type": "code",
      "metadata": {
        "id": "fpALGaxD21Ld"
      },
      "source": [
        "!pip install investpy"
      ],
      "execution_count": null,
      "outputs": []
    },
    {
      "cell_type": "code",
      "metadata": {
        "id": "9HNz98Nu21bQ"
      },
      "source": [
        "import investpy"
      ],
      "execution_count": null,
      "outputs": []
    },
    {
      "cell_type": "code",
      "metadata": {
        "id": "3cuQtQcx20_f",
        "outputId": "c33c881f-0590-4437-83c5-6f8ea58faae4",
        "colab": {
          "base_uri": "https://localhost:8080/",
          "height": 80
        }
      },
      "source": [
        "index_information = investpy.indices.get_index_information ( index = \"Bovespa\" , country = \"brazil\" , as_json = False )\n",
        "index_information"
      ],
      "execution_count": null,
      "outputs": [
        {
          "output_type": "execute_result",
          "data": {
            "text/html": [
              "<div>\n",
              "<style scoped>\n",
              "    .dataframe tbody tr th:only-of-type {\n",
              "        vertical-align: middle;\n",
              "    }\n",
              "\n",
              "    .dataframe tbody tr th {\n",
              "        vertical-align: top;\n",
              "    }\n",
              "\n",
              "    .dataframe thead th {\n",
              "        text-align: right;\n",
              "    }\n",
              "</style>\n",
              "<table border=\"1\" class=\"dataframe\">\n",
              "  <thead>\n",
              "    <tr style=\"text-align: right;\">\n",
              "      <th></th>\n",
              "      <th>Index Name</th>\n",
              "      <th>Prev. Close</th>\n",
              "      <th>Volume</th>\n",
              "      <th>Todays Range</th>\n",
              "      <th>Open</th>\n",
              "      <th>Average Vol. (3m)</th>\n",
              "      <th>52 wk Range</th>\n",
              "      <th>1-Year Change</th>\n",
              "    </tr>\n",
              "  </thead>\n",
              "  <tbody>\n",
              "    <tr>\n",
              "      <th>0</th>\n",
              "      <td>Bovespa</td>\n",
              "      <td>99334.43</td>\n",
              "      <td>7569838.0</td>\n",
              "      <td>97,778.26 - 99,485.5</td>\n",
              "      <td>99328.02</td>\n",
              "      <td>9511027.0</td>\n",
              "      <td>61,690.53 - 119,593.1</td>\n",
              "      <td>- 4.93%</td>\n",
              "    </tr>\n",
              "  </tbody>\n",
              "</table>\n",
              "</div>"
            ],
            "text/plain": [
              "  Index Name  Prev. Close  ...            52 wk Range 1-Year Change\n",
              "0    Bovespa     99334.43  ...  61,690.53 - 119,593.1       - 4.93%\n",
              "\n",
              "[1 rows x 8 columns]"
            ]
          },
          "metadata": {
            "tags": []
          },
          "execution_count": 72
        }
      ]
    },
    {
      "cell_type": "markdown",
      "metadata": {
        "id": "eTPE5pzdykMg"
      },
      "source": [
        "###**investpy.indices.get_index_recent_data** *( index , country , as_json = False , order = 'ascending' , interval = 'Daily' )*"
      ]
    },
    {
      "cell_type": "code",
      "metadata": {
        "id": "04-9eJIV4U31"
      },
      "source": [
        "!pip install investpy"
      ],
      "execution_count": null,
      "outputs": []
    },
    {
      "cell_type": "code",
      "metadata": {
        "id": "K-qct3gw4VFr"
      },
      "source": [
        "import investpy"
      ],
      "execution_count": null,
      "outputs": []
    },
    {
      "cell_type": "code",
      "metadata": {
        "id": "D4HP_7qH4UqO"
      },
      "source": [
        "recent_df = investpy.indices.get_index_recent_data ( index = \"Bovespa\" , country = \"brazil\" , as_json = False , order = 'ascending' , interval = 'Daily' )\n",
        "recent_df"
      ],
      "execution_count": null,
      "outputs": []
    },
    {
      "cell_type": "markdown",
      "metadata": {
        "id": "1Z9w32iqylpI"
      },
      "source": [
        "###**investpy.indices.get_indices** *( country = None )*"
      ]
    },
    {
      "cell_type": "code",
      "metadata": {
        "id": "MmnnpkZbzkti"
      },
      "source": [
        "!pip install investpy"
      ],
      "execution_count": null,
      "outputs": []
    },
    {
      "cell_type": "code",
      "metadata": {
        "id": "NPsha4URzlBw"
      },
      "source": [
        "import investpy"
      ],
      "execution_count": null,
      "outputs": []
    },
    {
      "cell_type": "code",
      "metadata": {
        "id": "f1wLvjNJzkaw",
        "outputId": "d1fbcfb6-1482-47f1-da94-ebfa46fd5c74",
        "colab": {
          "base_uri": "https://localhost:8080/",
          "height": 1000
        }
      },
      "source": [
        "indices_df = investpy.indices.get_indices ( country = \"brazil\" )\n",
        "indices_df"
      ],
      "execution_count": null,
      "outputs": [
        {
          "output_type": "execute_result",
          "data": {
            "text/html": [
              "<div>\n",
              "<style scoped>\n",
              "    .dataframe tbody tr th:only-of-type {\n",
              "        vertical-align: middle;\n",
              "    }\n",
              "\n",
              "    .dataframe tbody tr th {\n",
              "        vertical-align: top;\n",
              "    }\n",
              "\n",
              "    .dataframe thead th {\n",
              "        text-align: right;\n",
              "    }\n",
              "</style>\n",
              "<table border=\"1\" class=\"dataframe\">\n",
              "  <thead>\n",
              "    <tr style=\"text-align: right;\">\n",
              "      <th></th>\n",
              "      <th>country</th>\n",
              "      <th>name</th>\n",
              "      <th>full_name</th>\n",
              "      <th>symbol</th>\n",
              "      <th>currency</th>\n",
              "      <th>class</th>\n",
              "      <th>market</th>\n",
              "    </tr>\n",
              "  </thead>\n",
              "  <tbody>\n",
              "    <tr>\n",
              "      <th>0</th>\n",
              "      <td>brazil</td>\n",
              "      <td>MSCI Brazil Net USD</td>\n",
              "      <td>MSCI Brazil Net USD</td>\n",
              "      <td>MIBR00000NUS</td>\n",
              "      <td>USD</td>\n",
              "      <td>major_indices</td>\n",
              "      <td>global_indices</td>\n",
              "    </tr>\n",
              "    <tr>\n",
              "      <th>1</th>\n",
              "      <td>brazil</td>\n",
              "      <td>DJ Brazil</td>\n",
              "      <td>Dow Jones Brazil</td>\n",
              "      <td>BRDOW</td>\n",
              "      <td>BRL</td>\n",
              "      <td>major_indices</td>\n",
              "      <td>global_indices</td>\n",
              "    </tr>\n",
              "    <tr>\n",
              "      <th>2</th>\n",
              "      <td>brazil</td>\n",
              "      <td>TR Brazil 50</td>\n",
              "      <td>Thomson Reuters Brazil 50</td>\n",
              "      <td>TRX50BRP</td>\n",
              "      <td>BRL</td>\n",
              "      <td>additional_indices</td>\n",
              "      <td>global_indices</td>\n",
              "    </tr>\n",
              "    <tr>\n",
              "      <th>3</th>\n",
              "      <td>brazil</td>\n",
              "      <td>MSCI Brazil Price USD</td>\n",
              "      <td>MSCI Brazil Price USD</td>\n",
              "      <td>MSCIBR</td>\n",
              "      <td>USD</td>\n",
              "      <td>additional_indices</td>\n",
              "      <td>global_indices</td>\n",
              "    </tr>\n",
              "    <tr>\n",
              "      <th>4</th>\n",
              "      <td>brazil</td>\n",
              "      <td>DJ Brazil Titans 20 ADR</td>\n",
              "      <td>Dow Jones Brazil Titans 20 ADR</td>\n",
              "      <td>BR20</td>\n",
              "      <td>USD</td>\n",
              "      <td>additional_indices</td>\n",
              "      <td>global_indices</td>\n",
              "    </tr>\n",
              "    <tr>\n",
              "      <th>5</th>\n",
              "      <td>brazil</td>\n",
              "      <td>BNY Mellon Brazil ADR</td>\n",
              "      <td>BNY Mellon Brazil ADR</td>\n",
              "      <td>BKBR</td>\n",
              "      <td>USD</td>\n",
              "      <td>additional_indices</td>\n",
              "      <td>global_indices</td>\n",
              "    </tr>\n",
              "    <tr>\n",
              "      <th>6</th>\n",
              "      <td>brazil</td>\n",
              "      <td>BNY Mellon Brazil ADR TR</td>\n",
              "      <td>BNY Mellon Brazil ADR Total Return</td>\n",
              "      <td>BKBRT</td>\n",
              "      <td>USD</td>\n",
              "      <td>additional_indices</td>\n",
              "      <td>global_indices</td>\n",
              "    </tr>\n",
              "    <tr>\n",
              "      <th>7</th>\n",
              "      <td>brazil</td>\n",
              "      <td>BNY Mellon Brazil Classic ADR</td>\n",
              "      <td>BNY Mellon Brazil Classic ADR</td>\n",
              "      <td>BKCBR</td>\n",
              "      <td>USD</td>\n",
              "      <td>additional_indices</td>\n",
              "      <td>global_indices</td>\n",
              "    </tr>\n",
              "    <tr>\n",
              "      <th>8</th>\n",
              "      <td>brazil</td>\n",
              "      <td>BNY Mellon Brazil Classic ADR TR</td>\n",
              "      <td>BNY Mellon Brazil Classic ADR Total Return</td>\n",
              "      <td>BKCBRT</td>\n",
              "      <td>USD</td>\n",
              "      <td>additional_indices</td>\n",
              "      <td>global_indices</td>\n",
              "    </tr>\n",
              "    <tr>\n",
              "      <th>9</th>\n",
              "      <td>brazil</td>\n",
              "      <td>FTSE RAFI Brazil 50</td>\n",
              "      <td>FTSE RAFI Brazil 50</td>\n",
              "      <td>FTFRBR5</td>\n",
              "      <td>BRL</td>\n",
              "      <td>additional_indices</td>\n",
              "      <td>global_indices</td>\n",
              "    </tr>\n",
              "    <tr>\n",
              "      <th>10</th>\n",
              "      <td>brazil</td>\n",
              "      <td>MSCI Brazil 10 40</td>\n",
              "      <td>MSCI Brazil 10 40</td>\n",
              "      <td>MIBR00005PUS</td>\n",
              "      <td>USD</td>\n",
              "      <td>other_indices</td>\n",
              "      <td>global_indices</td>\n",
              "    </tr>\n",
              "    <tr>\n",
              "      <th>11</th>\n",
              "      <td>brazil</td>\n",
              "      <td>DJ BRIC Brazil 15 Capped NTR</td>\n",
              "      <td>DJ BRIC Brazil 15 Capped NTR</td>\n",
              "      <td>B15BDRCN</td>\n",
              "      <td>USD</td>\n",
              "      <td>other_indices</td>\n",
              "      <td>global_indices</td>\n",
              "    </tr>\n",
              "    <tr>\n",
              "      <th>12</th>\n",
              "      <td>brazil</td>\n",
              "      <td>DJ BRIC Brazil 15 USD</td>\n",
              "      <td>Dow Jones BRIC Brazil 15 USD</td>\n",
              "      <td>B50BRD</td>\n",
              "      <td>USD</td>\n",
              "      <td>other_indices</td>\n",
              "      <td>global_indices</td>\n",
              "    </tr>\n",
              "    <tr>\n",
              "      <th>13</th>\n",
              "      <td>brazil</td>\n",
              "      <td>DJ BRIC Brazil 15 EUR</td>\n",
              "      <td>Dow Jones BRIC Brazil 15 EUR</td>\n",
              "      <td>B50BRE</td>\n",
              "      <td>EUR</td>\n",
              "      <td>other_indices</td>\n",
              "      <td>global_indices</td>\n",
              "    </tr>\n",
              "    <tr>\n",
              "      <th>14</th>\n",
              "      <td>brazil</td>\n",
              "      <td>FTSE Brazil Infrastructure Extended</td>\n",
              "      <td>FTSE Brazil Infrastructure Extended</td>\n",
              "      <td>FTFTBRXX</td>\n",
              "      <td>USD</td>\n",
              "      <td>other_indices</td>\n",
              "      <td>global_indices</td>\n",
              "    </tr>\n",
              "    <tr>\n",
              "      <th>15</th>\n",
              "      <td>brazil</td>\n",
              "      <td>MSCI Brazil Gross</td>\n",
              "      <td>MSCI International Brazil Gross Real time</td>\n",
              "      <td>MIBR00000GUS</td>\n",
              "      <td>USD</td>\n",
              "      <td>other_indices</td>\n",
              "      <td>global_indices</td>\n",
              "    </tr>\n",
              "    <tr>\n",
              "      <th>16</th>\n",
              "      <td>brazil</td>\n",
              "      <td>DJ Brazil Titans 20 ADR TR</td>\n",
              "      <td>DJ Brazil Titans 20 ADR TR</td>\n",
              "      <td>BR20T</td>\n",
              "      <td>USD</td>\n",
              "      <td>other_indices</td>\n",
              "      <td>global_indices</td>\n",
              "    </tr>\n",
              "    <tr>\n",
              "      <th>17</th>\n",
              "      <td>brazil</td>\n",
              "      <td>MSCI Brazil 25-50 Price</td>\n",
              "      <td>MSCI Brazil 25-50 Price</td>\n",
              "      <td>MIBR00002PUS</td>\n",
              "      <td>USD</td>\n",
              "      <td>other_indices</td>\n",
              "      <td>global_indices</td>\n",
              "    </tr>\n",
              "    <tr>\n",
              "      <th>18</th>\n",
              "      <td>brazil</td>\n",
              "      <td>MSCI Brazil 20-50 Gross Return</td>\n",
              "      <td>MSCI Brazil 20-50 Gross Return</td>\n",
              "      <td>MIBR00002GUS</td>\n",
              "      <td>USD</td>\n",
              "      <td>other_indices</td>\n",
              "      <td>global_indices</td>\n",
              "    </tr>\n",
              "    <tr>\n",
              "      <th>19</th>\n",
              "      <td>brazil</td>\n",
              "      <td>MSCI Brazil 25-50 Net Return</td>\n",
              "      <td>MSCI Brazil 25-50 Net Return</td>\n",
              "      <td>MIBR00002NUS</td>\n",
              "      <td>USD</td>\n",
              "      <td>other_indices</td>\n",
              "      <td>global_indices</td>\n",
              "    </tr>\n",
              "    <tr>\n",
              "      <th>20</th>\n",
              "      <td>brazil</td>\n",
              "      <td>FTSE Brazil Infrastructure Extended USD PR</td>\n",
              "      <td>FTSE Brazil Infrastructure Extended USD PR</td>\n",
              "      <td>FTFTBRXXU</td>\n",
              "      <td>USD</td>\n",
              "      <td>other_indices</td>\n",
              "      <td>global_indices</td>\n",
              "    </tr>\n",
              "    <tr>\n",
              "      <th>21</th>\n",
              "      <td>brazil</td>\n",
              "      <td>FTSE Brazil Infrastructure Extended Total Return</td>\n",
              "      <td>FTSE Brazil Infrastructure Extended Total Return</td>\n",
              "      <td>TRIFTBRXX</td>\n",
              "      <td>USD</td>\n",
              "      <td>other_indices</td>\n",
              "      <td>global_indices</td>\n",
              "    </tr>\n",
              "    <tr>\n",
              "      <th>22</th>\n",
              "      <td>brazil</td>\n",
              "      <td>FTSE Brazil Infrastructure Extended Net Tax Total</td>\n",
              "      <td>FTSE Brazil Infrastructure Extended Net Tax To...</td>\n",
              "      <td>TRIFTBRXXN</td>\n",
              "      <td>USD</td>\n",
              "      <td>other_indices</td>\n",
              "      <td>global_indices</td>\n",
              "    </tr>\n",
              "    <tr>\n",
              "      <th>23</th>\n",
              "      <td>brazil</td>\n",
              "      <td>FTSE Brazil Infrastructure Extended Net Tax US...</td>\n",
              "      <td>FTSE Brazil Infrastructure Extended Net Tax US...</td>\n",
              "      <td>TFTFTBRXXNU</td>\n",
              "      <td>USD</td>\n",
              "      <td>other_indices</td>\n",
              "      <td>global_indices</td>\n",
              "    </tr>\n",
              "    <tr>\n",
              "      <th>24</th>\n",
              "      <td>brazil</td>\n",
              "      <td>DJ BRIC Brazil 15 DR</td>\n",
              "      <td>Dow Jones BRIC Brazil 15 DR</td>\n",
              "      <td>B15BDRD</td>\n",
              "      <td>USD</td>\n",
              "      <td>other_indices</td>\n",
              "      <td>global_indices</td>\n",
              "    </tr>\n",
              "    <tr>\n",
              "      <th>25</th>\n",
              "      <td>brazil</td>\n",
              "      <td>MSCI Brazil</td>\n",
              "      <td>MSCI Brazil</td>\n",
              "      <td>MIBR00000PUS</td>\n",
              "      <td>USD</td>\n",
              "      <td>major_indices</td>\n",
              "      <td>global_indices</td>\n",
              "    </tr>\n",
              "    <tr>\n",
              "      <th>26</th>\n",
              "      <td>brazil</td>\n",
              "      <td>BM&amp;FBOVESPA Unsponsored BDRX</td>\n",
              "      <td>BM&amp;FBOVESPA Unsponsored BDRX</td>\n",
              "      <td>BDRX</td>\n",
              "      <td>BRL</td>\n",
              "      <td>other_indices</td>\n",
              "      <td>world_indices</td>\n",
              "    </tr>\n",
              "    <tr>\n",
              "      <th>27</th>\n",
              "      <td>brazil</td>\n",
              "      <td>Small Cap Index</td>\n",
              "      <td>Small Cap Index</td>\n",
              "      <td>SMLL</td>\n",
              "      <td>BRL</td>\n",
              "      <td>additional_indices</td>\n",
              "      <td>world_indices</td>\n",
              "    </tr>\n",
              "    <tr>\n",
              "      <th>28</th>\n",
              "      <td>brazil</td>\n",
              "      <td>Tag Along</td>\n",
              "      <td>Bovespa Tag Along</td>\n",
              "      <td>ITAG</td>\n",
              "      <td>BRL</td>\n",
              "      <td>additional_indices</td>\n",
              "      <td>world_indices</td>\n",
              "    </tr>\n",
              "    <tr>\n",
              "      <th>29</th>\n",
              "      <td>brazil</td>\n",
              "      <td>Brazil broad-Based</td>\n",
              "      <td>Brazil broad-Based</td>\n",
              "      <td>IBRA</td>\n",
              "      <td>BRL</td>\n",
              "      <td>additional_indices</td>\n",
              "      <td>world_indices</td>\n",
              "    </tr>\n",
              "    <tr>\n",
              "      <th>30</th>\n",
              "      <td>brazil</td>\n",
              "      <td>Brazil Index</td>\n",
              "      <td>Brazil Index</td>\n",
              "      <td>IBRX</td>\n",
              "      <td>BRL</td>\n",
              "      <td>additional_indices</td>\n",
              "      <td>world_indices</td>\n",
              "    </tr>\n",
              "    <tr>\n",
              "      <th>31</th>\n",
              "      <td>brazil</td>\n",
              "      <td>Mid-Large Cap Index</td>\n",
              "      <td>Mid-Large Cap Index</td>\n",
              "      <td>MLCX</td>\n",
              "      <td>BRL</td>\n",
              "      <td>additional_indices</td>\n",
              "      <td>world_indices</td>\n",
              "    </tr>\n",
              "    <tr>\n",
              "      <th>32</th>\n",
              "      <td>brazil</td>\n",
              "      <td>Public Utilities</td>\n",
              "      <td>Public Utilities</td>\n",
              "      <td>UTIL</td>\n",
              "      <td>BRL</td>\n",
              "      <td>primary_sectors</td>\n",
              "      <td>world_indices</td>\n",
              "    </tr>\n",
              "    <tr>\n",
              "      <th>33</th>\n",
              "      <td>brazil</td>\n",
              "      <td>BM&amp;FBOVESPA Real Estate IFIX</td>\n",
              "      <td>BM&amp;FBOVESPA Real Estate IFIX</td>\n",
              "      <td>IFIX</td>\n",
              "      <td>BRL</td>\n",
              "      <td>other_indices</td>\n",
              "      <td>world_indices</td>\n",
              "    </tr>\n",
              "    <tr>\n",
              "      <th>34</th>\n",
              "      <td>brazil</td>\n",
              "      <td>Financials</td>\n",
              "      <td>Financials</td>\n",
              "      <td>IFNC</td>\n",
              "      <td>BRL</td>\n",
              "      <td>primary_sectors</td>\n",
              "      <td>world_indices</td>\n",
              "    </tr>\n",
              "    <tr>\n",
              "      <th>35</th>\n",
              "      <td>brazil</td>\n",
              "      <td>Carbon Efficient</td>\n",
              "      <td>Carbon Efficient</td>\n",
              "      <td>ICO2</td>\n",
              "      <td>BRL</td>\n",
              "      <td>other_indices</td>\n",
              "      <td>world_indices</td>\n",
              "    </tr>\n",
              "    <tr>\n",
              "      <th>36</th>\n",
              "      <td>brazil</td>\n",
              "      <td>Corporate Governance IGCNM</td>\n",
              "      <td>Corporate Governance IGCNM</td>\n",
              "      <td>IGCNM</td>\n",
              "      <td>BRL</td>\n",
              "      <td>other_indices</td>\n",
              "      <td>world_indices</td>\n",
              "    </tr>\n",
              "    <tr>\n",
              "      <th>37</th>\n",
              "      <td>brazil</td>\n",
              "      <td>Bovespa Dividend</td>\n",
              "      <td>Bovespa Dividend</td>\n",
              "      <td>DIVI</td>\n",
              "      <td>BRL</td>\n",
              "      <td>other_indices</td>\n",
              "      <td>world_indices</td>\n",
              "    </tr>\n",
              "    <tr>\n",
              "      <th>38</th>\n",
              "      <td>brazil</td>\n",
              "      <td>Brazil 50</td>\n",
              "      <td>Bovespa Brazil 50</td>\n",
              "      <td>IBX50</td>\n",
              "      <td>BRL</td>\n",
              "      <td>additional_indices</td>\n",
              "      <td>world_indices</td>\n",
              "    </tr>\n",
              "    <tr>\n",
              "      <th>39</th>\n",
              "      <td>brazil</td>\n",
              "      <td>Corporate Gov Trade</td>\n",
              "      <td>Corporate Gov Trade</td>\n",
              "      <td>IGCT</td>\n",
              "      <td>BRL</td>\n",
              "      <td>other_indices</td>\n",
              "      <td>world_indices</td>\n",
              "    </tr>\n",
              "    <tr>\n",
              "      <th>40</th>\n",
              "      <td>brazil</td>\n",
              "      <td>FTSE Brazil</td>\n",
              "      <td>FTSE Brazil</td>\n",
              "      <td>FTWIBRAL</td>\n",
              "      <td>BRL</td>\n",
              "      <td>other_indices</td>\n",
              "      <td>world_indices</td>\n",
              "    </tr>\n",
              "    <tr>\n",
              "      <th>41</th>\n",
              "      <td>brazil</td>\n",
              "      <td>Ibovespa EUR</td>\n",
              "      <td>Ibovespa EUR</td>\n",
              "      <td>BVSPEUR</td>\n",
              "      <td>BRL</td>\n",
              "      <td>other_indices</td>\n",
              "      <td>world_indices</td>\n",
              "    </tr>\n",
              "    <tr>\n",
              "      <th>42</th>\n",
              "      <td>brazil</td>\n",
              "      <td>Ibovespa USD</td>\n",
              "      <td>Ibovespa USD</td>\n",
              "      <td>BVSPUSD</td>\n",
              "      <td>BRL</td>\n",
              "      <td>other_indices</td>\n",
              "      <td>world_indices</td>\n",
              "    </tr>\n",
              "    <tr>\n",
              "      <th>43</th>\n",
              "      <td>brazil</td>\n",
              "      <td>IVBX</td>\n",
              "      <td>IVBX</td>\n",
              "      <td>IVBX</td>\n",
              "      <td>BRL</td>\n",
              "      <td>other_indices</td>\n",
              "      <td>world_indices</td>\n",
              "    </tr>\n",
              "    <tr>\n",
              "      <th>44</th>\n",
              "      <td>brazil</td>\n",
              "      <td>IGCX</td>\n",
              "      <td>Sao Paulo SE IGCX</td>\n",
              "      <td>IGCX</td>\n",
              "      <td>BRL</td>\n",
              "      <td>other_indices</td>\n",
              "      <td>world_indices</td>\n",
              "    </tr>\n",
              "    <tr>\n",
              "      <th>45</th>\n",
              "      <td>brazil</td>\n",
              "      <td>Consumption</td>\n",
              "      <td>Consumption</td>\n",
              "      <td>ICON</td>\n",
              "      <td>BRL</td>\n",
              "      <td>primary_sectors</td>\n",
              "      <td>world_indices</td>\n",
              "    </tr>\n",
              "    <tr>\n",
              "      <th>46</th>\n",
              "      <td>brazil</td>\n",
              "      <td>Industrial Sector</td>\n",
              "      <td>Bovespa Industrial Sector</td>\n",
              "      <td>INDX</td>\n",
              "      <td>BRL</td>\n",
              "      <td>primary_sectors</td>\n",
              "      <td>world_indices</td>\n",
              "    </tr>\n",
              "    <tr>\n",
              "      <th>47</th>\n",
              "      <td>brazil</td>\n",
              "      <td>Electrical Energy</td>\n",
              "      <td>Bovespa Electrical Energy</td>\n",
              "      <td>IEE</td>\n",
              "      <td>BRL</td>\n",
              "      <td>primary_sectors</td>\n",
              "      <td>world_indices</td>\n",
              "    </tr>\n",
              "    <tr>\n",
              "      <th>48</th>\n",
              "      <td>brazil</td>\n",
              "      <td>Basic Materials</td>\n",
              "      <td>Basic Materials</td>\n",
              "      <td>IMAT</td>\n",
              "      <td>BRL</td>\n",
              "      <td>primary_sectors</td>\n",
              "      <td>world_indices</td>\n",
              "    </tr>\n",
              "    <tr>\n",
              "      <th>49</th>\n",
              "      <td>brazil</td>\n",
              "      <td>Bovespa</td>\n",
              "      <td>Bovespa</td>\n",
              "      <td>BVSP</td>\n",
              "      <td>BRL</td>\n",
              "      <td>major_indices</td>\n",
              "      <td>world_indices</td>\n",
              "    </tr>\n",
              "    <tr>\n",
              "      <th>50</th>\n",
              "      <td>brazil</td>\n",
              "      <td>Corporate Sustainability</td>\n",
              "      <td>Corporate Sustainability</td>\n",
              "      <td>ISE</td>\n",
              "      <td>BRL</td>\n",
              "      <td>other_indices</td>\n",
              "      <td>world_indices</td>\n",
              "    </tr>\n",
              "    <tr>\n",
              "      <th>51</th>\n",
              "      <td>brazil</td>\n",
              "      <td>Real Estate</td>\n",
              "      <td>Real Estate</td>\n",
              "      <td>IMOB</td>\n",
              "      <td>BRL</td>\n",
              "      <td>primary_sectors</td>\n",
              "      <td>world_indices</td>\n",
              "    </tr>\n",
              "  </tbody>\n",
              "</table>\n",
              "</div>"
            ],
            "text/plain": [
              "   country  ...          market\n",
              "0   brazil  ...  global_indices\n",
              "1   brazil  ...  global_indices\n",
              "2   brazil  ...  global_indices\n",
              "3   brazil  ...  global_indices\n",
              "4   brazil  ...  global_indices\n",
              "5   brazil  ...  global_indices\n",
              "6   brazil  ...  global_indices\n",
              "7   brazil  ...  global_indices\n",
              "8   brazil  ...  global_indices\n",
              "9   brazil  ...  global_indices\n",
              "10  brazil  ...  global_indices\n",
              "11  brazil  ...  global_indices\n",
              "12  brazil  ...  global_indices\n",
              "13  brazil  ...  global_indices\n",
              "14  brazil  ...  global_indices\n",
              "15  brazil  ...  global_indices\n",
              "16  brazil  ...  global_indices\n",
              "17  brazil  ...  global_indices\n",
              "18  brazil  ...  global_indices\n",
              "19  brazil  ...  global_indices\n",
              "20  brazil  ...  global_indices\n",
              "21  brazil  ...  global_indices\n",
              "22  brazil  ...  global_indices\n",
              "23  brazil  ...  global_indices\n",
              "24  brazil  ...  global_indices\n",
              "25  brazil  ...  global_indices\n",
              "26  brazil  ...   world_indices\n",
              "27  brazil  ...   world_indices\n",
              "28  brazil  ...   world_indices\n",
              "29  brazil  ...   world_indices\n",
              "30  brazil  ...   world_indices\n",
              "31  brazil  ...   world_indices\n",
              "32  brazil  ...   world_indices\n",
              "33  brazil  ...   world_indices\n",
              "34  brazil  ...   world_indices\n",
              "35  brazil  ...   world_indices\n",
              "36  brazil  ...   world_indices\n",
              "37  brazil  ...   world_indices\n",
              "38  brazil  ...   world_indices\n",
              "39  brazil  ...   world_indices\n",
              "40  brazil  ...   world_indices\n",
              "41  brazil  ...   world_indices\n",
              "42  brazil  ...   world_indices\n",
              "43  brazil  ...   world_indices\n",
              "44  brazil  ...   world_indices\n",
              "45  brazil  ...   world_indices\n",
              "46  brazil  ...   world_indices\n",
              "47  brazil  ...   world_indices\n",
              "48  brazil  ...   world_indices\n",
              "49  brazil  ...   world_indices\n",
              "50  brazil  ...   world_indices\n",
              "51  brazil  ...   world_indices\n",
              "\n",
              "[52 rows x 7 columns]"
            ]
          },
          "metadata": {
            "tags": []
          },
          "execution_count": 64
        }
      ]
    },
    {
      "cell_type": "code",
      "metadata": {
        "id": "8lVnZ0kR0CHs",
        "outputId": "5f8bde4b-6635-43f3-f96c-a83295997a37",
        "colab": {
          "base_uri": "https://localhost:8080/",
          "height": 34
        }
      },
      "source": [
        "len(indices_df)"
      ],
      "execution_count": null,
      "outputs": [
        {
          "output_type": "execute_result",
          "data": {
            "text/plain": [
              "52"
            ]
          },
          "metadata": {
            "tags": []
          },
          "execution_count": 65
        }
      ]
    },
    {
      "cell_type": "markdown",
      "metadata": {
        "id": "XqvFn_QuyxnD"
      },
      "source": [
        "###**investpy.indices.get_indices_dict** *( country = None , columns = None , as_json = False )*"
      ]
    },
    {
      "cell_type": "code",
      "metadata": {
        "id": "2z0Te-KO5dWO"
      },
      "source": [
        "!pip install investpy"
      ],
      "execution_count": null,
      "outputs": []
    },
    {
      "cell_type": "code",
      "metadata": {
        "id": "rlC5qXhD5dem"
      },
      "source": [
        "import investpy"
      ],
      "execution_count": null,
      "outputs": []
    },
    {
      "cell_type": "code",
      "metadata": {
        "id": "vw8jEn9A5dMh"
      },
      "source": [
        "indices_dict = investpy.indices.get_indices_dict ( country = \"brazil\" , columns = None , as_json = False )\n",
        "indices_dict"
      ],
      "execution_count": null,
      "outputs": []
    },
    {
      "cell_type": "markdown",
      "metadata": {
        "id": "7o2JVp38y22o"
      },
      "source": [
        "###**investpy.indices.get_indices_list** *( country = None )*"
      ]
    },
    {
      "cell_type": "code",
      "metadata": {
        "id": "Tzy2-MNE6AEA"
      },
      "source": [
        "!pip install investpy"
      ],
      "execution_count": null,
      "outputs": []
    },
    {
      "cell_type": "code",
      "metadata": {
        "id": "F7y9u9dz6ATu"
      },
      "source": [
        "import investpy"
      ],
      "execution_count": null,
      "outputs": []
    },
    {
      "cell_type": "code",
      "metadata": {
        "id": "t99x0XOV5_52"
      },
      "source": [
        "indices_list = investpy.indices.get_indices_list ( country = \"brazil\" )\n",
        "indices_list"
      ],
      "execution_count": null,
      "outputs": []
    },
    {
      "cell_type": "markdown",
      "metadata": {
        "id": "gi392BCny7Hc"
      },
      "source": [
        "###**investpy.indices.get_indices_overview** *( country , as_json = False , n_results = 100 )*"
      ]
    },
    {
      "cell_type": "code",
      "metadata": {
        "id": "5CtZ0V3a6Vav"
      },
      "source": [
        "!pip install investpy"
      ],
      "execution_count": null,
      "outputs": []
    },
    {
      "cell_type": "code",
      "metadata": {
        "id": "MYZ_mmRN6VqZ"
      },
      "source": [
        "import investpy"
      ],
      "execution_count": null,
      "outputs": []
    },
    {
      "cell_type": "code",
      "metadata": {
        "id": "ZQx6FhUH6VP1"
      },
      "source": [
        "indices_overview = investpy.indices.get_indices_overview ( country = \"brazil\" , as_json = False , n_results = 100 )\n",
        "indices_overview"
      ],
      "execution_count": null,
      "outputs": []
    },
    {
      "cell_type": "markdown",
      "metadata": {
        "id": "AHy2MLpty_m1"
      },
      "source": [
        "###**investpy.indices.search_indices** *( by , value )*"
      ]
    },
    {
      "cell_type": "code",
      "metadata": {
        "id": "PImBmF4C7B6W"
      },
      "source": [
        "!pip install investpy"
      ],
      "execution_count": null,
      "outputs": []
    },
    {
      "cell_type": "code",
      "metadata": {
        "id": "_fuibagw7CGA"
      },
      "source": [
        "import investpy"
      ],
      "execution_count": null,
      "outputs": []
    },
    {
      "cell_type": "code",
      "metadata": {
        "id": "bJtkNH5Z7Bwc",
        "outputId": "2b25a762-8c3b-4965-da0d-668eac78cbbe",
        "colab": {
          "base_uri": "https://localhost:8080/",
          "height": 142
        }
      },
      "source": [
        "search_result = investpy.indices.search_indices ( by = \"symbol\" , value = \"BVSP\" )\n",
        "search_result"
      ],
      "execution_count": null,
      "outputs": [
        {
          "output_type": "execute_result",
          "data": {
            "text/html": [
              "<div>\n",
              "<style scoped>\n",
              "    .dataframe tbody tr th:only-of-type {\n",
              "        vertical-align: middle;\n",
              "    }\n",
              "\n",
              "    .dataframe tbody tr th {\n",
              "        vertical-align: top;\n",
              "    }\n",
              "\n",
              "    .dataframe thead th {\n",
              "        text-align: right;\n",
              "    }\n",
              "</style>\n",
              "<table border=\"1\" class=\"dataframe\">\n",
              "  <thead>\n",
              "    <tr style=\"text-align: right;\">\n",
              "      <th></th>\n",
              "      <th>country</th>\n",
              "      <th>name</th>\n",
              "      <th>full_name</th>\n",
              "      <th>symbol</th>\n",
              "      <th>currency</th>\n",
              "      <th>class</th>\n",
              "      <th>market</th>\n",
              "    </tr>\n",
              "  </thead>\n",
              "  <tbody>\n",
              "    <tr>\n",
              "      <th>0</th>\n",
              "      <td>brazil</td>\n",
              "      <td>Ibovespa EUR</td>\n",
              "      <td>Ibovespa EUR</td>\n",
              "      <td>BVSPEUR</td>\n",
              "      <td>BRL</td>\n",
              "      <td>other_indices</td>\n",
              "      <td>world_indices</td>\n",
              "    </tr>\n",
              "    <tr>\n",
              "      <th>1</th>\n",
              "      <td>brazil</td>\n",
              "      <td>Ibovespa USD</td>\n",
              "      <td>Ibovespa USD</td>\n",
              "      <td>BVSPUSD</td>\n",
              "      <td>BRL</td>\n",
              "      <td>other_indices</td>\n",
              "      <td>world_indices</td>\n",
              "    </tr>\n",
              "    <tr>\n",
              "      <th>2</th>\n",
              "      <td>brazil</td>\n",
              "      <td>Bovespa</td>\n",
              "      <td>Bovespa</td>\n",
              "      <td>BVSP</td>\n",
              "      <td>BRL</td>\n",
              "      <td>major_indices</td>\n",
              "      <td>world_indices</td>\n",
              "    </tr>\n",
              "  </tbody>\n",
              "</table>\n",
              "</div>"
            ],
            "text/plain": [
              "  country          name     full_name  ... currency          class         market\n",
              "0  brazil  Ibovespa EUR  Ibovespa EUR  ...      BRL  other_indices  world_indices\n",
              "1  brazil  Ibovespa USD  Ibovespa USD  ...      BRL  other_indices  world_indices\n",
              "2  brazil       Bovespa       Bovespa  ...      BRL  major_indices  world_indices\n",
              "\n",
              "[3 rows x 7 columns]"
            ]
          },
          "metadata": {
            "tags": []
          },
          "execution_count": 81
        }
      ]
    },
    {
      "cell_type": "markdown",
      "metadata": {
        "id": "Q2I3-z4R4my2"
      },
      "source": [
        "## **investpy.currency_crosses**\n",
        "\n",
        "`investpy.currency_crosses`\n",
        "\n",
        "---"
      ]
    },
    {
      "cell_type": "markdown",
      "metadata": {
        "id": "aTl4pCpX4wg5"
      },
      "source": [
        "## **investpy.bonds**\n",
        "\n",
        "`investpy.bonds`\n",
        "\n",
        "---"
      ]
    },
    {
      "cell_type": "markdown",
      "metadata": {
        "id": "k4WHeenL42Gn"
      },
      "source": [
        "## **investpy.commodities**\n",
        "\n",
        "`investpy.commodities`\n",
        "\n",
        "---"
      ]
    },
    {
      "cell_type": "markdown",
      "metadata": {
        "id": "WCft2RKM49Hg"
      },
      "source": [
        "## **investpy.certificates**\n",
        "\n",
        "`investpy.certificates`\n",
        "\n",
        "---"
      ]
    },
    {
      "cell_type": "markdown",
      "metadata": {
        "id": "Tzr_W_cA5DEI"
      },
      "source": [
        "## **investpy.crypto**\n",
        "\n",
        "`investpy.crypto`\n",
        "\n",
        "---"
      ]
    },
    {
      "cell_type": "markdown",
      "metadata": {
        "id": "xeRi_I035KTr"
      },
      "source": [
        "## **investpy.news**\n",
        "\n",
        "`investpy.news`\n",
        "\n",
        "---\n",
        "\n",
        "###**investpy.news.economic_calendar** *(time_zone=None, time_filter='time_only', countries=None, importances=None, categories=None, from_date=None, to_date=None)*"
      ]
    },
    {
      "cell_type": "code",
      "metadata": {
        "id": "Vs0W6pbAuzAP"
      },
      "source": [
        "!pip install investpy"
      ],
      "execution_count": null,
      "outputs": []
    },
    {
      "cell_type": "code",
      "metadata": {
        "id": "Xh9QO3S0uzRu"
      },
      "source": [
        "import investpy"
      ],
      "execution_count": null,
      "outputs": []
    },
    {
      "cell_type": "code",
      "metadata": {
        "id": "8rayKJSQuyqm",
        "outputId": "a829eaed-835d-41fb-e58a-477b8a8f7d49",
        "colab": {
          "base_uri": "https://localhost:8080/",
          "height": 419
        }
      },
      "source": [
        "economic_calendar = investpy.news.economic_calendar (time_zone=None, time_filter='time_only', countries=None, importances=None, categories=None, from_date=None, to_date=None)\n",
        "economic_calendar"
      ],
      "execution_count": null,
      "outputs": [
        {
          "output_type": "execute_result",
          "data": {
            "text/html": [
              "<div>\n",
              "<style scoped>\n",
              "    .dataframe tbody tr th:only-of-type {\n",
              "        vertical-align: middle;\n",
              "    }\n",
              "\n",
              "    .dataframe tbody tr th {\n",
              "        vertical-align: top;\n",
              "    }\n",
              "\n",
              "    .dataframe thead th {\n",
              "        text-align: right;\n",
              "    }\n",
              "</style>\n",
              "<table border=\"1\" class=\"dataframe\">\n",
              "  <thead>\n",
              "    <tr style=\"text-align: right;\">\n",
              "      <th></th>\n",
              "      <th>id</th>\n",
              "      <th>date</th>\n",
              "      <th>time</th>\n",
              "      <th>zone</th>\n",
              "      <th>currency</th>\n",
              "      <th>importance</th>\n",
              "      <th>event</th>\n",
              "      <th>actual</th>\n",
              "      <th>forecast</th>\n",
              "      <th>previous</th>\n",
              "    </tr>\n",
              "  </thead>\n",
              "  <tbody>\n",
              "    <tr>\n",
              "      <th>0</th>\n",
              "      <td>415920</td>\n",
              "      <td>16/10/2020</td>\n",
              "      <td>00:01</td>\n",
              "      <td>ireland</td>\n",
              "      <td>EUR</td>\n",
              "      <td>low</td>\n",
              "      <td>Irish Consumer Confidence  (Oct)</td>\n",
              "      <td>None</td>\n",
              "      <td>None</td>\n",
              "      <td>60.7</td>\n",
              "    </tr>\n",
              "    <tr>\n",
              "      <th>1</th>\n",
              "      <td>415450</td>\n",
              "      <td>16/10/2020</td>\n",
              "      <td>00:30</td>\n",
              "      <td>singapore</td>\n",
              "      <td>SGD</td>\n",
              "      <td>low</td>\n",
              "      <td>Non-Oil Exports (YoY)  (Sep)</td>\n",
              "      <td>None</td>\n",
              "      <td>10.80%</td>\n",
              "      <td>7.70%</td>\n",
              "    </tr>\n",
              "    <tr>\n",
              "      <th>2</th>\n",
              "      <td>414908</td>\n",
              "      <td>16/10/2020</td>\n",
              "      <td>00:30</td>\n",
              "      <td>singapore</td>\n",
              "      <td>SGD</td>\n",
              "      <td>low</td>\n",
              "      <td>Non-Oil Exports (MoM)  (Sep)</td>\n",
              "      <td>None</td>\n",
              "      <td>-3.00%</td>\n",
              "      <td>10.50%</td>\n",
              "    </tr>\n",
              "    <tr>\n",
              "      <th>3</th>\n",
              "      <td>414911</td>\n",
              "      <td>16/10/2020</td>\n",
              "      <td>00:30</td>\n",
              "      <td>singapore</td>\n",
              "      <td>SGD</td>\n",
              "      <td>low</td>\n",
              "      <td>Trade Balance</td>\n",
              "      <td>None</td>\n",
              "      <td>None</td>\n",
              "      <td>5.800B</td>\n",
              "    </tr>\n",
              "    <tr>\n",
              "      <th>4</th>\n",
              "      <td>415452</td>\n",
              "      <td>16/10/2020</td>\n",
              "      <td>02:00</td>\n",
              "      <td>japan</td>\n",
              "      <td>JPY</td>\n",
              "      <td>low</td>\n",
              "      <td>Thomson Reuters IPSOS PCSI  (Oct)</td>\n",
              "      <td>None</td>\n",
              "      <td>None</td>\n",
              "      <td>36.72</td>\n",
              "    </tr>\n",
              "    <tr>\n",
              "      <th>...</th>\n",
              "      <td>...</td>\n",
              "      <td>...</td>\n",
              "      <td>...</td>\n",
              "      <td>...</td>\n",
              "      <td>...</td>\n",
              "      <td>...</td>\n",
              "      <td>...</td>\n",
              "      <td>...</td>\n",
              "      <td>...</td>\n",
              "      <td>...</td>\n",
              "    </tr>\n",
              "    <tr>\n",
              "      <th>91</th>\n",
              "      <td>416789</td>\n",
              "      <td>16/10/2020</td>\n",
              "      <td>19:30</td>\n",
              "      <td>euro zone</td>\n",
              "      <td>EUR</td>\n",
              "      <td>medium</td>\n",
              "      <td>CFTC EUR speculative net positions</td>\n",
              "      <td>None</td>\n",
              "      <td>None</td>\n",
              "      <td>174.3K</td>\n",
              "    </tr>\n",
              "    <tr>\n",
              "      <th>92</th>\n",
              "      <td>414888</td>\n",
              "      <td>16/10/2020</td>\n",
              "      <td>20:00</td>\n",
              "      <td>united states</td>\n",
              "      <td>USD</td>\n",
              "      <td>low</td>\n",
              "      <td>US Foreign Buying, T-bonds  (Aug)</td>\n",
              "      <td>None</td>\n",
              "      <td>None</td>\n",
              "      <td>-22.80B</td>\n",
              "    </tr>\n",
              "    <tr>\n",
              "      <th>93</th>\n",
              "      <td>414889</td>\n",
              "      <td>16/10/2020</td>\n",
              "      <td>20:00</td>\n",
              "      <td>united states</td>\n",
              "      <td>USD</td>\n",
              "      <td>low</td>\n",
              "      <td>Overall Net Capital Flow  (Aug)</td>\n",
              "      <td>None</td>\n",
              "      <td>None</td>\n",
              "      <td>-88.70B</td>\n",
              "    </tr>\n",
              "    <tr>\n",
              "      <th>94</th>\n",
              "      <td>414890</td>\n",
              "      <td>16/10/2020</td>\n",
              "      <td>20:00</td>\n",
              "      <td>united states</td>\n",
              "      <td>USD</td>\n",
              "      <td>medium</td>\n",
              "      <td>TIC Net Long-Term Transactions  (Aug)</td>\n",
              "      <td>None</td>\n",
              "      <td>None</td>\n",
              "      <td>10.8B</td>\n",
              "    </tr>\n",
              "    <tr>\n",
              "      <th>95</th>\n",
              "      <td>414891</td>\n",
              "      <td>16/10/2020</td>\n",
              "      <td>20:00</td>\n",
              "      <td>united states</td>\n",
              "      <td>USD</td>\n",
              "      <td>low</td>\n",
              "      <td>TIC Net Long-Term Transactions including Swaps...</td>\n",
              "      <td>None</td>\n",
              "      <td>None</td>\n",
              "      <td>-29.00B</td>\n",
              "    </tr>\n",
              "  </tbody>\n",
              "</table>\n",
              "<p>96 rows × 10 columns</p>\n",
              "</div>"
            ],
            "text/plain": [
              "        id        date   time  ... actual forecast previous\n",
              "0   415920  16/10/2020  00:01  ...   None     None     60.7\n",
              "1   415450  16/10/2020  00:30  ...   None   10.80%    7.70%\n",
              "2   414908  16/10/2020  00:30  ...   None   -3.00%   10.50%\n",
              "3   414911  16/10/2020  00:30  ...   None     None   5.800B\n",
              "4   415452  16/10/2020  02:00  ...   None     None    36.72\n",
              "..     ...         ...    ...  ...    ...      ...      ...\n",
              "91  416789  16/10/2020  19:30  ...   None     None   174.3K\n",
              "92  414888  16/10/2020  20:00  ...   None     None  -22.80B\n",
              "93  414889  16/10/2020  20:00  ...   None     None  -88.70B\n",
              "94  414890  16/10/2020  20:00  ...   None     None    10.8B\n",
              "95  414891  16/10/2020  20:00  ...   None     None  -29.00B\n",
              "\n",
              "[96 rows x 10 columns]"
            ]
          },
          "metadata": {
            "tags": []
          },
          "execution_count": 2
        }
      ]
    },
    {
      "cell_type": "markdown",
      "metadata": {
        "id": "_hw6PWVP5RlM"
      },
      "source": [
        "## **investpy.technical**\n",
        "\n",
        "`investpy.technical`\n",
        "\n",
        "---\n",
        "\n",
        "###**investpy.technical.moving_averages** *(name, country, product_type, interval='daily')*\n",
        "\n",
        "###**investpy.technical.pivot_points** *(name, country, product_type, interval='daily')*\n",
        "\n",
        "###**investpy.technical.technical_indicators** *(name, country, product_type, interval='daily')*\n",
        "\n",
        "---\n",
        "\n"
      ]
    },
    {
      "cell_type": "markdown",
      "metadata": {
        "id": "384c4gbLw3Yb"
      },
      "source": [
        "###**investpy.technical.moving_averages** *(name, country, product_type, interval='daily')*\n"
      ]
    },
    {
      "cell_type": "code",
      "metadata": {
        "id": "xjRV2TY0wxnS"
      },
      "source": [
        "!pip install investpy"
      ],
      "execution_count": null,
      "outputs": []
    },
    {
      "cell_type": "code",
      "metadata": {
        "id": "MT47YyuFwx5P"
      },
      "source": [
        "import investpy"
      ],
      "execution_count": null,
      "outputs": []
    },
    {
      "cell_type": "code",
      "metadata": {
        "id": "cxhOH5puwxaI",
        "outputId": "8ef91564-3b50-4ed7-ba4e-29b623016e4d",
        "colab": {
          "base_uri": "https://localhost:8080/",
          "height": 235
        }
      },
      "source": [
        "moving_averages = investpy.technical.moving_averages (name = \"PETR4\" , country = \"brazil\", product_type = \"stock\", interval='30mins')\n",
        "moving_averages"
      ],
      "execution_count": null,
      "outputs": [
        {
          "output_type": "execute_result",
          "data": {
            "text/html": [
              "<div>\n",
              "<style scoped>\n",
              "    .dataframe tbody tr th:only-of-type {\n",
              "        vertical-align: middle;\n",
              "    }\n",
              "\n",
              "    .dataframe tbody tr th {\n",
              "        vertical-align: top;\n",
              "    }\n",
              "\n",
              "    .dataframe thead th {\n",
              "        text-align: right;\n",
              "    }\n",
              "</style>\n",
              "<table border=\"1\" class=\"dataframe\">\n",
              "  <thead>\n",
              "    <tr style=\"text-align: right;\">\n",
              "      <th></th>\n",
              "      <th>period</th>\n",
              "      <th>sma_value</th>\n",
              "      <th>sma_signal</th>\n",
              "      <th>ema_value</th>\n",
              "      <th>ema_signal</th>\n",
              "    </tr>\n",
              "  </thead>\n",
              "  <tbody>\n",
              "    <tr>\n",
              "      <th>0</th>\n",
              "      <td>5</td>\n",
              "      <td>19.71</td>\n",
              "      <td>buy</td>\n",
              "      <td>19.70</td>\n",
              "      <td>buy</td>\n",
              "    </tr>\n",
              "    <tr>\n",
              "      <th>1</th>\n",
              "      <td>10</td>\n",
              "      <td>19.67</td>\n",
              "      <td>buy</td>\n",
              "      <td>19.71</td>\n",
              "      <td>buy</td>\n",
              "    </tr>\n",
              "    <tr>\n",
              "      <th>2</th>\n",
              "      <td>20</td>\n",
              "      <td>19.77</td>\n",
              "      <td>sell</td>\n",
              "      <td>19.77</td>\n",
              "      <td>sell</td>\n",
              "    </tr>\n",
              "    <tr>\n",
              "      <th>3</th>\n",
              "      <td>50</td>\n",
              "      <td>19.92</td>\n",
              "      <td>sell</td>\n",
              "      <td>19.88</td>\n",
              "      <td>sell</td>\n",
              "    </tr>\n",
              "    <tr>\n",
              "      <th>4</th>\n",
              "      <td>100</td>\n",
              "      <td>19.98</td>\n",
              "      <td>sell</td>\n",
              "      <td>19.90</td>\n",
              "      <td>sell</td>\n",
              "    </tr>\n",
              "    <tr>\n",
              "      <th>5</th>\n",
              "      <td>200</td>\n",
              "      <td>19.84</td>\n",
              "      <td>sell</td>\n",
              "      <td>20.11</td>\n",
              "      <td>sell</td>\n",
              "    </tr>\n",
              "  </tbody>\n",
              "</table>\n",
              "</div>"
            ],
            "text/plain": [
              "  period  sma_value sma_signal  ema_value ema_signal\n",
              "0      5      19.71        buy      19.70        buy\n",
              "1     10      19.67        buy      19.71        buy\n",
              "2     20      19.77       sell      19.77       sell\n",
              "3     50      19.92       sell      19.88       sell\n",
              "4    100      19.98       sell      19.90       sell\n",
              "5    200      19.84       sell      20.11       sell"
            ]
          },
          "metadata": {
            "tags": []
          },
          "execution_count": 6
        }
      ]
    },
    {
      "cell_type": "markdown",
      "metadata": {
        "id": "qnivM-akzJfx"
      },
      "source": [
        "###**investpy.technical.pivot_points** *(name, country, product_type, interval='daily')*"
      ]
    },
    {
      "cell_type": "code",
      "metadata": {
        "id": "Eyyjp12VzSCW"
      },
      "source": [
        "!pip install investpy"
      ],
      "execution_count": null,
      "outputs": []
    },
    {
      "cell_type": "code",
      "metadata": {
        "id": "zel-QV2rzSOn"
      },
      "source": [
        "import investpy"
      ],
      "execution_count": null,
      "outputs": []
    },
    {
      "cell_type": "code",
      "metadata": {
        "id": "xa2WTao2zR1A",
        "outputId": "da97ae8b-ad23-4520-8e0f-9dd4226da416",
        "colab": {
          "base_uri": "https://localhost:8080/",
          "height": 204
        }
      },
      "source": [
        "pivot_points = investpy.technical.pivot_points (name = \"PETR4\", country = \"brazil\", product_type = \"stock\", interval='5mins')\n",
        "pivot_points"
      ],
      "execution_count": null,
      "outputs": [
        {
          "output_type": "execute_result",
          "data": {
            "text/html": [
              "<div>\n",
              "<style scoped>\n",
              "    .dataframe tbody tr th:only-of-type {\n",
              "        vertical-align: middle;\n",
              "    }\n",
              "\n",
              "    .dataframe tbody tr th {\n",
              "        vertical-align: top;\n",
              "    }\n",
              "\n",
              "    .dataframe thead th {\n",
              "        text-align: right;\n",
              "    }\n",
              "</style>\n",
              "<table border=\"1\" class=\"dataframe\">\n",
              "  <thead>\n",
              "    <tr style=\"text-align: right;\">\n",
              "      <th></th>\n",
              "      <th>name</th>\n",
              "      <th>s3</th>\n",
              "      <th>s2</th>\n",
              "      <th>s1</th>\n",
              "      <th>pivot_points</th>\n",
              "      <th>r1</th>\n",
              "      <th>r2</th>\n",
              "      <th>r3</th>\n",
              "    </tr>\n",
              "  </thead>\n",
              "  <tbody>\n",
              "    <tr>\n",
              "      <th>0</th>\n",
              "      <td>Classic</td>\n",
              "      <td>19.69</td>\n",
              "      <td>19.70</td>\n",
              "      <td>19.71</td>\n",
              "      <td>19.72</td>\n",
              "      <td>19.73</td>\n",
              "      <td>19.74</td>\n",
              "      <td>19.75</td>\n",
              "    </tr>\n",
              "    <tr>\n",
              "      <th>1</th>\n",
              "      <td>Fibonacci</td>\n",
              "      <td>19.70</td>\n",
              "      <td>19.71</td>\n",
              "      <td>19.71</td>\n",
              "      <td>19.72</td>\n",
              "      <td>19.73</td>\n",
              "      <td>19.73</td>\n",
              "      <td>19.74</td>\n",
              "    </tr>\n",
              "    <tr>\n",
              "      <th>2</th>\n",
              "      <td>Camarilla</td>\n",
              "      <td>19.70</td>\n",
              "      <td>19.71</td>\n",
              "      <td>19.71</td>\n",
              "      <td>19.72</td>\n",
              "      <td>19.71</td>\n",
              "      <td>19.71</td>\n",
              "      <td>19.72</td>\n",
              "    </tr>\n",
              "    <tr>\n",
              "      <th>3</th>\n",
              "      <td>Woodie's</td>\n",
              "      <td>19.67</td>\n",
              "      <td>19.69</td>\n",
              "      <td>19.69</td>\n",
              "      <td>19.71</td>\n",
              "      <td>19.71</td>\n",
              "      <td>19.73</td>\n",
              "      <td>19.73</td>\n",
              "    </tr>\n",
              "    <tr>\n",
              "      <th>4</th>\n",
              "      <td>DeMark's</td>\n",
              "      <td>NaN</td>\n",
              "      <td>NaN</td>\n",
              "      <td>19.70</td>\n",
              "      <td>19.71</td>\n",
              "      <td>19.72</td>\n",
              "      <td>NaN</td>\n",
              "      <td>NaN</td>\n",
              "    </tr>\n",
              "  </tbody>\n",
              "</table>\n",
              "</div>"
            ],
            "text/plain": [
              "        name     s3     s2     s1  pivot_points     r1     r2     r3\n",
              "0    Classic  19.69  19.70  19.71         19.72  19.73  19.74  19.75\n",
              "1  Fibonacci  19.70  19.71  19.71         19.72  19.73  19.73  19.74\n",
              "2  Camarilla  19.70  19.71  19.71         19.72  19.71  19.71  19.72\n",
              "3   Woodie's  19.67  19.69  19.69         19.71  19.71  19.73  19.73\n",
              "4   DeMark's    NaN    NaN  19.70         19.71  19.72    NaN    NaN"
            ]
          },
          "metadata": {
            "tags": []
          },
          "execution_count": 8
        }
      ]
    },
    {
      "cell_type": "markdown",
      "metadata": {
        "id": "D-SnVCml0CyV"
      },
      "source": [
        "###**investpy.technical.technical_indicators** *(name, country, product_type, interval='daily')*\n"
      ]
    },
    {
      "cell_type": "code",
      "metadata": {
        "id": "ckKJK-lt0Gfi"
      },
      "source": [
        "!pip install investpy"
      ],
      "execution_count": null,
      "outputs": []
    },
    {
      "cell_type": "code",
      "metadata": {
        "id": "52gjMsED0G5C"
      },
      "source": [
        "import investpy"
      ],
      "execution_count": null,
      "outputs": []
    },
    {
      "cell_type": "code",
      "metadata": {
        "id": "GxkHwRub0GuR",
        "outputId": "f3e40e5a-5874-43ae-9967-bb5419ab4b45",
        "colab": {
          "base_uri": "https://localhost:8080/",
          "height": 421
        }
      },
      "source": [
        "technical_indicators = investpy.technical.technical_indicators (name = \"PETR4\", country = \"brazil\", product_type = \"stock\", interval='daily')\n",
        "technical_indicators"
      ],
      "execution_count": null,
      "outputs": [
        {
          "output_type": "execute_result",
          "data": {
            "text/html": [
              "<div>\n",
              "<style scoped>\n",
              "    .dataframe tbody tr th:only-of-type {\n",
              "        vertical-align: middle;\n",
              "    }\n",
              "\n",
              "    .dataframe tbody tr th {\n",
              "        vertical-align: top;\n",
              "    }\n",
              "\n",
              "    .dataframe thead th {\n",
              "        text-align: right;\n",
              "    }\n",
              "</style>\n",
              "<table border=\"1\" class=\"dataframe\">\n",
              "  <thead>\n",
              "    <tr style=\"text-align: right;\">\n",
              "      <th></th>\n",
              "      <th>technical_indicator</th>\n",
              "      <th>value</th>\n",
              "      <th>signal</th>\n",
              "    </tr>\n",
              "  </thead>\n",
              "  <tbody>\n",
              "    <tr>\n",
              "      <th>0</th>\n",
              "      <td>RSI(14)</td>\n",
              "      <td>41.7250</td>\n",
              "      <td>sell</td>\n",
              "    </tr>\n",
              "    <tr>\n",
              "      <th>1</th>\n",
              "      <td>STOCH(9,6)</td>\n",
              "      <td>57.3850</td>\n",
              "      <td>buy</td>\n",
              "    </tr>\n",
              "    <tr>\n",
              "      <th>2</th>\n",
              "      <td>STOCHRSI(14)</td>\n",
              "      <td>74.8420</td>\n",
              "      <td>buy</td>\n",
              "    </tr>\n",
              "    <tr>\n",
              "      <th>3</th>\n",
              "      <td>MACD(12,26)</td>\n",
              "      <td>-0.4900</td>\n",
              "      <td>sell</td>\n",
              "    </tr>\n",
              "    <tr>\n",
              "      <th>4</th>\n",
              "      <td>ADX(14)</td>\n",
              "      <td>38.0520</td>\n",
              "      <td>sell</td>\n",
              "    </tr>\n",
              "    <tr>\n",
              "      <th>5</th>\n",
              "      <td>Williams %R</td>\n",
              "      <td>-56.8860</td>\n",
              "      <td>sell</td>\n",
              "    </tr>\n",
              "    <tr>\n",
              "      <th>6</th>\n",
              "      <td>CCI(14)</td>\n",
              "      <td>-73.6482</td>\n",
              "      <td>sell</td>\n",
              "    </tr>\n",
              "    <tr>\n",
              "      <th>7</th>\n",
              "      <td>ATR(14)</td>\n",
              "      <td>0.6886</td>\n",
              "      <td>less_volatility</td>\n",
              "    </tr>\n",
              "    <tr>\n",
              "      <th>8</th>\n",
              "      <td>Highs/Lows(14)</td>\n",
              "      <td>0.0000</td>\n",
              "      <td>neutral</td>\n",
              "    </tr>\n",
              "    <tr>\n",
              "      <th>9</th>\n",
              "      <td>Ultimate Oscillator</td>\n",
              "      <td>39.8510</td>\n",
              "      <td>sell</td>\n",
              "    </tr>\n",
              "    <tr>\n",
              "      <th>10</th>\n",
              "      <td>ROC</td>\n",
              "      <td>-3.2350</td>\n",
              "      <td>sell</td>\n",
              "    </tr>\n",
              "    <tr>\n",
              "      <th>11</th>\n",
              "      <td>Bull/Bear Power(13)</td>\n",
              "      <td>-0.9460</td>\n",
              "      <td>sell</td>\n",
              "    </tr>\n",
              "  </tbody>\n",
              "</table>\n",
              "</div>"
            ],
            "text/plain": [
              "    technical_indicator    value           signal\n",
              "0               RSI(14)  41.7250             sell\n",
              "1            STOCH(9,6)  57.3850              buy\n",
              "2          STOCHRSI(14)  74.8420              buy\n",
              "3           MACD(12,26)  -0.4900             sell\n",
              "4               ADX(14)  38.0520             sell\n",
              "5           Williams %R -56.8860             sell\n",
              "6               CCI(14) -73.6482             sell\n",
              "7               ATR(14)   0.6886  less_volatility\n",
              "8        Highs/Lows(14)   0.0000          neutral\n",
              "9   Ultimate Oscillator  39.8510             sell\n",
              "10                  ROC  -3.2350             sell\n",
              "11  Bull/Bear Power(13)  -0.9460             sell"
            ]
          },
          "metadata": {
            "tags": []
          },
          "execution_count": 13
        }
      ]
    },
    {
      "cell_type": "markdown",
      "metadata": {
        "id": "XqPZrlo_5X5W"
      },
      "source": [
        "## **investpy.search**\n",
        "\n",
        "`investpy.search`\n",
        "\n",
        "---"
      ]
    },
    {
      "cell_type": "markdown",
      "metadata": {
        "id": "E1PuPRTh5qVm"
      },
      "source": [
        "# Informação adicional"
      ]
    },
    {
      "cell_type": "markdown",
      "metadata": {
        "id": "S2qhdCzo5wmq"
      },
      "source": [
        "# Perguntas frequentes - FAQs"
      ]
    }
  ]
}